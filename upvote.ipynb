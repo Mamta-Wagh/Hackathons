{
 "cells": [
  {
   "cell_type": "code",
   "execution_count": 6,
   "metadata": {},
   "outputs": [],
   "source": [
    "import pandas as pd\n",
    "import numpy as np\n",
    "import seaborn as sns\n",
    "import matplotlib.pyplot as plt\n",
    "df1=pd.read_csv(\"D://z_vote_train.csv\")\n",
    "df1.drop(df1[df1['Views'] >300000].index, inplace = True)\n",
    "df2=pd.read_csv(\"D://z_vote_test.csv\")\n",
    "df=pd.concat([df1,df2],keys=(\"train\",\"test\"))"
   ]
  },
  {
   "cell_type": "code",
   "execution_count": 7,
   "metadata": {},
   "outputs": [
    {
     "data": {
      "text/html": [
       "<div>\n",
       "<style scoped>\n",
       "    .dataframe tbody tr th:only-of-type {\n",
       "        vertical-align: middle;\n",
       "    }\n",
       "\n",
       "    .dataframe tbody tr th {\n",
       "        vertical-align: top;\n",
       "    }\n",
       "\n",
       "    .dataframe thead th {\n",
       "        text-align: right;\n",
       "    }\n",
       "</style>\n",
       "<table border=\"1\" class=\"dataframe\">\n",
       "  <thead>\n",
       "    <tr style=\"text-align: right;\">\n",
       "      <th></th>\n",
       "      <th></th>\n",
       "      <th>ID</th>\n",
       "      <th>Tag</th>\n",
       "      <th>Reputation</th>\n",
       "      <th>Answers</th>\n",
       "      <th>Username</th>\n",
       "      <th>Views</th>\n",
       "      <th>Upvotes</th>\n",
       "    </tr>\n",
       "  </thead>\n",
       "  <tbody>\n",
       "    <tr>\n",
       "      <th rowspan=\"10\" valign=\"top\">train</th>\n",
       "      <th>0</th>\n",
       "      <td>52664</td>\n",
       "      <td>a</td>\n",
       "      <td>3942.0</td>\n",
       "      <td>2.0</td>\n",
       "      <td>155623</td>\n",
       "      <td>7855.0</td>\n",
       "      <td>42.0</td>\n",
       "    </tr>\n",
       "    <tr>\n",
       "      <th>1</th>\n",
       "      <td>327662</td>\n",
       "      <td>a</td>\n",
       "      <td>26046.0</td>\n",
       "      <td>12.0</td>\n",
       "      <td>21781</td>\n",
       "      <td>55801.0</td>\n",
       "      <td>1175.0</td>\n",
       "    </tr>\n",
       "    <tr>\n",
       "      <th>2</th>\n",
       "      <td>468453</td>\n",
       "      <td>c</td>\n",
       "      <td>1358.0</td>\n",
       "      <td>4.0</td>\n",
       "      <td>56177</td>\n",
       "      <td>8067.0</td>\n",
       "      <td>60.0</td>\n",
       "    </tr>\n",
       "    <tr>\n",
       "      <th>3</th>\n",
       "      <td>96996</td>\n",
       "      <td>a</td>\n",
       "      <td>264.0</td>\n",
       "      <td>3.0</td>\n",
       "      <td>168793</td>\n",
       "      <td>27064.0</td>\n",
       "      <td>9.0</td>\n",
       "    </tr>\n",
       "    <tr>\n",
       "      <th>4</th>\n",
       "      <td>131465</td>\n",
       "      <td>c</td>\n",
       "      <td>4271.0</td>\n",
       "      <td>4.0</td>\n",
       "      <td>112223</td>\n",
       "      <td>13986.0</td>\n",
       "      <td>83.0</td>\n",
       "    </tr>\n",
       "    <tr>\n",
       "      <th>5</th>\n",
       "      <td>345568</td>\n",
       "      <td>r</td>\n",
       "      <td>440.0</td>\n",
       "      <td>1.0</td>\n",
       "      <td>23866</td>\n",
       "      <td>5577.0</td>\n",
       "      <td>4.0</td>\n",
       "    </tr>\n",
       "    <tr>\n",
       "      <th>6</th>\n",
       "      <td>376865</td>\n",
       "      <td>c</td>\n",
       "      <td>147.0</td>\n",
       "      <td>1.0</td>\n",
       "      <td>10759</td>\n",
       "      <td>17184.0</td>\n",
       "      <td>17.0</td>\n",
       "    </tr>\n",
       "    <tr>\n",
       "      <th>7</th>\n",
       "      <td>467378</td>\n",
       "      <td>j</td>\n",
       "      <td>2269.0</td>\n",
       "      <td>2.0</td>\n",
       "      <td>54623</td>\n",
       "      <td>312.0</td>\n",
       "      <td>3.0</td>\n",
       "    </tr>\n",
       "    <tr>\n",
       "      <th>8</th>\n",
       "      <td>393640</td>\n",
       "      <td>j</td>\n",
       "      <td>111.0</td>\n",
       "      <td>2.0</td>\n",
       "      <td>172926</td>\n",
       "      <td>53738.0</td>\n",
       "      <td>79.0</td>\n",
       "    </tr>\n",
       "    <tr>\n",
       "      <th>9</th>\n",
       "      <td>130054</td>\n",
       "      <td>c</td>\n",
       "      <td>2749.0</td>\n",
       "      <td>1.0</td>\n",
       "      <td>10189</td>\n",
       "      <td>227.0</td>\n",
       "      <td>0.0</td>\n",
       "    </tr>\n",
       "  </tbody>\n",
       "</table>\n",
       "</div>"
      ],
      "text/plain": [
       "             ID Tag  Reputation  Answers  Username    Views  Upvotes\n",
       "train 0   52664   a      3942.0      2.0    155623   7855.0     42.0\n",
       "      1  327662   a     26046.0     12.0     21781  55801.0   1175.0\n",
       "      2  468453   c      1358.0      4.0     56177   8067.0     60.0\n",
       "      3   96996   a       264.0      3.0    168793  27064.0      9.0\n",
       "      4  131465   c      4271.0      4.0    112223  13986.0     83.0\n",
       "      5  345568   r       440.0      1.0     23866   5577.0      4.0\n",
       "      6  376865   c       147.0      1.0     10759  17184.0     17.0\n",
       "      7  467378   j      2269.0      2.0     54623    312.0      3.0\n",
       "      8  393640   j       111.0      2.0    172926  53738.0     79.0\n",
       "      9  130054   c      2749.0      1.0     10189    227.0      0.0"
      ]
     },
     "execution_count": 7,
     "metadata": {},
     "output_type": "execute_result"
    }
   ],
   "source": [
    "df.head(10)"
   ]
  },
  {
   "cell_type": "code",
   "execution_count": 8,
   "metadata": {},
   "outputs": [
    {
     "data": {
      "text/plain": [
       "c    102609\n",
       "j    101553\n",
       "p     61544\n",
       "i     46467\n",
       "a     44949\n",
       "s     33171\n",
       "h     29012\n",
       "o     20826\n",
       "r     17728\n",
       "x      9950\n",
       "Name: Tag, dtype: int64"
      ]
     },
     "execution_count": 8,
     "metadata": {},
     "output_type": "execute_result"
    }
   ],
   "source": [
    "df.Tag.value_counts()"
   ]
  },
  {
   "cell_type": "code",
   "execution_count": 9,
   "metadata": {
    "scrolled": true
   },
   "outputs": [
    {
     "data": {
      "text/plain": [
       "ID                 0\n",
       "Tag                0\n",
       "Reputation         0\n",
       "Answers            0\n",
       "Username           0\n",
       "Views              0\n",
       "Upvotes       141448\n",
       "dtype: int64"
      ]
     },
     "execution_count": 9,
     "metadata": {},
     "output_type": "execute_result"
    }
   ],
   "source": [
    "df.isnull().sum()\n",
    "#sns.pairplot(df)"
   ]
  },
  {
   "cell_type": "code",
   "execution_count": 10,
   "metadata": {},
   "outputs": [
    {
     "data": {
      "text/plain": [
       "0.0"
      ]
     },
     "execution_count": 10,
     "metadata": {},
     "output_type": "execute_result"
    }
   ],
   "source": [
    "df.Upvotes.min()"
   ]
  },
  {
   "cell_type": "code",
   "execution_count": 11,
   "metadata": {},
   "outputs": [
    {
     "data": {
      "text/html": [
       "<div>\n",
       "<style scoped>\n",
       "    .dataframe tbody tr th:only-of-type {\n",
       "        vertical-align: middle;\n",
       "    }\n",
       "\n",
       "    .dataframe tbody tr th {\n",
       "        vertical-align: top;\n",
       "    }\n",
       "\n",
       "    .dataframe thead th {\n",
       "        text-align: right;\n",
       "    }\n",
       "</style>\n",
       "<table border=\"1\" class=\"dataframe\">\n",
       "  <thead>\n",
       "    <tr style=\"text-align: right;\">\n",
       "      <th></th>\n",
       "      <th>ID</th>\n",
       "      <th>Reputation</th>\n",
       "      <th>Answers</th>\n",
       "      <th>Username</th>\n",
       "      <th>Views</th>\n",
       "      <th>Upvotes</th>\n",
       "    </tr>\n",
       "  </thead>\n",
       "  <tbody>\n",
       "    <tr>\n",
       "      <th>ID</th>\n",
       "      <td>1.000000</td>\n",
       "      <td>0.008374</td>\n",
       "      <td>0.015643</td>\n",
       "      <td>0.000180</td>\n",
       "      <td>0.018911</td>\n",
       "      <td>0.007367</td>\n",
       "    </tr>\n",
       "    <tr>\n",
       "      <th>Reputation</th>\n",
       "      <td>0.008374</td>\n",
       "      <td>1.000000</td>\n",
       "      <td>0.063705</td>\n",
       "      <td>-0.040878</td>\n",
       "      <td>0.028102</td>\n",
       "      <td>0.444339</td>\n",
       "    </tr>\n",
       "    <tr>\n",
       "      <th>Answers</th>\n",
       "      <td>0.015643</td>\n",
       "      <td>0.063705</td>\n",
       "      <td>1.000000</td>\n",
       "      <td>-0.013146</td>\n",
       "      <td>0.494513</td>\n",
       "      <td>0.182285</td>\n",
       "    </tr>\n",
       "    <tr>\n",
       "      <th>Username</th>\n",
       "      <td>0.000180</td>\n",
       "      <td>-0.040878</td>\n",
       "      <td>-0.013146</td>\n",
       "      <td>1.000000</td>\n",
       "      <td>0.001714</td>\n",
       "      <td>-0.018170</td>\n",
       "    </tr>\n",
       "    <tr>\n",
       "      <th>Views</th>\n",
       "      <td>0.018911</td>\n",
       "      <td>0.028102</td>\n",
       "      <td>0.494513</td>\n",
       "      <td>0.001714</td>\n",
       "      <td>1.000000</td>\n",
       "      <td>0.292787</td>\n",
       "    </tr>\n",
       "    <tr>\n",
       "      <th>Upvotes</th>\n",
       "      <td>0.007367</td>\n",
       "      <td>0.444339</td>\n",
       "      <td>0.182285</td>\n",
       "      <td>-0.018170</td>\n",
       "      <td>0.292787</td>\n",
       "      <td>1.000000</td>\n",
       "    </tr>\n",
       "  </tbody>\n",
       "</table>\n",
       "</div>"
      ],
      "text/plain": [
       "                  ID  Reputation   Answers  Username     Views   Upvotes\n",
       "ID          1.000000    0.008374  0.015643  0.000180  0.018911  0.007367\n",
       "Reputation  0.008374    1.000000  0.063705 -0.040878  0.028102  0.444339\n",
       "Answers     0.015643    0.063705  1.000000 -0.013146  0.494513  0.182285\n",
       "Username    0.000180   -0.040878 -0.013146  1.000000  0.001714 -0.018170\n",
       "Views       0.018911    0.028102  0.494513  0.001714  1.000000  0.292787\n",
       "Upvotes     0.007367    0.444339  0.182285 -0.018170  0.292787  1.000000"
      ]
     },
     "execution_count": 11,
     "metadata": {},
     "output_type": "execute_result"
    }
   ],
   "source": [
    "df.corr()"
   ]
  },
  {
   "cell_type": "code",
   "execution_count": 12,
   "metadata": {},
   "outputs": [
    {
     "data": {
      "text/plain": [
       "77.0        146\n",
       "70.0        135\n",
       "98.0        133\n",
       "62.0        132\n",
       "71.0        130\n",
       "           ... \n",
       "84747.0       1\n",
       "84746.0       1\n",
       "69104.0       1\n",
       "169489.0      1\n",
       "65535.0       1\n",
       "Name: Views, Length: 94171, dtype: int64"
      ]
     },
     "execution_count": 12,
     "metadata": {},
     "output_type": "execute_result"
    }
   ],
   "source": [
    "df.Views.value_counts()"
   ]
  },
  {
   "cell_type": "code",
   "execution_count": 13,
   "metadata": {},
   "outputs": [],
   "source": [
    "#sns.pairplot(df)"
   ]
  },
  {
   "cell_type": "code",
   "execution_count": 14,
   "metadata": {},
   "outputs": [],
   "source": [
    "df_dum=pd.get_dummies(df[df.select_dtypes(include=[\"object\"]).columns.tolist()])\n",
    "df_num=df[df.select_dtypes(include=[\"number\"]).columns.tolist()]\n",
    "df=pd.concat([df_num,df_dum],axis=1)"
   ]
  },
  {
   "cell_type": "code",
   "execution_count": 15,
   "metadata": {},
   "outputs": [],
   "source": [
    "x=df.drop([\"Upvotes\",\"Username\",\"ID\"],axis=1)\n",
    "y=df[\"Upvotes\"]\n",
    "x_train=x.iloc[:326361,:]\n",
    "y_train=y.iloc[:326361]\n",
    "x_test=x.iloc[326361:,:]\n",
    "y_test=y.iloc[326361:]"
   ]
  },
  {
   "cell_type": "code",
   "execution_count": 16,
   "metadata": {},
   "outputs": [
    {
     "data": {
      "text/plain": [
       "0"
      ]
     },
     "execution_count": 16,
     "metadata": {},
     "output_type": "execute_result"
    }
   ],
   "source": [
    "y_train.isnull().sum()"
   ]
  },
  {
   "cell_type": "code",
   "execution_count": null,
   "metadata": {},
   "outputs": [],
   "source": [
    "from sklearn.preprocessing import PolynomialFeatures\n",
    "from sklearn.linear_model import LinearRegression\n",
    "reg=PolynomialFeatures(degree=4)\n",
    "x_poly=reg.fit_transform(x_train)\n",
    "x_test1=reg.fit_transform(x_test)"
   ]
  },
  {
   "cell_type": "code",
   "execution_count": 20,
   "metadata": {},
   "outputs": [
    {
     "data": {
      "text/plain": [
       "LinearRegression(copy_X=True, fit_intercept=True, n_jobs=None, normalize=False)"
      ]
     },
     "execution_count": 20,
     "metadata": {},
     "output_type": "execute_result"
    }
   ],
   "source": [
    "\n",
    "reg=LinearRegression()\n",
    "reg.fit(x_poly,y_train)"
   ]
  },
  {
   "cell_type": "code",
   "execution_count": 21,
   "metadata": {},
   "outputs": [],
   "source": [
    "p=reg.score(x_poly,y_train)"
   ]
  },
  {
   "cell_type": "code",
   "execution_count": 22,
   "metadata": {},
   "outputs": [
    {
     "name": "stdout",
     "output_type": "stream",
     "text": [
      "coefficiant [ 2.64021165e-08 -5.47111885e-05  1.80545113e+00  8.02786502e-05\n",
      "  1.08148029e+00 -9.43476154e-01 -1.38385204e+00 -5.02053431e+00\n",
      " -1.17893334e+00 -2.51964261e+00 -4.65156917e+00  4.34819460e+00\n",
      "  2.19323458e+00  8.07510650e+00  3.43894246e-10 -1.30677985e-04\n",
      "  1.04046636e-06  9.17347500e-04  1.49709198e-04  1.21892982e-03\n",
      "  1.53120782e-03 -7.00852925e-04 -1.13647297e-04 -7.59264049e-05\n",
      " -1.58502242e-04 -2.45920593e-04 -2.52134228e-03  5.92726399e-03\n",
      " -1.38885807e-05  7.69362748e-01  6.17312848e-01 -3.80539320e+00\n",
      "  2.57332669e-01  4.02608437e+00 -5.73458894e-01  4.34437689e+00\n",
      " -4.41026869e+00 -1.62914812e-02  5.96417035e-01 -1.87911575e-10\n",
      " -5.79979314e-05  2.41900370e-04  4.65080119e-04  1.37597070e-04\n",
      "  3.81688217e-05  5.94191737e-04 -4.18456318e-05 -9.82395568e-05\n",
      " -2.87328383e-04 -9.06293524e-04  1.08148398e+00  0.00000000e+00\n",
      "  0.00000000e+00  0.00000000e+00  0.00000000e+00  0.00000000e+00\n",
      "  0.00000000e+00  0.00000000e+00  0.00000000e+00  0.00000000e+00\n",
      " -9.43485608e-01  0.00000000e+00  0.00000000e+00  0.00000000e+00\n",
      "  0.00000000e+00  0.00000000e+00  0.00000000e+00  0.00000000e+00\n",
      "  0.00000000e+00 -1.38385127e+00  0.00000000e+00  0.00000000e+00\n",
      "  0.00000000e+00  0.00000000e+00  0.00000000e+00  0.00000000e+00\n",
      "  0.00000000e+00 -5.02053401e+00  0.00000000e+00  0.00000000e+00\n",
      "  0.00000000e+00  0.00000000e+00  0.00000000e+00  0.00000000e+00\n",
      " -1.17892844e+00  0.00000000e+00  0.00000000e+00  0.00000000e+00\n",
      "  0.00000000e+00  0.00000000e+00 -2.51963756e+00  0.00000000e+00\n",
      "  0.00000000e+00  0.00000000e+00  0.00000000e+00 -4.65156990e+00\n",
      "  0.00000000e+00  0.00000000e+00  0.00000000e+00  4.34817875e+00\n",
      "  0.00000000e+00  0.00000000e+00  2.19323507e+00  0.00000000e+00\n",
      "  8.07510898e+00]\n"
     ]
    }
   ],
   "source": [
    "print(\"coefficiant\",reg.coef_)"
   ]
  },
  {
   "cell_type": "code",
   "execution_count": 23,
   "metadata": {},
   "outputs": [
    {
     "name": "stdout",
     "output_type": "stream",
     "text": [
      "Intercept 10.182721915749681\n"
     ]
    }
   ],
   "source": [
    "print(\"Intercept\",reg.intercept_)"
   ]
  },
  {
   "cell_type": "code",
   "execution_count": 24,
   "metadata": {},
   "outputs": [],
   "source": [
    "y_train_pred=reg.predict(x_poly)"
   ]
  },
  {
   "cell_type": "code",
   "execution_count": 25,
   "metadata": {},
   "outputs": [
    {
     "name": "stderr",
     "output_type": "stream",
     "text": [
      "C:\\Users\\Admin\\anaconda3\\lib\\site-packages\\statsmodels\\base\\model.py:1362: RuntimeWarning: invalid value encountered in true_divide\n",
      "  return self.params / self.bse\n",
      "C:\\Users\\Admin\\anaconda3\\lib\\site-packages\\scipy\\stats\\_distn_infrastructure.py:903: RuntimeWarning: invalid value encountered in greater\n",
      "  return (a < x) & (x < b)\n",
      "C:\\Users\\Admin\\anaconda3\\lib\\site-packages\\scipy\\stats\\_distn_infrastructure.py:903: RuntimeWarning: invalid value encountered in less\n",
      "  return (a < x) & (x < b)\n",
      "C:\\Users\\Admin\\anaconda3\\lib\\site-packages\\scipy\\stats\\_distn_infrastructure.py:1912: RuntimeWarning: invalid value encountered in less_equal\n",
      "  cond2 = cond0 & (x <= _a)\n"
     ]
    },
    {
     "name": "stdout",
     "output_type": "stream",
     "text": [
      "                            OLS Regression Results                            \n",
      "==============================================================================\n",
      "Dep. Variable:                Upvotes   R-squared:                       0.895\n",
      "Model:                            OLS   Adj. R-squared:                  0.895\n",
      "Method:                 Least Squares   F-statistic:                 6.185e+04\n",
      "Date:                Thu, 19 Mar 2020   Prob (F-statistic):               0.00\n",
      "Time:                        13:11:10   Log-Likelihood:            -2.4611e+06\n",
      "No. Observations:              326361   AIC:                         4.922e+06\n",
      "Df Residuals:                  326315   BIC:                         4.923e+06\n",
      "Df Model:                          45                                         \n",
      "Covariance Type:            nonrobust                                         \n",
      "==============================================================================\n",
      "                 coef    std err          t      P>|t|      [0.025      0.975]\n",
      "------------------------------------------------------------------------------\n",
      "const          8.4856      1.563      5.431      0.000       5.423      11.548\n",
      "x1          -5.37e-05   6.57e-05     -0.818      0.413      -0.000     7.5e-05\n",
      "x2             1.8055      0.595      3.035      0.002       0.639       2.972\n",
      "x3          8.139e-05   5.78e-05      1.408      0.159   -3.19e-05       0.000\n",
      "x4             1.9300      1.943      0.993      0.320      -1.878       5.738\n",
      "x5            -0.0949      1.427     -0.067      0.947      -2.892       2.702\n",
      "x6            -0.5353      2.446     -0.219      0.827      -5.329       4.258\n",
      "x7            -4.1720      1.848     -2.257      0.024      -7.795      -0.549\n",
      "x8            -0.3304      1.425     -0.232      0.817      -3.123       2.462\n",
      "x9            -1.6711      2.740     -0.610      0.542      -7.041       3.698\n",
      "x10           -3.8030      1.753     -2.170      0.030      -7.239      -0.367\n",
      "x11            5.1967      3.204      1.622      0.105      -1.084      11.477\n",
      "x12            3.0418      2.151      1.414      0.157      -1.174       7.257\n",
      "x13            8.9237      4.025      2.217      0.027       1.035      16.812\n",
      "x14         3.439e-10   1.32e-10      2.601      0.009    8.48e-11    6.03e-10\n",
      "x15           -0.0001   9.78e-06    -13.364      0.000      -0.000      -0.000\n",
      "x16          1.04e-06   8.86e-10   1174.047      0.000    1.04e-06    1.04e-06\n",
      "x17            0.0009      0.000      8.189      0.000       0.001       0.001\n",
      "x18            0.0001   6.79e-05      2.188      0.029    1.55e-05       0.000\n",
      "x19            0.0012      0.000      9.602      0.000       0.001       0.001\n",
      "x20            0.0015      0.000      9.504      0.000       0.001       0.002\n",
      "x21           -0.0007    7.5e-05     -9.358      0.000      -0.001      -0.001\n",
      "x22           -0.0001      0.000     -0.471      0.637      -0.001       0.000\n",
      "x23        -7.694e-05   8.71e-05     -0.883      0.377      -0.000    9.38e-05\n",
      "x24           -0.0002      0.000     -0.659      0.510      -0.001       0.000\n",
      "x25           -0.0002      0.000     -2.084      0.037      -0.000   -1.47e-05\n",
      "x26           -0.0025      0.000    -11.040      0.000      -0.003      -0.002\n",
      "x27            0.0059      0.034      0.173      0.862      -0.061       0.073\n",
      "x28        -1.389e-05   5.52e-06     -2.516      0.012   -2.47e-05   -3.07e-06\n",
      "x29            0.7694      0.910      0.845      0.398      -1.015       2.553\n",
      "x30            0.6173      0.700      0.882      0.378      -0.754       1.989\n",
      "x31           -3.8054      1.258     -3.026      0.002      -6.270      -1.340\n",
      "x32            0.2573      0.966      0.266      0.790      -1.636       2.151\n",
      "x33            4.0261      0.697      5.775      0.000       2.660       5.393\n",
      "x34           -0.5735      1.492     -0.384      0.701      -3.498       2.351\n",
      "x35            4.3444      0.858      5.061      0.000       2.662       6.027\n",
      "x36           -4.4103      2.406     -1.833      0.067      -9.126       0.306\n",
      "x37           -0.0163      1.083     -0.015      0.988      -2.140       2.107\n",
      "x38            0.5964      2.545      0.234      0.815      -4.392       5.585\n",
      "x39        -1.879e-10   2.99e-10     -0.628      0.530   -7.75e-10    3.99e-10\n",
      "x40        -5.911e-05   8.09e-05     -0.731      0.465      -0.000    9.94e-05\n",
      "x41            0.0002   5.97e-05      4.033      0.000       0.000       0.000\n",
      "x42            0.0005   8.66e-05      5.357      0.000       0.000       0.001\n",
      "x43            0.0001      0.000      1.135      0.257   -9.93e-05       0.000\n",
      "x44         3.706e-05   5.49e-05      0.675      0.500   -7.06e-05       0.000\n",
      "x45            0.0006      0.000      3.171      0.002       0.000       0.001\n",
      "x46        -4.296e-05   6.76e-05     -0.635      0.525      -0.000    8.96e-05\n",
      "x47        -9.935e-05      0.000     -0.603      0.547      -0.000       0.000\n",
      "x48           -0.0003   9.27e-05     -3.110      0.002      -0.000      -0.000\n",
      "x49           -0.0009      0.000     -4.473      0.000      -0.001      -0.001\n",
      "x50            1.9300      1.943      0.993      0.320      -1.878       5.738\n",
      "x51                 0          0        nan        nan           0           0\n",
      "x52                 0          0        nan        nan           0           0\n",
      "x53                 0          0        nan        nan           0           0\n",
      "x54                 0          0        nan        nan           0           0\n",
      "x55                 0          0        nan        nan           0           0\n",
      "x56                 0          0        nan        nan           0           0\n",
      "x57                 0          0        nan        nan           0           0\n",
      "x58                 0          0        nan        nan           0           0\n",
      "x59                 0          0        nan        nan           0           0\n",
      "x60           -0.0949      1.427     -0.067      0.947      -2.892       2.702\n",
      "x61                 0          0        nan        nan           0           0\n",
      "x62                 0          0        nan        nan           0           0\n",
      "x63                 0          0        nan        nan           0           0\n",
      "x64                 0          0        nan        nan           0           0\n",
      "x65                 0          0        nan        nan           0           0\n",
      "x66                 0          0        nan        nan           0           0\n",
      "x67                 0          0        nan        nan           0           0\n",
      "x68                 0          0        nan        nan           0           0\n",
      "x69           -0.5353      2.446     -0.219      0.827      -5.329       4.258\n",
      "x70                 0          0        nan        nan           0           0\n",
      "x71                 0          0        nan        nan           0           0\n",
      "x72                 0          0        nan        nan           0           0\n",
      "x73                 0          0        nan        nan           0           0\n",
      "x74                 0          0        nan        nan           0           0\n",
      "x75                 0          0        nan        nan           0           0\n",
      "x76                 0          0        nan        nan           0           0\n",
      "x77           -4.1720      1.848     -2.257      0.024      -7.795      -0.549\n",
      "x78                 0          0        nan        nan           0           0\n",
      "x79                 0          0        nan        nan           0           0\n",
      "x80                 0          0        nan        nan           0           0\n",
      "x81                 0          0        nan        nan           0           0\n",
      "x82                 0          0        nan        nan           0           0\n",
      "x83                 0          0        nan        nan           0           0\n",
      "x84           -0.3304      1.425     -0.232      0.817      -3.123       2.462\n",
      "x85                 0          0        nan        nan           0           0\n",
      "x86                 0          0        nan        nan           0           0\n",
      "x87                 0          0        nan        nan           0           0\n",
      "x88                 0          0        nan        nan           0           0\n",
      "x89                 0          0        nan        nan           0           0\n",
      "x90           -1.6711      2.740     -0.610      0.542      -7.041       3.698\n",
      "x91                 0          0        nan        nan           0           0\n",
      "x92                 0          0        nan        nan           0           0\n",
      "x93                 0          0        nan        nan           0           0\n",
      "x94                 0          0        nan        nan           0           0\n",
      "x95           -3.8030      1.753     -2.170      0.030      -7.239      -0.367\n",
      "x96                 0          0        nan        nan           0           0\n",
      "x97                 0          0        nan        nan           0           0\n",
      "x98                 0          0        nan        nan           0           0\n",
      "x99            5.1967      3.204      1.622      0.105      -1.084      11.477\n",
      "x100                0          0        nan        nan           0           0\n",
      "x101                0          0        nan        nan           0           0\n",
      "x102           3.0418      2.151      1.414      0.157      -1.174       7.257\n",
      "x103                0          0        nan        nan           0           0\n",
      "x104           8.9237      4.025      2.217      0.027       1.035      16.812\n",
      "==============================================================================\n",
      "Omnibus:                   589360.371   Durbin-Watson:                   1.998\n",
      "Prob(Omnibus):                  0.000   Jarque-Bera (JB):     111798159117.259\n",
      "Skew:                          11.486   Prob(JB):                         0.00\n",
      "Kurtosis:                    2870.212   Cond. No.                     1.07e+16\n",
      "==============================================================================\n",
      "\n",
      "Warnings:\n",
      "[1] Standard Errors assume that the covariance matrix of the errors is correctly specified.\n",
      "[2] The condition number is large, 1.07e+16. This might indicate that there are\n",
      "strong multicollinearity or other numerical problems.\n"
     ]
    }
   ],
   "source": [
    "import statsmodels.api as sm\n",
    "lm_1=sm.OLS(y_train,x_poly).fit()\n",
    "lm_1.params\n",
    "print(lm_1.summary())"
   ]
  },
  {
   "cell_type": "code",
   "execution_count": 28,
   "metadata": {},
   "outputs": [],
   "source": [
    "y_pred=reg.predict(x_test1)"
   ]
  },
  {
   "cell_type": "code",
   "execution_count": 29,
   "metadata": {},
   "outputs": [],
   "source": [
    "d1=pd.DataFrame(df2[\"ID\"])\n",
    "d2=pd.DataFrame(y_pred)\n",
    "d3=pd.concat([d1,d2],axis=1)\n",
    "d3.to_csv(\"E:/Vote2.csv\")"
   ]
  },
  {
   "cell_type": "code",
   "execution_count": null,
   "metadata": {},
   "outputs": [],
   "source": []
  }
 ],
 "metadata": {
  "kernelspec": {
   "display_name": "Python 3",
   "language": "python",
   "name": "python3"
  },
  "language_info": {
   "codemirror_mode": {
    "name": "ipython",
    "version": 3
   },
   "file_extension": ".py",
   "mimetype": "text/x-python",
   "name": "python",
   "nbconvert_exporter": "python",
   "pygments_lexer": "ipython3",
   "version": "3.7.6"
  }
 },
 "nbformat": 4,
 "nbformat_minor": 2
}
