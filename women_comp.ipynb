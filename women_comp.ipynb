{
 "cells": [
  {
   "cell_type": "code",
   "execution_count": 1,
   "metadata": {},
   "outputs": [],
   "source": [
    "import pandas as pd\n",
    "import numpy as np\n",
    "import seaborn as sns\n",
    "import matplotlib.pyplot as plt\n",
    "df1=pd.read_csv(\"D://mamta/women_train.csv\")\n",
    "df2=pd.read_csv(\"D://mamta/women_test.csv\")\n",
    "df=pd.concat([df1,df2],keys=(\"train\",\"test\"))"
   ]
  },
  {
   "cell_type": "code",
   "execution_count": 2,
   "metadata": {},
   "outputs": [
    {
     "data": {
      "text/html": [
       "<div>\n",
       "<style scoped>\n",
       "    .dataframe tbody tr th:only-of-type {\n",
       "        vertical-align: middle;\n",
       "    }\n",
       "\n",
       "    .dataframe tbody tr th {\n",
       "        vertical-align: top;\n",
       "    }\n",
       "\n",
       "    .dataframe thead th {\n",
       "        text-align: right;\n",
       "    }\n",
       "</style>\n",
       "<table border=\"1\" class=\"dataframe\">\n",
       "  <thead>\n",
       "    <tr style=\"text-align: right;\">\n",
       "      <th></th>\n",
       "      <th></th>\n",
       "      <th>ID</th>\n",
       "      <th>Day_No</th>\n",
       "      <th>Course_ID</th>\n",
       "      <th>Course_Domain</th>\n",
       "      <th>Course_Type</th>\n",
       "      <th>Short_Promotion</th>\n",
       "      <th>Public_Holiday</th>\n",
       "      <th>Long_Promotion</th>\n",
       "      <th>User_Traffic</th>\n",
       "      <th>Competition_Metric</th>\n",
       "      <th>Sales</th>\n",
       "    </tr>\n",
       "  </thead>\n",
       "  <tbody>\n",
       "    <tr>\n",
       "      <th rowspan=\"5\" valign=\"top\">test</th>\n",
       "      <th>35995</th>\n",
       "      <td>548083</td>\n",
       "      <td>938</td>\n",
       "      <td>600</td>\n",
       "      <td>Software Marketing</td>\n",
       "      <td>Program</td>\n",
       "      <td>1</td>\n",
       "      <td>0</td>\n",
       "      <td>1</td>\n",
       "      <td>NaN</td>\n",
       "      <td>0.07</td>\n",
       "      <td>NaN</td>\n",
       "    </tr>\n",
       "    <tr>\n",
       "      <th>35996</th>\n",
       "      <td>548084</td>\n",
       "      <td>939</td>\n",
       "      <td>600</td>\n",
       "      <td>Software Marketing</td>\n",
       "      <td>Program</td>\n",
       "      <td>1</td>\n",
       "      <td>0</td>\n",
       "      <td>1</td>\n",
       "      <td>NaN</td>\n",
       "      <td>0.07</td>\n",
       "      <td>NaN</td>\n",
       "    </tr>\n",
       "    <tr>\n",
       "      <th>35997</th>\n",
       "      <td>548085</td>\n",
       "      <td>940</td>\n",
       "      <td>600</td>\n",
       "      <td>Software Marketing</td>\n",
       "      <td>Program</td>\n",
       "      <td>1</td>\n",
       "      <td>0</td>\n",
       "      <td>1</td>\n",
       "      <td>NaN</td>\n",
       "      <td>0.07</td>\n",
       "      <td>NaN</td>\n",
       "    </tr>\n",
       "    <tr>\n",
       "      <th>35998</th>\n",
       "      <td>548086</td>\n",
       "      <td>941</td>\n",
       "      <td>600</td>\n",
       "      <td>Software Marketing</td>\n",
       "      <td>Program</td>\n",
       "      <td>1</td>\n",
       "      <td>0</td>\n",
       "      <td>1</td>\n",
       "      <td>NaN</td>\n",
       "      <td>0.07</td>\n",
       "      <td>NaN</td>\n",
       "    </tr>\n",
       "    <tr>\n",
       "      <th>35999</th>\n",
       "      <td>548087</td>\n",
       "      <td>942</td>\n",
       "      <td>600</td>\n",
       "      <td>Software Marketing</td>\n",
       "      <td>Program</td>\n",
       "      <td>1</td>\n",
       "      <td>0</td>\n",
       "      <td>1</td>\n",
       "      <td>NaN</td>\n",
       "      <td>0.07</td>\n",
       "      <td>NaN</td>\n",
       "    </tr>\n",
       "  </tbody>\n",
       "</table>\n",
       "</div>"
      ],
      "text/plain": [
       "                ID  Day_No  Course_ID       Course_Domain Course_Type  \\\n",
       "test 35995  548083     938        600  Software Marketing     Program   \n",
       "     35996  548084     939        600  Software Marketing     Program   \n",
       "     35997  548085     940        600  Software Marketing     Program   \n",
       "     35998  548086     941        600  Software Marketing     Program   \n",
       "     35999  548087     942        600  Software Marketing     Program   \n",
       "\n",
       "            Short_Promotion  Public_Holiday  Long_Promotion  User_Traffic  \\\n",
       "test 35995                1               0               1           NaN   \n",
       "     35996                1               0               1           NaN   \n",
       "     35997                1               0               1           NaN   \n",
       "     35998                1               0               1           NaN   \n",
       "     35999                1               0               1           NaN   \n",
       "\n",
       "            Competition_Metric  Sales  \n",
       "test 35995                0.07    NaN  \n",
       "     35996                0.07    NaN  \n",
       "     35997                0.07    NaN  \n",
       "     35998                0.07    NaN  \n",
       "     35999                0.07    NaN  "
      ]
     },
     "execution_count": 2,
     "metadata": {},
     "output_type": "execute_result"
    }
   ],
   "source": [
    "df.tail()"
   ]
  },
  {
   "cell_type": "code",
   "execution_count": 3,
   "metadata": {},
   "outputs": [
    {
     "name": "stdout",
     "output_type": "stream",
     "text": [
      "<class 'pandas.core.frame.DataFrame'>\n",
      "MultiIndex: 548087 entries, ('train', 0) to ('test', 35999)\n",
      "Data columns (total 11 columns):\n",
      " #   Column              Non-Null Count   Dtype  \n",
      "---  ------              --------------   -----  \n",
      " 0   ID                  548087 non-null  int64  \n",
      " 1   Day_No              548087 non-null  int64  \n",
      " 2   Course_ID           548087 non-null  int64  \n",
      " 3   Course_Domain       548087 non-null  object \n",
      " 4   Course_Type         548087 non-null  object \n",
      " 5   Short_Promotion     548087 non-null  int64  \n",
      " 6   Public_Holiday      548087 non-null  int64  \n",
      " 7   Long_Promotion      548087 non-null  int64  \n",
      " 8   User_Traffic        512087 non-null  float64\n",
      " 9   Competition_Metric  546203 non-null  float64\n",
      " 10  Sales               512087 non-null  float64\n",
      "dtypes: float64(3), int64(6), object(2)\n",
      "memory usage: 52.5+ MB\n"
     ]
    }
   ],
   "source": [
    "df.info()"
   ]
  },
  {
   "cell_type": "code",
   "execution_count": 4,
   "metadata": {},
   "outputs": [
    {
     "data": {
      "text/plain": [
       "ID                      0\n",
       "Day_No                  0\n",
       "Course_ID               0\n",
       "Course_Domain           0\n",
       "Course_Type             0\n",
       "Short_Promotion         0\n",
       "Public_Holiday          0\n",
       "Long_Promotion          0\n",
       "Competition_Metric    120\n",
       "dtype: int64"
      ]
     },
     "execution_count": 4,
     "metadata": {},
     "output_type": "execute_result"
    }
   ],
   "source": [
    "df2.isnull().sum()"
   ]
  },
  {
   "cell_type": "code",
   "execution_count": 5,
   "metadata": {},
   "outputs": [
    {
     "data": {
      "text/plain": [
       "Course     281347\n",
       "Program    264856\n",
       "Degree       1884\n",
       "Name: Course_Type, dtype: int64"
      ]
     },
     "execution_count": 5,
     "metadata": {},
     "output_type": "execute_result"
    }
   ],
   "source": [
    "df.Course_Type.value_counts()"
   ]
  },
  {
   "cell_type": "code",
   "execution_count": 6,
   "metadata": {},
   "outputs": [
    {
     "data": {
      "text/html": [
       "<div>\n",
       "<style scoped>\n",
       "    .dataframe tbody tr th:only-of-type {\n",
       "        vertical-align: middle;\n",
       "    }\n",
       "\n",
       "    .dataframe tbody tr th {\n",
       "        vertical-align: top;\n",
       "    }\n",
       "\n",
       "    .dataframe thead th {\n",
       "        text-align: right;\n",
       "    }\n",
       "</style>\n",
       "<table border=\"1\" class=\"dataframe\">\n",
       "  <thead>\n",
       "    <tr style=\"text-align: right;\">\n",
       "      <th></th>\n",
       "      <th>ID</th>\n",
       "      <th>Day_No</th>\n",
       "      <th>Course_ID</th>\n",
       "      <th>Short_Promotion</th>\n",
       "      <th>Public_Holiday</th>\n",
       "      <th>Long_Promotion</th>\n",
       "      <th>User_Traffic</th>\n",
       "      <th>Competition_Metric</th>\n",
       "      <th>Sales</th>\n",
       "    </tr>\n",
       "  </thead>\n",
       "  <tbody>\n",
       "    <tr>\n",
       "      <th>ID</th>\n",
       "      <td>1.000000</td>\n",
       "      <td>0.001295</td>\n",
       "      <td>0.999996</td>\n",
       "      <td>0.000004</td>\n",
       "      <td>0.001354</td>\n",
       "      <td>-0.039447</td>\n",
       "      <td>0.033604</td>\n",
       "      <td>-0.007414</td>\n",
       "      <td>0.017037</td>\n",
       "    </tr>\n",
       "    <tr>\n",
       "      <th>Day_No</th>\n",
       "      <td>0.001295</td>\n",
       "      <td>1.000000</td>\n",
       "      <td>-0.000372</td>\n",
       "      <td>0.017254</td>\n",
       "      <td>0.003717</td>\n",
       "      <td>-0.014903</td>\n",
       "      <td>0.021511</td>\n",
       "      <td>0.002382</td>\n",
       "      <td>0.060012</td>\n",
       "    </tr>\n",
       "    <tr>\n",
       "      <th>Course_ID</th>\n",
       "      <td>0.999996</td>\n",
       "      <td>-0.000372</td>\n",
       "      <td>1.000000</td>\n",
       "      <td>-0.000024</td>\n",
       "      <td>0.001345</td>\n",
       "      <td>-0.039483</td>\n",
       "      <td>0.033520</td>\n",
       "      <td>-0.007368</td>\n",
       "      <td>0.016894</td>\n",
       "    </tr>\n",
       "    <tr>\n",
       "      <th>Short_Promotion</th>\n",
       "      <td>0.000004</td>\n",
       "      <td>0.017254</td>\n",
       "      <td>-0.000024</td>\n",
       "      <td>1.000000</td>\n",
       "      <td>-0.013007</td>\n",
       "      <td>-0.001010</td>\n",
       "      <td>0.198785</td>\n",
       "      <td>0.000160</td>\n",
       "      <td>0.367762</td>\n",
       "    </tr>\n",
       "    <tr>\n",
       "      <th>Public_Holiday</th>\n",
       "      <td>0.001354</td>\n",
       "      <td>0.003717</td>\n",
       "      <td>0.001345</td>\n",
       "      <td>-0.013007</td>\n",
       "      <td>1.000000</td>\n",
       "      <td>0.008749</td>\n",
       "      <td>-0.108305</td>\n",
       "      <td>-0.000740</td>\n",
       "      <td>-0.135052</td>\n",
       "    </tr>\n",
       "    <tr>\n",
       "      <th>Long_Promotion</th>\n",
       "      <td>-0.039447</td>\n",
       "      <td>-0.014903</td>\n",
       "      <td>-0.039483</td>\n",
       "      <td>-0.001010</td>\n",
       "      <td>0.008749</td>\n",
       "      <td>1.000000</td>\n",
       "      <td>-0.204289</td>\n",
       "      <td>-0.119880</td>\n",
       "      <td>-0.109455</td>\n",
       "    </tr>\n",
       "    <tr>\n",
       "      <th>User_Traffic</th>\n",
       "      <td>0.033604</td>\n",
       "      <td>0.021511</td>\n",
       "      <td>0.033520</td>\n",
       "      <td>0.198785</td>\n",
       "      <td>-0.108305</td>\n",
       "      <td>-0.204289</td>\n",
       "      <td>1.000000</td>\n",
       "      <td>-0.148775</td>\n",
       "      <td>0.829741</td>\n",
       "    </tr>\n",
       "    <tr>\n",
       "      <th>Competition_Metric</th>\n",
       "      <td>-0.007414</td>\n",
       "      <td>0.002382</td>\n",
       "      <td>-0.007368</td>\n",
       "      <td>0.000160</td>\n",
       "      <td>-0.000740</td>\n",
       "      <td>-0.119880</td>\n",
       "      <td>-0.148775</td>\n",
       "      <td>1.000000</td>\n",
       "      <td>-0.022085</td>\n",
       "    </tr>\n",
       "    <tr>\n",
       "      <th>Sales</th>\n",
       "      <td>0.017037</td>\n",
       "      <td>0.060012</td>\n",
       "      <td>0.016894</td>\n",
       "      <td>0.367762</td>\n",
       "      <td>-0.135052</td>\n",
       "      <td>-0.109455</td>\n",
       "      <td>0.829741</td>\n",
       "      <td>-0.022085</td>\n",
       "      <td>1.000000</td>\n",
       "    </tr>\n",
       "  </tbody>\n",
       "</table>\n",
       "</div>"
      ],
      "text/plain": [
       "                          ID    Day_No  Course_ID  Short_Promotion  \\\n",
       "ID                  1.000000  0.001295   0.999996         0.000004   \n",
       "Day_No              0.001295  1.000000  -0.000372         0.017254   \n",
       "Course_ID           0.999996 -0.000372   1.000000        -0.000024   \n",
       "Short_Promotion     0.000004  0.017254  -0.000024         1.000000   \n",
       "Public_Holiday      0.001354  0.003717   0.001345        -0.013007   \n",
       "Long_Promotion     -0.039447 -0.014903  -0.039483        -0.001010   \n",
       "User_Traffic        0.033604  0.021511   0.033520         0.198785   \n",
       "Competition_Metric -0.007414  0.002382  -0.007368         0.000160   \n",
       "Sales               0.017037  0.060012   0.016894         0.367762   \n",
       "\n",
       "                    Public_Holiday  Long_Promotion  User_Traffic  \\\n",
       "ID                        0.001354       -0.039447      0.033604   \n",
       "Day_No                    0.003717       -0.014903      0.021511   \n",
       "Course_ID                 0.001345       -0.039483      0.033520   \n",
       "Short_Promotion          -0.013007       -0.001010      0.198785   \n",
       "Public_Holiday            1.000000        0.008749     -0.108305   \n",
       "Long_Promotion            0.008749        1.000000     -0.204289   \n",
       "User_Traffic             -0.108305       -0.204289      1.000000   \n",
       "Competition_Metric       -0.000740       -0.119880     -0.148775   \n",
       "Sales                    -0.135052       -0.109455      0.829741   \n",
       "\n",
       "                    Competition_Metric     Sales  \n",
       "ID                           -0.007414  0.017037  \n",
       "Day_No                        0.002382  0.060012  \n",
       "Course_ID                    -0.007368  0.016894  \n",
       "Short_Promotion               0.000160  0.367762  \n",
       "Public_Holiday               -0.000740 -0.135052  \n",
       "Long_Promotion               -0.119880 -0.109455  \n",
       "User_Traffic                 -0.148775  0.829741  \n",
       "Competition_Metric            1.000000 -0.022085  \n",
       "Sales                        -0.022085  1.000000  "
      ]
     },
     "execution_count": 6,
     "metadata": {},
     "output_type": "execute_result"
    }
   ],
   "source": [
    "df.corr()"
   ]
  },
  {
   "cell_type": "code",
   "execution_count": 8,
   "metadata": {},
   "outputs": [
    {
     "data": {
      "text/plain": [
       "<seaborn.axisgrid.PairGrid at 0x9efd3c8>"
      ]
     },
     "execution_count": 8,
     "metadata": {},
     "output_type": "execute_result"
    },
    {
     "data": {
      "image/png": "[encoded data removed]",
      "text/plain": [
       "<Figure size 360x360 with 6 Axes>"
      ]
     },
     "metadata": {
      "needs_background": "light"
     },
     "output_type": "display_data"
    }
   ],
   "source": [
    "sns.pairplot(df[[\"Competition_Metric\",\"Sales\"]])"
   ]
  },
  {
   "cell_type": "code",
   "execution_count": 7,
   "metadata": {},
   "outputs": [],
   "source": [
    "from sklearn.preprocessing import LabelEncoder\n",
    "le=LabelEncoder()\n",
    "df[\"Course_Domain\"]=le.fit_transform(df[\"Course_Domain\"])\n",
    "df[\"Course_Type\"]=le.fit_transform(df[\"Course_Type\"])"
   ]
  },
  {
   "cell_type": "code",
   "execution_count": 8,
   "metadata": {},
   "outputs": [
    {
     "data": {
      "text/plain": [
       "ID                        0\n",
       "Day_No                    0\n",
       "Course_ID                 0\n",
       "Course_Domain             0\n",
       "Course_Type               0\n",
       "Short_Promotion           0\n",
       "Public_Holiday            0\n",
       "Long_Promotion            0\n",
       "User_Traffic          36000\n",
       "Competition_Metric     1884\n",
       "Sales                 36000\n",
       "dtype: int64"
      ]
     },
     "execution_count": 8,
     "metadata": {},
     "output_type": "execute_result"
    }
   ],
   "source": [
    "df.isnull().sum()"
   ]
  },
  {
   "cell_type": "code",
   "execution_count": 9,
   "metadata": {},
   "outputs": [
    {
     "data": {
      "text/html": [
       "<div>\n",
       "<style scoped>\n",
       "    .dataframe tbody tr th:only-of-type {\n",
       "        vertical-align: middle;\n",
       "    }\n",
       "\n",
       "    .dataframe tbody tr th {\n",
       "        vertical-align: top;\n",
       "    }\n",
       "\n",
       "    .dataframe thead th {\n",
       "        text-align: right;\n",
       "    }\n",
       "</style>\n",
       "<table border=\"1\" class=\"dataframe\">\n",
       "  <thead>\n",
       "    <tr style=\"text-align: right;\">\n",
       "      <th></th>\n",
       "      <th>ID</th>\n",
       "      <th>Day_No</th>\n",
       "      <th>Course_ID</th>\n",
       "      <th>Course_Domain</th>\n",
       "      <th>Course_Type</th>\n",
       "      <th>Short_Promotion</th>\n",
       "      <th>Public_Holiday</th>\n",
       "      <th>Long_Promotion</th>\n",
       "      <th>User_Traffic</th>\n",
       "      <th>Competition_Metric</th>\n",
       "      <th>Sales</th>\n",
       "    </tr>\n",
       "  </thead>\n",
       "  <tbody>\n",
       "    <tr>\n",
       "      <th>ID</th>\n",
       "      <td>1.000000</td>\n",
       "      <td>0.001295</td>\n",
       "      <td>0.999996</td>\n",
       "      <td>0.028247</td>\n",
       "      <td>0.041029</td>\n",
       "      <td>0.000004</td>\n",
       "      <td>0.001354</td>\n",
       "      <td>-0.039447</td>\n",
       "      <td>0.033604</td>\n",
       "      <td>-0.007414</td>\n",
       "      <td>0.017037</td>\n",
       "    </tr>\n",
       "    <tr>\n",
       "      <th>Day_No</th>\n",
       "      <td>0.001295</td>\n",
       "      <td>1.000000</td>\n",
       "      <td>-0.000372</td>\n",
       "      <td>-0.005687</td>\n",
       "      <td>0.004134</td>\n",
       "      <td>0.017254</td>\n",
       "      <td>0.003717</td>\n",
       "      <td>-0.014903</td>\n",
       "      <td>0.021511</td>\n",
       "      <td>0.002382</td>\n",
       "      <td>0.060012</td>\n",
       "    </tr>\n",
       "    <tr>\n",
       "      <th>Course_ID</th>\n",
       "      <td>0.999996</td>\n",
       "      <td>-0.000372</td>\n",
       "      <td>1.000000</td>\n",
       "      <td>0.028250</td>\n",
       "      <td>0.041006</td>\n",
       "      <td>-0.000024</td>\n",
       "      <td>0.001345</td>\n",
       "      <td>-0.039483</td>\n",
       "      <td>0.033520</td>\n",
       "      <td>-0.007368</td>\n",
       "      <td>0.016894</td>\n",
       "    </tr>\n",
       "    <tr>\n",
       "      <th>Course_Domain</th>\n",
       "      <td>0.028247</td>\n",
       "      <td>-0.005687</td>\n",
       "      <td>0.028250</td>\n",
       "      <td>1.000000</td>\n",
       "      <td>0.207113</td>\n",
       "      <td>-0.000386</td>\n",
       "      <td>0.003087</td>\n",
       "      <td>0.147603</td>\n",
       "      <td>-0.270252</td>\n",
       "      <td>0.116412</td>\n",
       "      <td>-0.028636</td>\n",
       "    </tr>\n",
       "    <tr>\n",
       "      <th>Course_Type</th>\n",
       "      <td>0.041029</td>\n",
       "      <td>0.004134</td>\n",
       "      <td>0.041006</td>\n",
       "      <td>0.207113</td>\n",
       "      <td>1.000000</td>\n",
       "      <td>0.000279</td>\n",
       "      <td>-0.002429</td>\n",
       "      <td>0.019479</td>\n",
       "      <td>0.035703</td>\n",
       "      <td>0.138227</td>\n",
       "      <td>0.136289</td>\n",
       "    </tr>\n",
       "    <tr>\n",
       "      <th>Short_Promotion</th>\n",
       "      <td>0.000004</td>\n",
       "      <td>0.017254</td>\n",
       "      <td>-0.000024</td>\n",
       "      <td>-0.000386</td>\n",
       "      <td>0.000279</td>\n",
       "      <td>1.000000</td>\n",
       "      <td>-0.013007</td>\n",
       "      <td>-0.001010</td>\n",
       "      <td>0.198785</td>\n",
       "      <td>0.000160</td>\n",
       "      <td>0.367762</td>\n",
       "    </tr>\n",
       "    <tr>\n",
       "      <th>Public_Holiday</th>\n",
       "      <td>0.001354</td>\n",
       "      <td>0.003717</td>\n",
       "      <td>0.001345</td>\n",
       "      <td>0.003087</td>\n",
       "      <td>-0.002429</td>\n",
       "      <td>-0.013007</td>\n",
       "      <td>1.000000</td>\n",
       "      <td>0.008749</td>\n",
       "      <td>-0.108305</td>\n",
       "      <td>-0.000740</td>\n",
       "      <td>-0.135052</td>\n",
       "    </tr>\n",
       "    <tr>\n",
       "      <th>Long_Promotion</th>\n",
       "      <td>-0.039447</td>\n",
       "      <td>-0.014903</td>\n",
       "      <td>-0.039483</td>\n",
       "      <td>0.147603</td>\n",
       "      <td>0.019479</td>\n",
       "      <td>-0.001010</td>\n",
       "      <td>0.008749</td>\n",
       "      <td>1.000000</td>\n",
       "      <td>-0.204289</td>\n",
       "      <td>-0.119880</td>\n",
       "      <td>-0.109455</td>\n",
       "    </tr>\n",
       "    <tr>\n",
       "      <th>User_Traffic</th>\n",
       "      <td>0.033604</td>\n",
       "      <td>0.021511</td>\n",
       "      <td>0.033520</td>\n",
       "      <td>-0.270252</td>\n",
       "      <td>0.035703</td>\n",
       "      <td>0.198785</td>\n",
       "      <td>-0.108305</td>\n",
       "      <td>-0.204289</td>\n",
       "      <td>1.000000</td>\n",
       "      <td>-0.148775</td>\n",
       "      <td>0.829741</td>\n",
       "    </tr>\n",
       "    <tr>\n",
       "      <th>Competition_Metric</th>\n",
       "      <td>-0.007414</td>\n",
       "      <td>0.002382</td>\n",
       "      <td>-0.007368</td>\n",
       "      <td>0.116412</td>\n",
       "      <td>0.138227</td>\n",
       "      <td>0.000160</td>\n",
       "      <td>-0.000740</td>\n",
       "      <td>-0.119880</td>\n",
       "      <td>-0.148775</td>\n",
       "      <td>1.000000</td>\n",
       "      <td>-0.022085</td>\n",
       "    </tr>\n",
       "    <tr>\n",
       "      <th>Sales</th>\n",
       "      <td>0.017037</td>\n",
       "      <td>0.060012</td>\n",
       "      <td>0.016894</td>\n",
       "      <td>-0.028636</td>\n",
       "      <td>0.136289</td>\n",
       "      <td>0.367762</td>\n",
       "      <td>-0.135052</td>\n",
       "      <td>-0.109455</td>\n",
       "      <td>0.829741</td>\n",
       "      <td>-0.022085</td>\n",
       "      <td>1.000000</td>\n",
       "    </tr>\n",
       "  </tbody>\n",
       "</table>\n",
       "</div>"
      ],
      "text/plain": [
       "                          ID    Day_No  Course_ID  Course_Domain  Course_Type  \\\n",
       "ID                  1.000000  0.001295   0.999996       0.028247     0.041029   \n",
       "Day_No              0.001295  1.000000  -0.000372      -0.005687     0.004134   \n",
       "Course_ID           0.999996 -0.000372   1.000000       0.028250     0.041006   \n",
       "Course_Domain       0.028247 -0.005687   0.028250       1.000000     0.207113   \n",
       "Course_Type         0.041029  0.004134   0.041006       0.207113     1.000000   \n",
       "Short_Promotion     0.000004  0.017254  -0.000024      -0.000386     0.000279   \n",
       "Public_Holiday      0.001354  0.003717   0.001345       0.003087    -0.002429   \n",
       "Long_Promotion     -0.039447 -0.014903  -0.039483       0.147603     0.019479   \n",
       "User_Traffic        0.033604  0.021511   0.033520      -0.270252     0.035703   \n",
       "Competition_Metric -0.007414  0.002382  -0.007368       0.116412     0.138227   \n",
       "Sales               0.017037  0.060012   0.016894      -0.028636     0.136289   \n",
       "\n",
       "                    Short_Promotion  Public_Holiday  Long_Promotion  \\\n",
       "ID                         0.000004        0.001354       -0.039447   \n",
       "Day_No                     0.017254        0.003717       -0.014903   \n",
       "Course_ID                 -0.000024        0.001345       -0.039483   \n",
       "Course_Domain             -0.000386        0.003087        0.147603   \n",
       "Course_Type                0.000279       -0.002429        0.019479   \n",
       "Short_Promotion            1.000000       -0.013007       -0.001010   \n",
       "Public_Holiday            -0.013007        1.000000        0.008749   \n",
       "Long_Promotion            -0.001010        0.008749        1.000000   \n",
       "User_Traffic               0.198785       -0.108305       -0.204289   \n",
       "Competition_Metric         0.000160       -0.000740       -0.119880   \n",
       "Sales                      0.367762       -0.135052       -0.109455   \n",
       "\n",
       "                    User_Traffic  Competition_Metric     Sales  \n",
       "ID                      0.033604           -0.007414  0.017037  \n",
       "Day_No                  0.021511            0.002382  0.060012  \n",
       "Course_ID               0.033520           -0.007368  0.016894  \n",
       "Course_Domain          -0.270252            0.116412 -0.028636  \n",
       "Course_Type             0.035703            0.138227  0.136289  \n",
       "Short_Promotion         0.198785            0.000160  0.367762  \n",
       "Public_Holiday         -0.108305           -0.000740 -0.135052  \n",
       "Long_Promotion         -0.204289           -0.119880 -0.109455  \n",
       "User_Traffic            1.000000           -0.148775  0.829741  \n",
       "Competition_Metric     -0.148775            1.000000 -0.022085  \n",
       "Sales                   0.829741           -0.022085  1.000000  "
      ]
     },
     "execution_count": 9,
     "metadata": {},
     "output_type": "execute_result"
    }
   ],
   "source": [
    "df.corr()"
   ]
  },
  {
   "cell_type": "code",
   "execution_count": 10,
   "metadata": {},
   "outputs": [],
   "source": [
    "df=df.drop([\"Day_No\",\"ID\",\"Sales\"],axis=1)\n"
   ]
  },
  {
   "cell_type": "code",
   "execution_count": 11,
   "metadata": {},
   "outputs": [],
   "source": [
    "df[\"Competition_Metric\"].fillna(df[\"Competition_Metric\"].mean(),inplace=True)"
   ]
  },
  {
   "cell_type": "code",
   "execution_count": 12,
   "metadata": {},
   "outputs": [
    {
     "data": {
      "text/plain": [
       "Course_ID                 0\n",
       "Course_Domain             0\n",
       "Course_Type               0\n",
       "Short_Promotion           0\n",
       "Public_Holiday            0\n",
       "Long_Promotion            0\n",
       "User_Traffic          36000\n",
       "Competition_Metric        0\n",
       "dtype: int64"
      ]
     },
     "execution_count": 12,
     "metadata": {},
     "output_type": "execute_result"
    }
   ],
   "source": [
    "df.isnull().sum()"
   ]
  },
  {
   "cell_type": "code",
   "execution_count": 13,
   "metadata": {},
   "outputs": [
    {
     "name": "stdout",
     "output_type": "stream",
     "text": [
      "<class 'pandas.core.frame.DataFrame'>\n",
      "MultiIndex: 548087 entries, ('train', 0) to ('test', 35999)\n",
      "Data columns (total 8 columns):\n",
      " #   Column              Non-Null Count   Dtype  \n",
      "---  ------              --------------   -----  \n",
      " 0   Course_ID           548087 non-null  int64  \n",
      " 1   Course_Domain       548087 non-null  int32  \n",
      " 2   Course_Type         548087 non-null  int32  \n",
      " 3   Short_Promotion     548087 non-null  int64  \n",
      " 4   Public_Holiday      548087 non-null  int64  \n",
      " 5   Long_Promotion      548087 non-null  int64  \n",
      " 6   User_Traffic        512087 non-null  float64\n",
      " 7   Competition_Metric  548087 non-null  float64\n",
      "dtypes: float64(2), int32(2), int64(4)\n",
      "memory usage: 35.8+ MB\n"
     ]
    }
   ],
   "source": [
    "df.info()"
   ]
  },
  {
   "cell_type": "code",
   "execution_count": 14,
   "metadata": {},
   "outputs": [],
   "source": [
    "x=df.drop([\"User_Traffic\"],axis=1)\n",
    "y=df[\"User_Traffic\"]\n",
    "x_train=x.iloc[:512087,:]\n",
    "y_train=y.iloc[:512087,]\n",
    "x_test=x.iloc[512087:,:]\n",
    "y_test=y.iloc[512087:,]"
   ]
  },
  {
   "cell_type": "code",
   "execution_count": 15,
   "metadata": {},
   "outputs": [
    {
     "data": {
      "text/plain": [
       "LinearRegression(copy_X=True, fit_intercept=True, n_jobs=None, normalize=False)"
      ]
     },
     "execution_count": 15,
     "metadata": {},
     "output_type": "execute_result"
    }
   ],
   "source": [
    "from sklearn.linear_model import LinearRegression\n",
    "reg=LinearRegression()\n",
    "reg.fit(x_train,y_train)\n"
   ]
  },
  {
   "cell_type": "code",
   "execution_count": 16,
   "metadata": {},
   "outputs": [
    {
     "name": "stdout",
     "output_type": "stream",
     "text": [
      "coefficiant [ 1.22885583e+00 -2.10027204e+03  8.60101121e+02  3.12844535e+03\n",
      " -4.51117225e+03 -2.88303974e+03 -1.21601071e+04]\n"
     ]
    }
   ],
   "source": [
    "p=reg.score(x_train,y_train)\n",
    "print(\"coefficiant\",reg.coef_)"
   ]
  },
  {
   "cell_type": "code",
   "execution_count": 17,
   "metadata": {},
   "outputs": [
    {
     "name": "stdout",
     "output_type": "stream",
     "text": [
      "Intercept 19188.028897680408\n"
     ]
    }
   ],
   "source": [
    "print(\"Intercept\",reg.intercept_)"
   ]
  },
  {
   "cell_type": "code",
   "execution_count": 18,
   "metadata": {},
   "outputs": [],
   "source": [
    "y_train_pred=reg.predict(x_train)\n"
   ]
  },
  {
   "cell_type": "code",
   "execution_count": 19,
   "metadata": {},
   "outputs": [
    {
     "name": "stdout",
     "output_type": "stream",
     "text": [
      "                                 OLS Regression Results                                \n",
      "=======================================================================================\n",
      "Dep. Variable:           User_Traffic   R-squared (uncentered):                   0.705\n",
      "Model:                            OLS   Adj. R-squared (uncentered):              0.705\n",
      "Method:                 Least Squares   F-statistic:                          1.747e+05\n",
      "Date:                Sun, 05 Apr 2020   Prob (F-statistic):                        0.00\n",
      "Time:                        15:48:15   Log-Likelihood:                     -5.4086e+06\n",
      "No. Observations:              512087   AIC:                                  1.082e+07\n",
      "Df Residuals:                  512080   BIC:                                  1.082e+07\n",
      "Df Model:                           7                                                  \n",
      "Covariance Type:            nonrobust                                                  \n",
      "======================================================================================\n",
      "                         coef    std err          t      P>|t|      [0.025      0.975]\n",
      "--------------------------------------------------------------------------------------\n",
      "Course_ID             21.0373      0.063    333.902      0.000      20.914      21.161\n",
      "Course_Domain       1479.6254     12.861    115.044      0.000    1454.417    1504.833\n",
      "Course_Type         1801.5958     13.338    135.069      0.000    1775.453    1827.739\n",
      "Short_Promotion     6396.8925     26.022    245.827      0.000    6345.890    6447.895\n",
      "Public_Holiday     -2407.1809     74.514    -32.305      0.000   -2553.225   -2261.137\n",
      "Long_Promotion       609.8909     25.681     23.749      0.000     559.557     660.225\n",
      "Competition_Metric  -137.9909    131.423     -1.050      0.294    -395.576     119.594\n",
      "==============================================================================\n",
      "Omnibus:                   145627.508   Durbin-Watson:                   0.174\n",
      "Prob(Omnibus):                  0.000   Jarque-Bera (JB):           590026.722\n",
      "Skew:                           1.364   Prob(JB):                         0.00\n",
      "Kurtosis:                       7.495   Cond. No.                     3.49e+03\n",
      "==============================================================================\n",
      "\n",
      "Warnings:\n",
      "[1] Standard Errors assume that the covariance matrix of the errors is correctly specified.\n",
      "[2] The condition number is large, 3.49e+03. This might indicate that there are\n",
      "strong multicollinearity or other numerical problems.\n"
     ]
    }
   ],
   "source": [
    "import statsmodels.api as sm\n",
    "lm_1=sm.OLS(y_train,x_train).fit()\n",
    "lm_1.params\n",
    "print(lm_1.summary())"
   ]
  },
  {
   "cell_type": "code",
   "execution_count": 20,
   "metadata": {},
   "outputs": [],
   "source": [
    "y_pred=reg.predict(x_test)"
   ]
  },
  {
   "cell_type": "code",
   "execution_count": 21,
   "metadata": {},
   "outputs": [
    {
     "data": {
      "text/plain": [
       "array([17249.27057432, 17249.27057432, 17249.27057432, ...,\n",
       "       14738.92662851, 14738.92662851, 14738.92662851])"
      ]
     },
     "execution_count": 21,
     "metadata": {},
     "output_type": "execute_result"
    }
   ],
   "source": [
    "y_pred"
   ]
  },
  {
   "cell_type": "code",
   "execution_count": 22,
   "metadata": {},
   "outputs": [],
   "source": [
    "df2[\"User_Traffic\"]=y_pred.copy()\n"
   ]
  },
  {
   "cell_type": "code",
   "execution_count": 23,
   "metadata": {},
   "outputs": [
    {
     "data": {
      "text/plain": [
       "ID                      0\n",
       "Day_No                  0\n",
       "Course_ID               0\n",
       "Course_Domain           0\n",
       "Course_Type             0\n",
       "Short_Promotion         0\n",
       "Public_Holiday          0\n",
       "Long_Promotion          0\n",
       "Competition_Metric    120\n",
       "User_Traffic            0\n",
       "dtype: int64"
      ]
     },
     "execution_count": 23,
     "metadata": {},
     "output_type": "execute_result"
    }
   ],
   "source": [
    "df2.isnull().sum()"
   ]
  },
  {
   "cell_type": "code",
   "execution_count": 24,
   "metadata": {},
   "outputs": [
    {
     "data": {
      "text/plain": [
       "ID                       0\n",
       "Day_No                   0\n",
       "Course_ID                0\n",
       "Course_Domain            0\n",
       "Course_Type              0\n",
       "Short_Promotion          0\n",
       "Public_Holiday           0\n",
       "Long_Promotion           0\n",
       "User_Traffic             0\n",
       "Competition_Metric    1764\n",
       "Sales                    0\n",
       "dtype: int64"
      ]
     },
     "execution_count": 24,
     "metadata": {},
     "output_type": "execute_result"
    }
   ],
   "source": [
    "df1.isnull().sum()"
   ]
  },
  {
   "cell_type": "code",
   "execution_count": 25,
   "metadata": {},
   "outputs": [],
   "source": [
    "df2[\"Sales\"]=np.nan"
   ]
  },
  {
   "cell_type": "code",
   "execution_count": 26,
   "metadata": {},
   "outputs": [
    {
     "data": {
      "text/plain": [
       "ID                        0\n",
       "Day_No                    0\n",
       "Course_ID                 0\n",
       "Course_Domain             0\n",
       "Course_Type               0\n",
       "Short_Promotion           0\n",
       "Public_Holiday            0\n",
       "Long_Promotion            0\n",
       "Competition_Metric      120\n",
       "User_Traffic              0\n",
       "Sales                 36000\n",
       "dtype: int64"
      ]
     },
     "execution_count": 26,
     "metadata": {},
     "output_type": "execute_result"
    }
   ],
   "source": [
    "df2.isnull().sum()"
   ]
  },
  {
   "cell_type": "code",
   "execution_count": 27,
   "metadata": {},
   "outputs": [],
   "source": [
    "ddf=pd.concat([df1,df2],keys=(\"train\",\"test\"))"
   ]
  },
  {
   "cell_type": "code",
   "execution_count": 28,
   "metadata": {},
   "outputs": [
    {
     "name": "stdout",
     "output_type": "stream",
     "text": [
      "<class 'pandas.core.frame.DataFrame'>\n",
      "MultiIndex: 548087 entries, ('train', 0) to ('test', 35999)\n",
      "Data columns (total 11 columns):\n",
      " #   Column              Non-Null Count   Dtype  \n",
      "---  ------              --------------   -----  \n",
      " 0   ID                  548087 non-null  int64  \n",
      " 1   Day_No              548087 non-null  int64  \n",
      " 2   Course_ID           548087 non-null  int64  \n",
      " 3   Course_Domain       548087 non-null  object \n",
      " 4   Course_Type         548087 non-null  object \n",
      " 5   Short_Promotion     548087 non-null  int64  \n",
      " 6   Public_Holiday      548087 non-null  int64  \n",
      " 7   Long_Promotion      548087 non-null  int64  \n",
      " 8   User_Traffic        548087 non-null  float64\n",
      " 9   Competition_Metric  546203 non-null  float64\n",
      " 10  Sales               512087 non-null  float64\n",
      "dtypes: float64(3), int64(6), object(2)\n",
      "memory usage: 52.5+ MB\n"
     ]
    }
   ],
   "source": [
    "ddf.info()"
   ]
  },
  {
   "cell_type": "code",
   "execution_count": 29,
   "metadata": {},
   "outputs": [
    {
     "data": {
      "text/html": [
       "<div>\n",
       "<style scoped>\n",
       "    .dataframe tbody tr th:only-of-type {\n",
       "        vertical-align: middle;\n",
       "    }\n",
       "\n",
       "    .dataframe tbody tr th {\n",
       "        vertical-align: top;\n",
       "    }\n",
       "\n",
       "    .dataframe thead th {\n",
       "        text-align: right;\n",
       "    }\n",
       "</style>\n",
       "<table border=\"1\" class=\"dataframe\">\n",
       "  <thead>\n",
       "    <tr style=\"text-align: right;\">\n",
       "      <th></th>\n",
       "      <th>ID</th>\n",
       "      <th>Day_No</th>\n",
       "      <th>Course_ID</th>\n",
       "      <th>Short_Promotion</th>\n",
       "      <th>Public_Holiday</th>\n",
       "      <th>Long_Promotion</th>\n",
       "      <th>User_Traffic</th>\n",
       "      <th>Competition_Metric</th>\n",
       "      <th>Sales</th>\n",
       "    </tr>\n",
       "  </thead>\n",
       "  <tbody>\n",
       "    <tr>\n",
       "      <th>ID</th>\n",
       "      <td>1.000000</td>\n",
       "      <td>0.001295</td>\n",
       "      <td>0.999996</td>\n",
       "      <td>0.000004</td>\n",
       "      <td>0.001354</td>\n",
       "      <td>-0.039447</td>\n",
       "      <td>0.034535</td>\n",
       "      <td>-0.007414</td>\n",
       "      <td>0.017037</td>\n",
       "    </tr>\n",
       "    <tr>\n",
       "      <th>Day_No</th>\n",
       "      <td>0.001295</td>\n",
       "      <td>1.000000</td>\n",
       "      <td>-0.000372</td>\n",
       "      <td>0.017254</td>\n",
       "      <td>0.003717</td>\n",
       "      <td>-0.014903</td>\n",
       "      <td>0.020766</td>\n",
       "      <td>0.002382</td>\n",
       "      <td>0.060012</td>\n",
       "    </tr>\n",
       "    <tr>\n",
       "      <th>Course_ID</th>\n",
       "      <td>0.999996</td>\n",
       "      <td>-0.000372</td>\n",
       "      <td>1.000000</td>\n",
       "      <td>-0.000024</td>\n",
       "      <td>0.001345</td>\n",
       "      <td>-0.039483</td>\n",
       "      <td>0.034450</td>\n",
       "      <td>-0.007368</td>\n",
       "      <td>0.016894</td>\n",
       "    </tr>\n",
       "    <tr>\n",
       "      <th>Short_Promotion</th>\n",
       "      <td>0.000004</td>\n",
       "      <td>0.017254</td>\n",
       "      <td>-0.000024</td>\n",
       "      <td>1.000000</td>\n",
       "      <td>-0.013007</td>\n",
       "      <td>-0.001010</td>\n",
       "      <td>0.203866</td>\n",
       "      <td>0.000160</td>\n",
       "      <td>0.367762</td>\n",
       "    </tr>\n",
       "    <tr>\n",
       "      <th>Public_Holiday</th>\n",
       "      <td>0.001354</td>\n",
       "      <td>0.003717</td>\n",
       "      <td>0.001345</td>\n",
       "      <td>-0.013007</td>\n",
       "      <td>1.000000</td>\n",
       "      <td>0.008749</td>\n",
       "      <td>-0.108086</td>\n",
       "      <td>-0.000740</td>\n",
       "      <td>-0.135052</td>\n",
       "    </tr>\n",
       "    <tr>\n",
       "      <th>Long_Promotion</th>\n",
       "      <td>-0.039447</td>\n",
       "      <td>-0.014903</td>\n",
       "      <td>-0.039483</td>\n",
       "      <td>-0.001010</td>\n",
       "      <td>0.008749</td>\n",
       "      <td>1.000000</td>\n",
       "      <td>-0.210065</td>\n",
       "      <td>-0.119880</td>\n",
       "      <td>-0.109455</td>\n",
       "    </tr>\n",
       "    <tr>\n",
       "      <th>User_Traffic</th>\n",
       "      <td>0.034535</td>\n",
       "      <td>0.020766</td>\n",
       "      <td>0.034450</td>\n",
       "      <td>0.203866</td>\n",
       "      <td>-0.108086</td>\n",
       "      <td>-0.210065</td>\n",
       "      <td>1.000000</td>\n",
       "      <td>-0.152811</td>\n",
       "      <td>0.829741</td>\n",
       "    </tr>\n",
       "    <tr>\n",
       "      <th>Competition_Metric</th>\n",
       "      <td>-0.007414</td>\n",
       "      <td>0.002382</td>\n",
       "      <td>-0.007368</td>\n",
       "      <td>0.000160</td>\n",
       "      <td>-0.000740</td>\n",
       "      <td>-0.119880</td>\n",
       "      <td>-0.152811</td>\n",
       "      <td>1.000000</td>\n",
       "      <td>-0.022085</td>\n",
       "    </tr>\n",
       "    <tr>\n",
       "      <th>Sales</th>\n",
       "      <td>0.017037</td>\n",
       "      <td>0.060012</td>\n",
       "      <td>0.016894</td>\n",
       "      <td>0.367762</td>\n",
       "      <td>-0.135052</td>\n",
       "      <td>-0.109455</td>\n",
       "      <td>0.829741</td>\n",
       "      <td>-0.022085</td>\n",
       "      <td>1.000000</td>\n",
       "    </tr>\n",
       "  </tbody>\n",
       "</table>\n",
       "</div>"
      ],
      "text/plain": [
       "                          ID    Day_No  Course_ID  Short_Promotion  \\\n",
       "ID                  1.000000  0.001295   0.999996         0.000004   \n",
       "Day_No              0.001295  1.000000  -0.000372         0.017254   \n",
       "Course_ID           0.999996 -0.000372   1.000000        -0.000024   \n",
       "Short_Promotion     0.000004  0.017254  -0.000024         1.000000   \n",
       "Public_Holiday      0.001354  0.003717   0.001345        -0.013007   \n",
       "Long_Promotion     -0.039447 -0.014903  -0.039483        -0.001010   \n",
       "User_Traffic        0.034535  0.020766   0.034450         0.203866   \n",
       "Competition_Metric -0.007414  0.002382  -0.007368         0.000160   \n",
       "Sales               0.017037  0.060012   0.016894         0.367762   \n",
       "\n",
       "                    Public_Holiday  Long_Promotion  User_Traffic  \\\n",
       "ID                        0.001354       -0.039447      0.034535   \n",
       "Day_No                    0.003717       -0.014903      0.020766   \n",
       "Course_ID                 0.001345       -0.039483      0.034450   \n",
       "Short_Promotion          -0.013007       -0.001010      0.203866   \n",
       "Public_Holiday            1.000000        0.008749     -0.108086   \n",
       "Long_Promotion            0.008749        1.000000     -0.210065   \n",
       "User_Traffic             -0.108086       -0.210065      1.000000   \n",
       "Competition_Metric       -0.000740       -0.119880     -0.152811   \n",
       "Sales                    -0.135052       -0.109455      0.829741   \n",
       "\n",
       "                    Competition_Metric     Sales  \n",
       "ID                           -0.007414  0.017037  \n",
       "Day_No                        0.002382  0.060012  \n",
       "Course_ID                    -0.007368  0.016894  \n",
       "Short_Promotion               0.000160  0.367762  \n",
       "Public_Holiday               -0.000740 -0.135052  \n",
       "Long_Promotion               -0.119880 -0.109455  \n",
       "User_Traffic                 -0.152811  0.829741  \n",
       "Competition_Metric            1.000000 -0.022085  \n",
       "Sales                        -0.022085  1.000000  "
      ]
     },
     "execution_count": 29,
     "metadata": {},
     "output_type": "execute_result"
    }
   ],
   "source": [
    "ddf.corr()"
   ]
  },
  {
   "cell_type": "code",
   "execution_count": 30,
   "metadata": {},
   "outputs": [],
   "source": [
    "from sklearn.preprocessing import LabelEncoder\n",
    "le=LabelEncoder()\n",
    "ddf[\"Course_Domain\"]=le.fit_transform(ddf[\"Course_Domain\"])\n",
    "ddf[\"Course_Type\"]=le.fit_transform(ddf[\"Course_Type\"])"
   ]
  },
  {
   "cell_type": "code",
   "execution_count": 31,
   "metadata": {},
   "outputs": [
    {
     "data": {
      "text/plain": [
       "ID                        0\n",
       "Day_No                    0\n",
       "Course_ID                 0\n",
       "Course_Domain             0\n",
       "Course_Type               0\n",
       "Short_Promotion           0\n",
       "Public_Holiday            0\n",
       "Long_Promotion            0\n",
       "User_Traffic              0\n",
       "Competition_Metric     1884\n",
       "Sales                 36000\n",
       "dtype: int64"
      ]
     },
     "execution_count": 31,
     "metadata": {},
     "output_type": "execute_result"
    }
   ],
   "source": [
    "ddf.isnull().sum()"
   ]
  },
  {
   "cell_type": "code",
   "execution_count": 32,
   "metadata": {},
   "outputs": [],
   "source": [
    "ddf=ddf.drop([\"Day_No\",\"ID\"],axis=1)"
   ]
  },
  {
   "cell_type": "code",
   "execution_count": 33,
   "metadata": {},
   "outputs": [],
   "source": [
    "ddf[\"Competition_Metric\"].fillna(ddf[\"Competition_Metric\"].mean(),inplace=True)"
   ]
  },
  {
   "cell_type": "code",
   "execution_count": 34,
   "metadata": {},
   "outputs": [
    {
     "name": "stdout",
     "output_type": "stream",
     "text": [
      "<class 'pandas.core.frame.DataFrame'>\n",
      "MultiIndex: 548087 entries, ('train', 0) to ('test', 35999)\n",
      "Data columns (total 9 columns):\n",
      " #   Column              Non-Null Count   Dtype  \n",
      "---  ------              --------------   -----  \n",
      " 0   Course_ID           548087 non-null  int64  \n",
      " 1   Course_Domain       548087 non-null  int32  \n",
      " 2   Course_Type         548087 non-null  int32  \n",
      " 3   Short_Promotion     548087 non-null  int64  \n",
      " 4   Public_Holiday      548087 non-null  int64  \n",
      " 5   Long_Promotion      548087 non-null  int64  \n",
      " 6   User_Traffic        548087 non-null  float64\n",
      " 7   Competition_Metric  548087 non-null  float64\n",
      " 8   Sales               512087 non-null  float64\n",
      "dtypes: float64(3), int32(2), int64(4)\n",
      "memory usage: 40.0+ MB\n"
     ]
    }
   ],
   "source": [
    "ddf.info()"
   ]
  },
  {
   "cell_type": "code",
   "execution_count": 35,
   "metadata": {},
   "outputs": [],
   "source": [
    "x1=ddf.drop([\"Sales\"],axis=1)\n",
    "y1=ddf[\"Sales\"]\n",
    "x_train=x1.iloc[:512087,:]\n",
    "y_train=y1.iloc[:512087,]\n",
    "x_test=x1.iloc[512087:,:]\n",
    "y_test=y1.iloc[512087:,]"
   ]
  },
  {
   "cell_type": "code",
   "execution_count": 36,
   "metadata": {},
   "outputs": [
    {
     "name": "stdout",
     "output_type": "stream",
     "text": [
      "coefficiant [-5.17346608e-03  1.03817788e+01  3.15715175e+00  2.21038132e+01\n",
      " -1.22923268e+01  5.19248175e+00  6.00527993e-03  4.46512366e+01]\n",
      "Intercept -5.439707280494474\n"
     ]
    }
   ],
   "source": [
    "from sklearn.linear_model import LinearRegression\n",
    "reg1=LinearRegression()\n",
    "reg1.fit(x_train,y_train)\n",
    "p=reg1.score(x_train,y_train)\n",
    "print(\"coefficiant\",reg1.coef_)\n",
    "print(\"Intercept\",reg1.intercept_)\n",
    "y_train_pred=reg1.predict(x_train)"
   ]
  },
  {
   "cell_type": "code",
   "execution_count": 37,
   "metadata": {},
   "outputs": [
    {
     "name": "stdout",
     "output_type": "stream",
     "text": [
      "                                 OLS Regression Results                                \n",
      "=======================================================================================\n",
      "Dep. Variable:                  Sales   R-squared (uncentered):                   0.963\n",
      "Model:                            OLS   Adj. R-squared (uncentered):              0.963\n",
      "Method:                 Least Squares   F-statistic:                          1.675e+06\n",
      "Date:                Sun, 05 Apr 2020   Prob (F-statistic):                        0.00\n",
      "Time:                        15:48:33   Log-Likelihood:                     -2.3835e+06\n",
      "No. Observations:              512087   AIC:                                  4.767e+06\n",
      "Df Residuals:                  512079   BIC:                                  4.767e+06\n",
      "Df Model:                           8                                                  \n",
      "Covariance Type:            nonrobust                                                  \n",
      "======================================================================================\n",
      "                         coef    std err          t      P>|t|      [0.025      0.975]\n",
      "--------------------------------------------------------------------------------------\n",
      "Course_ID             -0.0082      0.000    -43.124      0.000      -0.009      -0.008\n",
      "Course_Domain          9.5523      0.035    269.674      0.000       9.483       9.622\n",
      "Course_Type            3.1160      0.037     84.422      0.000       3.044       3.188\n",
      "Short_Promotion       21.9789      0.075    293.766      0.000      21.832      22.125\n",
      "Public_Holiday       -13.1905      0.203    -65.034      0.000     -13.588     -12.793\n",
      "Long_Promotion         4.2787      0.070     61.237      0.000       4.142       4.416\n",
      "User_Traffic           0.0059    3.8e-06   1547.404      0.000       0.006       0.006\n",
      "Competition_Metric    41.2257      0.357    115.360      0.000      40.525      41.926\n",
      "==============================================================================\n",
      "Omnibus:                   101335.643   Durbin-Watson:                   0.449\n",
      "Prob(Omnibus):                  0.000   Jarque-Bera (JB):          2802737.978\n",
      "Skew:                          -0.263   Prob(JB):                         0.00\n",
      "Kurtosis:                      14.449   Cond. No.                     1.73e+05\n",
      "==============================================================================\n",
      "\n",
      "Warnings:\n",
      "[1] Standard Errors assume that the covariance matrix of the errors is correctly specified.\n",
      "[2] The condition number is large, 1.73e+05. This might indicate that there are\n",
      "strong multicollinearity or other numerical problems.\n"
     ]
    }
   ],
   "source": [
    "import statsmodels.api as sm\n",
    "lm_1=sm.OLS(y_train,x_train).fit()\n",
    "lm_1.params\n",
    "print(lm_1.summary())"
   ]
  },
  {
   "cell_type": "code",
   "execution_count": 38,
   "metadata": {},
   "outputs": [],
   "source": [
    "y_pred=reg1.predict(x_test)"
   ]
  },
  {
   "cell_type": "code",
   "execution_count": 39,
   "metadata": {},
   "outputs": [],
   "source": [
    "d1=pd.DataFrame(y_pred)\n",
    "d2=pd.DataFrame(df2[\"ID\"])\n",
    "d3=pd.concat([d2,d1])\n",
    "d3.to_csv('E:/women_comp2.csv')"
   ]
  },
  {
   "cell_type": "code",
   "execution_count": 39,
   "metadata": {},
   "outputs": [
    {
     "data": {
      "text/plain": [
       "array([136.13245009, 136.13245009, 136.13245009, ..., 147.84911471,\n",
       "       147.84911471, 147.84911471])"
      ]
     },
     "execution_count": 39,
     "metadata": {},
     "output_type": "execute_result"
    }
   ],
   "source": [
    "y_pred"
   ]
  },
  {
   "cell_type": "code",
   "execution_count": 41,
   "metadata": {},
   "outputs": [
    {
     "name": "stdout",
     "output_type": "stream",
     "text": [
      "coefficiant [-4.49807430e-07 -3.88552068e-03 -4.89602982e+01 -2.70754812e+02\n",
      "  1.86574176e+00 -1.70609701e+00 -3.35972538e-01  5.12710956e-03\n",
      "  3.15325217e+01  7.87999649e-06 -6.54205977e-03 -7.99698136e-04\n",
      " -2.33234368e-03  2.35017922e-03  1.06824359e-02  3.09833432e-07\n",
      "  2.42996232e-02  1.10553481e+01  5.61858841e-01  3.39278713e-01\n",
      "  6.74385010e-01  2.26282719e+00  1.14656331e-03 -5.87948809e+00\n",
      "  1.35937559e+02 -1.83976649e-01 -3.24901568e-01 -1.56546874e-01\n",
      "  1.09737867e-04 -6.62696964e+00  1.86573921e+00 -1.30374066e+01\n",
      "  5.79671029e+00  7.50594622e-04  4.38890678e-01 -1.70609709e+00\n",
      " -3.87865433e+00  1.14004685e-04  9.92051056e+00 -3.35972395e-01\n",
      " -1.19155615e-04  2.43089473e+01 -1.63583246e-08  6.45431053e-03\n",
      " -1.78694061e+02]\n"
     ]
    }
   ],
   "source": [
    "from sklearn.preprocessing import PolynomialFeatures\n",
    "from sklearn.linear_model import LinearRegression\n",
    "reg=PolynomialFeatures(degree=2)\n",
    "x_poly=reg.fit_transform(x_train)\n",
    "x_test1=reg.fit_transform(x_test)\n",
    "reg=LinearRegression()\n",
    "reg.fit(x_poly,y_train)\n",
    "p=reg.score(x_poly,y_train)\n",
    "print(\"coefficiant\",reg.coef_)\n",
    "y_train_pred=reg.predict(x_poly)"
   ]
  },
  {
   "cell_type": "code",
   "execution_count": 42,
   "metadata": {},
   "outputs": [
    {
     "name": "stdout",
     "output_type": "stream",
     "text": [
      "                            OLS Regression Results                            \n",
      "==============================================================================\n",
      "Dep. Variable:                  Sales   R-squared:                       0.855\n",
      "Model:                            OLS   Adj. R-squared:                  0.855\n",
      "Method:                 Least Squares   F-statistic:                 7.388e+04\n",
      "Date:                Sun, 05 Apr 2020   Prob (F-statistic):               0.00\n",
      "Time:                        15:29:34   Log-Likelihood:            -2.2776e+06\n",
      "No. Observations:              512087   AIC:                         4.555e+06\n",
      "Df Residuals:                  512045   BIC:                         4.556e+06\n",
      "Df Model:                          41                                         \n",
      "Covariance Type:            nonrobust                                         \n",
      "==============================================================================\n",
      "                 coef    std err          t      P>|t|      [0.025      0.975]\n",
      "------------------------------------------------------------------------------\n",
      "const         44.0937      0.432    102.140      0.000      43.248      44.940\n",
      "x1            -0.0039      0.001     -4.166      0.000      -0.006      -0.002\n",
      "x2           -48.9603      0.355   -138.037      0.000     -49.655     -48.265\n",
      "x3          -270.7548      1.419   -190.848      0.000    -273.535    -267.974\n",
      "x4             1.8657      0.131     14.232      0.000       1.609       2.123\n",
      "x5            -1.7061      0.298     -5.724      0.000      -2.290      -1.122\n",
      "x6            -0.3360      0.117     -2.872      0.004      -0.565      -0.107\n",
      "x7             0.0051   2.15e-05    239.002      0.000       0.005       0.005\n",
      "x8            31.5325      1.584     19.908      0.000      28.428      34.637\n",
      "x9           7.88e-06    1.1e-06      7.162      0.000    5.72e-06       1e-05\n",
      "x10           -0.0065      0.000    -32.223      0.000      -0.007      -0.006\n",
      "x11           -0.0008      0.000     -4.438      0.000      -0.001      -0.000\n",
      "x12           -0.0023      0.000     -6.525      0.000      -0.003      -0.002\n",
      "x13            0.0024      0.001      2.434      0.015       0.000       0.004\n",
      "x14            0.0107      0.000     30.153      0.000       0.010       0.011\n",
      "x15         3.098e-07   3.04e-08     10.205      0.000     2.5e-07    3.69e-07\n",
      "x16            0.0243      0.002     12.607      0.000       0.021       0.028\n",
      "x17           11.0553      0.079    139.618      0.000      10.900      11.211\n",
      "x18            0.5619      0.035     15.855      0.000       0.492       0.631\n",
      "x19            0.3393      0.073      4.631      0.000       0.196       0.483\n",
      "x20            0.6744      0.191      3.527      0.000       0.300       1.049\n",
      "x21            2.2628      0.074     30.734      0.000       2.119       2.407\n",
      "x22            0.0011   6.93e-06    165.566      0.000       0.001       0.001\n",
      "x23           -5.8795      0.356    -16.510      0.000      -6.577      -5.182\n",
      "x24          135.9375      0.708    191.959      0.000     134.550     137.326\n",
      "x25           -0.1840      0.064     -2.892      0.004      -0.309      -0.059\n",
      "x26           -0.3249      0.172     -1.884      0.060      -0.663       0.013\n",
      "x27           -0.1565      0.064     -2.443      0.015      -0.282      -0.031\n",
      "x28            0.0001   4.76e-06     23.040      0.000       0.000       0.000\n",
      "x29           -6.6270      0.357    -18.562      0.000      -7.327      -5.927\n",
      "x30            1.8657      0.131     14.232      0.000       1.609       2.123\n",
      "x31          -13.0374      0.362    -36.050      0.000     -13.746     -12.329\n",
      "x32            5.7967      0.127     45.523      0.000       5.547       6.046\n",
      "x33            0.0008   8.67e-06     86.581      0.000       0.001       0.001\n",
      "x34            0.4389      0.648      0.677      0.499      -0.832       1.710\n",
      "x35           -1.7061      0.298     -5.724      0.000      -2.290      -1.122\n",
      "x36           -3.8787      0.344    -11.272      0.000      -4.553      -3.204\n",
      "x37            0.0001   2.32e-05      4.917      0.000    6.86e-05       0.000\n",
      "x38            9.9205      1.757      5.647      0.000       6.477      13.364\n",
      "x39           -0.3360      0.117     -2.872      0.004      -0.565      -0.107\n",
      "x40           -0.0001   8.68e-06    -13.724      0.000      -0.000      -0.000\n",
      "x41           24.3089      0.816     29.798      0.000      22.710      25.908\n",
      "x42        -1.636e-08   2.93e-10    -55.774      0.000   -1.69e-08   -1.58e-08\n",
      "x43            0.0065   5.69e-05    113.367      0.000       0.006       0.007\n",
      "x44         -178.6941      1.759   -101.607      0.000    -182.141    -175.247\n",
      "==============================================================================\n",
      "Omnibus:                    82267.683   Durbin-Watson:                   0.460\n",
      "Prob(Omnibus):                  0.000   Jarque-Bera (JB):           422272.850\n",
      "Skew:                           0.687   Prob(JB):                         0.00\n",
      "Kurtosis:                       7.231   Cond. No.                     1.24e+16\n",
      "==============================================================================\n",
      "\n",
      "Warnings:\n",
      "[1] Standard Errors assume that the covariance matrix of the errors is correctly specified.\n",
      "[2] The condition number is large, 1.24e+16. This might indicate that there are\n",
      "strong multicollinearity or other numerical problems.\n"
     ]
    }
   ],
   "source": [
    "import statsmodels.api as sm\n",
    "lm_1=sm.OLS(y_train,x_poly).fit()\n",
    "lm_1.params\n",
    "print(lm_1.summary())"
   ]
  },
  {
   "cell_type": "code",
   "execution_count": 44,
   "metadata": {},
   "outputs": [],
   "source": [
    "y_pred=reg.predict(x_test1)"
   ]
  },
  {
   "cell_type": "code",
   "execution_count": 45,
   "metadata": {},
   "outputs": [],
   "source": [
    "d1=pd.DataFrame(df2[\"ID\"])\n",
    "d2=pd.DataFrame(y_pred)\n",
    "d3=pd.concat([d1,d2],axis=1)\n",
    "d3.to_csv(\"E:/women_poly.csv\")"
   ]
  },
  {
   "cell_type": "code",
   "execution_count": null,
   "metadata": {},
   "outputs": [],
   "source": [
    "from sklearn.svm import SVR\n",
    "regressor = SVR(kernel='linear')\n",
    "regressor.fit(x_train,y_train)\n",
    "y_pred = regressor.predict(x_test)"
   ]
  },
  {
   "cell_type": "code",
   "execution_count": null,
   "metadata": {},
   "outputs": [],
   "source": []
  }
 ],
 "metadata": {
  "kernelspec": {
   "display_name": "Python 3",
   "language": "python",
   "name": "python3"
  },
  "language_info": {
   "codemirror_mode": {
    "name": "ipython",
    "version": 3
   },
   "file_extension": ".py",
   "mimetype": "text/x-python",
   "name": "python",
   "nbconvert_exporter": "python",
   "pygments_lexer": "ipython3",
   "version": "3.7.6"
  }
 },
 "nbformat": 4,
 "nbformat_minor": 2
}
