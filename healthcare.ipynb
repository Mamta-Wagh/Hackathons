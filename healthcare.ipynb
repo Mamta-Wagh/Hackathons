{
 "cells": [
  {
   "cell_type": "code",
   "execution_count": 2,
   "metadata": {},
   "outputs": [],
   "source": [
    "import pandas as pd\n",
    "import matplotlib.pyplot as plt\n",
    "import itertools\n",
    "import numpy as np\n",
    "import statsmodels.api as sm\n",
    "import statsmodels.tsa.api as smt\n",
    "import statsmodels.formula.api as smf\n",
    "from io import StringIO\n",
    "import requests\n",
    "import warnings"
   ]
  },
  {
   "cell_type": "code",
   "execution_count": 9,
   "metadata": {},
   "outputs": [],
   "source": [
    "df1=pd.read_csv(\"C://Users//Admin//Desktop/Mamta//dataset//healthcare_data//Train.csv\")\n",
    "df2=pd.read_csv(\"C://Users//Admin//Desktop/Mamta//dataset//healthcare_data//test.csv\")\n",
    "df3=pd.read_csv(\"C://Users//Admin//Desktop/Mamta//dataset//healthcare_data//First_Health_Camp_Attended.csv\")\n",
    "df4=pd.read_csv(\"C://Users//Admin//Desktop/Mamta//dataset//healthcare_data//Second_Health_Camp_Attended.csv\")\n",
    "df5=pd.read_csv(\"C://Users//Admin//Desktop/Mamta//dataset//healthcare_data//Third_Health_Camp_Attended.csv\")\n",
    "df6=pd.read_csv(\"C://Users//Admin//Desktop/Mamta//dataset//healthcare_data//Health_Camp_Detail.csv\")\n",
    "df7=pd.read_csv(\"C://Users//Admin//Desktop/Mamta//dataset//healthcare_data//Patient_Profile.csv\")"
   ]
  },
  {
   "cell_type": "code",
   "execution_count": 11,
   "metadata": {},
   "outputs": [
    {
     "data": {
      "text/plain": [
       "(   Patient_ID  Health_Camp_ID Registration_Date  Var1  Var2  Var3  Var4  Var5\n",
       " 0      489652            6578         10-Sep-05     4     0     0     0     2\n",
       " 1      507246            6578         18-Aug-05    45     5     0     0     7\n",
       " 2      523729            6534         29-Apr-06     0     0     0     0     0\n",
       " 3      524931            6535         07-Feb-04     0     0     0     0     0\n",
       " 4      521364            6529         28-Feb-06    15     1     0     0     7,\n",
       "    Patient_ID  Health_Camp_ID Registration_Date  Var1  Var2  Var3  Var4  Var5\n",
       " 0      505701            6548         21-May-06     1     0     0     0     2\n",
       " 1      500633            6584         02-Jun-06     0     0     0     0     0\n",
       " 2      506945            6582         10-Aug-06     0     0     0     0     0\n",
       " 3      497447            6551         27-Aug-06     0     0     0     0     0\n",
       " 4      496446            6533         19-Sep-06     0     0     0     0     0)"
      ]
     },
     "execution_count": 11,
     "metadata": {},
     "output_type": "execute_result"
    }
   ],
   "source": [
    "df1.head(),df2.head()"
   ]
  },
  {
   "cell_type": "code",
   "execution_count": 13,
   "metadata": {},
   "outputs": [
    {
     "data": {
      "text/html": [
       "<div>\n",
       "<style scoped>\n",
       "    .dataframe tbody tr th:only-of-type {\n",
       "        vertical-align: middle;\n",
       "    }\n",
       "\n",
       "    .dataframe tbody tr th {\n",
       "        vertical-align: top;\n",
       "    }\n",
       "\n",
       "    .dataframe thead th {\n",
       "        text-align: right;\n",
       "    }\n",
       "</style>\n",
       "<table border=\"1\" class=\"dataframe\">\n",
       "  <thead>\n",
       "    <tr style=\"text-align: right;\">\n",
       "      <th></th>\n",
       "      <th>Patient_ID</th>\n",
       "      <th>Health_Camp_ID</th>\n",
       "      <th>Donation</th>\n",
       "      <th>Health_Score</th>\n",
       "      <th>Unnamed: 4</th>\n",
       "    </tr>\n",
       "  </thead>\n",
       "  <tbody>\n",
       "    <tr>\n",
       "      <th>0</th>\n",
       "      <td>506181</td>\n",
       "      <td>6560</td>\n",
       "      <td>40</td>\n",
       "      <td>0.439024</td>\n",
       "      <td>NaN</td>\n",
       "    </tr>\n",
       "    <tr>\n",
       "      <th>1</th>\n",
       "      <td>494977</td>\n",
       "      <td>6560</td>\n",
       "      <td>20</td>\n",
       "      <td>0.097561</td>\n",
       "      <td>NaN</td>\n",
       "    </tr>\n",
       "    <tr>\n",
       "      <th>2</th>\n",
       "      <td>518680</td>\n",
       "      <td>6560</td>\n",
       "      <td>10</td>\n",
       "      <td>0.048780</td>\n",
       "      <td>NaN</td>\n",
       "    </tr>\n",
       "    <tr>\n",
       "      <th>3</th>\n",
       "      <td>509916</td>\n",
       "      <td>6560</td>\n",
       "      <td>30</td>\n",
       "      <td>0.634146</td>\n",
       "      <td>NaN</td>\n",
       "    </tr>\n",
       "    <tr>\n",
       "      <th>4</th>\n",
       "      <td>488006</td>\n",
       "      <td>6560</td>\n",
       "      <td>20</td>\n",
       "      <td>0.024390</td>\n",
       "      <td>NaN</td>\n",
       "    </tr>\n",
       "  </tbody>\n",
       "</table>\n",
       "</div>"
      ],
      "text/plain": [
       "   Patient_ID  Health_Camp_ID  Donation  Health_Score  Unnamed: 4\n",
       "0      506181            6560        40      0.439024         NaN\n",
       "1      494977            6560        20      0.097561         NaN\n",
       "2      518680            6560        10      0.048780         NaN\n",
       "3      509916            6560        30      0.634146         NaN\n",
       "4      488006            6560        20      0.024390         NaN"
      ]
     },
     "execution_count": 13,
     "metadata": {},
     "output_type": "execute_result"
    }
   ],
   "source": [
    "df3.head()"
   ]
  },
  {
   "cell_type": "code",
   "execution_count": 14,
   "metadata": {},
   "outputs": [
    {
     "name": "stdout",
     "output_type": "stream",
     "text": [
      "<class 'pandas.core.frame.DataFrame'>\n",
      "RangeIndex: 6218 entries, 0 to 6217\n",
      "Data columns (total 5 columns):\n",
      " #   Column          Non-Null Count  Dtype  \n",
      "---  ------          --------------  -----  \n",
      " 0   Patient_ID      6218 non-null   int64  \n",
      " 1   Health_Camp_ID  6218 non-null   int64  \n",
      " 2   Donation        6218 non-null   int64  \n",
      " 3   Health_Score    6218 non-null   float64\n",
      " 4   Unnamed: 4      0 non-null      float64\n",
      "dtypes: float64(2), int64(3)\n",
      "memory usage: 243.0 KB\n"
     ]
    }
   ],
   "source": [
    "df3.info()"
   ]
  },
  {
   "cell_type": "code",
   "execution_count": 15,
   "metadata": {},
   "outputs": [
    {
     "data": {
      "text/plain": [
       "Patient_ID           0\n",
       "Health_Camp_ID       0\n",
       "Donation             0\n",
       "Health_Score         0\n",
       "Unnamed: 4        6218\n",
       "dtype: int64"
      ]
     },
     "execution_count": 15,
     "metadata": {},
     "output_type": "execute_result"
    }
   ],
   "source": [
    "df3.isnull().sum()"
   ]
  },
  {
   "cell_type": "code",
   "execution_count": 16,
   "metadata": {},
   "outputs": [
    {
     "data": {
      "text/plain": [
       "(6218, 5)"
      ]
     },
     "execution_count": 16,
     "metadata": {},
     "output_type": "execute_result"
    }
   ],
   "source": [
    "df3.shape"
   ]
  },
  {
   "cell_type": "code",
   "execution_count": 17,
   "metadata": {},
   "outputs": [],
   "source": [
    "df3=df3.drop([\"Unnamed: 4\"],axis=1)"
   ]
  },
  {
   "cell_type": "code",
   "execution_count": 18,
   "metadata": {},
   "outputs": [
    {
     "name": "stdout",
     "output_type": "stream",
     "text": [
      "<class 'pandas.core.frame.DataFrame'>\n",
      "RangeIndex: 7819 entries, 0 to 7818\n",
      "Data columns (total 3 columns):\n",
      " #   Column          Non-Null Count  Dtype  \n",
      "---  ------          --------------  -----  \n",
      " 0   Patient_ID      7819 non-null   int64  \n",
      " 1   Health_Camp_ID  7819 non-null   int64  \n",
      " 2   Health Score    7819 non-null   float64\n",
      "dtypes: float64(1), int64(2)\n",
      "memory usage: 183.4 KB\n"
     ]
    }
   ],
   "source": [
    "df4.info()"
   ]
  },
  {
   "cell_type": "code",
   "execution_count": 19,
   "metadata": {},
   "outputs": [
    {
     "name": "stdout",
     "output_type": "stream",
     "text": [
      "<class 'pandas.core.frame.DataFrame'>\n",
      "RangeIndex: 75278 entries, 0 to 75277\n",
      "Data columns (total 8 columns):\n",
      " #   Column             Non-Null Count  Dtype \n",
      "---  ------             --------------  ----- \n",
      " 0   Patient_ID         75278 non-null  int64 \n",
      " 1   Health_Camp_ID     75278 non-null  int64 \n",
      " 2   Registration_Date  74944 non-null  object\n",
      " 3   Var1               75278 non-null  int64 \n",
      " 4   Var2               75278 non-null  int64 \n",
      " 5   Var3               75278 non-null  int64 \n",
      " 6   Var4               75278 non-null  int64 \n",
      " 7   Var5               75278 non-null  int64 \n",
      "dtypes: int64(7), object(1)\n",
      "memory usage: 4.6+ MB\n"
     ]
    }
   ],
   "source": [
    "df1.info()"
   ]
  },
  {
   "cell_type": "code",
   "execution_count": 20,
   "metadata": {},
   "outputs": [
    {
     "name": "stdout",
     "output_type": "stream",
     "text": [
      "<class 'pandas.core.frame.DataFrame'>\n",
      "RangeIndex: 35249 entries, 0 to 35248\n",
      "Data columns (total 8 columns):\n",
      " #   Column             Non-Null Count  Dtype \n",
      "---  ------             --------------  ----- \n",
      " 0   Patient_ID         35249 non-null  int64 \n",
      " 1   Health_Camp_ID     35249 non-null  int64 \n",
      " 2   Registration_Date  35249 non-null  object\n",
      " 3   Var1               35249 non-null  int64 \n",
      " 4   Var2               35249 non-null  int64 \n",
      " 5   Var3               35249 non-null  int64 \n",
      " 6   Var4               35249 non-null  int64 \n",
      " 7   Var5               35249 non-null  int64 \n",
      "dtypes: int64(7), object(1)\n",
      "memory usage: 2.2+ MB\n"
     ]
    }
   ],
   "source": [
    "df2.info()"
   ]
  },
  {
   "cell_type": "code",
   "execution_count": 22,
   "metadata": {},
   "outputs": [],
   "source": [
    "df=pd.concat([df1,df2],keys=(\"train\",\"test\"))"
   ]
  },
  {
   "cell_type": "code",
   "execution_count": 23,
   "metadata": {},
   "outputs": [
    {
     "name": "stdout",
     "output_type": "stream",
     "text": [
      "<class 'pandas.core.frame.DataFrame'>\n",
      "MultiIndex: 110527 entries, ('train', 0) to ('test', 35248)\n",
      "Data columns (total 8 columns):\n",
      " #   Column             Non-Null Count   Dtype \n",
      "---  ------             --------------   ----- \n",
      " 0   Patient_ID         110527 non-null  int64 \n",
      " 1   Health_Camp_ID     110527 non-null  int64 \n",
      " 2   Registration_Date  110193 non-null  object\n",
      " 3   Var1               110527 non-null  int64 \n",
      " 4   Var2               110527 non-null  int64 \n",
      " 5   Var3               110527 non-null  int64 \n",
      " 6   Var4               110527 non-null  int64 \n",
      " 7   Var5               110527 non-null  int64 \n",
      "dtypes: int64(7), object(1)\n",
      "memory usage: 7.8+ MB\n"
     ]
    }
   ],
   "source": [
    "df.info()"
   ]
  },
  {
   "cell_type": "code",
   "execution_count": 24,
   "metadata": {},
   "outputs": [
    {
     "data": {
      "text/html": [
       "<div>\n",
       "<style scoped>\n",
       "    .dataframe tbody tr th:only-of-type {\n",
       "        vertical-align: middle;\n",
       "    }\n",
       "\n",
       "    .dataframe tbody tr th {\n",
       "        vertical-align: top;\n",
       "    }\n",
       "\n",
       "    .dataframe thead th {\n",
       "        text-align: right;\n",
       "    }\n",
       "</style>\n",
       "<table border=\"1\" class=\"dataframe\">\n",
       "  <thead>\n",
       "    <tr style=\"text-align: right;\">\n",
       "      <th></th>\n",
       "      <th>Patient_ID</th>\n",
       "      <th>Health_Camp_ID</th>\n",
       "      <th>Var1</th>\n",
       "      <th>Var2</th>\n",
       "      <th>Var3</th>\n",
       "      <th>Var4</th>\n",
       "      <th>Var5</th>\n",
       "    </tr>\n",
       "  </thead>\n",
       "  <tbody>\n",
       "    <tr>\n",
       "      <th>Patient_ID</th>\n",
       "      <td>1.000000</td>\n",
       "      <td>-0.003258</td>\n",
       "      <td>-0.020146</td>\n",
       "      <td>-0.025879</td>\n",
       "      <td>-0.019222</td>\n",
       "      <td>-0.003562</td>\n",
       "      <td>-0.018712</td>\n",
       "    </tr>\n",
       "    <tr>\n",
       "      <th>Health_Camp_ID</th>\n",
       "      <td>-0.003258</td>\n",
       "      <td>1.000000</td>\n",
       "      <td>0.015970</td>\n",
       "      <td>0.012881</td>\n",
       "      <td>0.005614</td>\n",
       "      <td>0.029103</td>\n",
       "      <td>0.027989</td>\n",
       "    </tr>\n",
       "    <tr>\n",
       "      <th>Var1</th>\n",
       "      <td>-0.020146</td>\n",
       "      <td>0.015970</td>\n",
       "      <td>1.000000</td>\n",
       "      <td>0.833019</td>\n",
       "      <td>0.380143</td>\n",
       "      <td>0.376367</td>\n",
       "      <td>0.768390</td>\n",
       "    </tr>\n",
       "    <tr>\n",
       "      <th>Var2</th>\n",
       "      <td>-0.025879</td>\n",
       "      <td>0.012881</td>\n",
       "      <td>0.833019</td>\n",
       "      <td>1.000000</td>\n",
       "      <td>0.647705</td>\n",
       "      <td>0.349015</td>\n",
       "      <td>0.709103</td>\n",
       "    </tr>\n",
       "    <tr>\n",
       "      <th>Var3</th>\n",
       "      <td>-0.019222</td>\n",
       "      <td>0.005614</td>\n",
       "      <td>0.380143</td>\n",
       "      <td>0.647705</td>\n",
       "      <td>1.000000</td>\n",
       "      <td>0.231215</td>\n",
       "      <td>0.394569</td>\n",
       "    </tr>\n",
       "    <tr>\n",
       "      <th>Var4</th>\n",
       "      <td>-0.003562</td>\n",
       "      <td>0.029103</td>\n",
       "      <td>0.376367</td>\n",
       "      <td>0.349015</td>\n",
       "      <td>0.231215</td>\n",
       "      <td>1.000000</td>\n",
       "      <td>0.524874</td>\n",
       "    </tr>\n",
       "    <tr>\n",
       "      <th>Var5</th>\n",
       "      <td>-0.018712</td>\n",
       "      <td>0.027989</td>\n",
       "      <td>0.768390</td>\n",
       "      <td>0.709103</td>\n",
       "      <td>0.394569</td>\n",
       "      <td>0.524874</td>\n",
       "      <td>1.000000</td>\n",
       "    </tr>\n",
       "  </tbody>\n",
       "</table>\n",
       "</div>"
      ],
      "text/plain": [
       "                Patient_ID  Health_Camp_ID      Var1      Var2      Var3  \\\n",
       "Patient_ID        1.000000       -0.003258 -0.020146 -0.025879 -0.019222   \n",
       "Health_Camp_ID   -0.003258        1.000000  0.015970  0.012881  0.005614   \n",
       "Var1             -0.020146        0.015970  1.000000  0.833019  0.380143   \n",
       "Var2             -0.025879        0.012881  0.833019  1.000000  0.647705   \n",
       "Var3             -0.019222        0.005614  0.380143  0.647705  1.000000   \n",
       "Var4             -0.003562        0.029103  0.376367  0.349015  0.231215   \n",
       "Var5             -0.018712        0.027989  0.768390  0.709103  0.394569   \n",
       "\n",
       "                    Var4      Var5  \n",
       "Patient_ID     -0.003562 -0.018712  \n",
       "Health_Camp_ID  0.029103  0.027989  \n",
       "Var1            0.376367  0.768390  \n",
       "Var2            0.349015  0.709103  \n",
       "Var3            0.231215  0.394569  \n",
       "Var4            1.000000  0.524874  \n",
       "Var5            0.524874  1.000000  "
      ]
     },
     "execution_count": 24,
     "metadata": {},
     "output_type": "execute_result"
    }
   ],
   "source": [
    "df.corr()"
   ]
  },
  {
   "cell_type": "code",
   "execution_count": 25,
   "metadata": {},
   "outputs": [
    {
     "data": {
      "text/html": [
       "<div>\n",
       "<style scoped>\n",
       "    .dataframe tbody tr th:only-of-type {\n",
       "        vertical-align: middle;\n",
       "    }\n",
       "\n",
       "    .dataframe tbody tr th {\n",
       "        vertical-align: top;\n",
       "    }\n",
       "\n",
       "    .dataframe thead th {\n",
       "        text-align: right;\n",
       "    }\n",
       "</style>\n",
       "<table border=\"1\" class=\"dataframe\">\n",
       "  <thead>\n",
       "    <tr style=\"text-align: right;\">\n",
       "      <th></th>\n",
       "      <th>Patient_ID</th>\n",
       "      <th>Health_Camp_ID</th>\n",
       "      <th>Var1</th>\n",
       "      <th>Var2</th>\n",
       "      <th>Var3</th>\n",
       "      <th>Var4</th>\n",
       "      <th>Var5</th>\n",
       "    </tr>\n",
       "  </thead>\n",
       "  <tbody>\n",
       "    <tr>\n",
       "      <th>Patient_ID</th>\n",
       "      <td>1.000000</td>\n",
       "      <td>0.002586</td>\n",
       "      <td>-0.023401</td>\n",
       "      <td>-0.026698</td>\n",
       "      <td>-0.022565</td>\n",
       "      <td>-0.003111</td>\n",
       "      <td>-0.021622</td>\n",
       "    </tr>\n",
       "    <tr>\n",
       "      <th>Health_Camp_ID</th>\n",
       "      <td>0.002586</td>\n",
       "      <td>1.000000</td>\n",
       "      <td>0.023907</td>\n",
       "      <td>0.018082</td>\n",
       "      <td>0.004379</td>\n",
       "      <td>0.016363</td>\n",
       "      <td>0.043112</td>\n",
       "    </tr>\n",
       "    <tr>\n",
       "      <th>Var1</th>\n",
       "      <td>-0.023401</td>\n",
       "      <td>0.023907</td>\n",
       "      <td>1.000000</td>\n",
       "      <td>0.823730</td>\n",
       "      <td>0.338701</td>\n",
       "      <td>0.369572</td>\n",
       "      <td>0.754567</td>\n",
       "    </tr>\n",
       "    <tr>\n",
       "      <th>Var2</th>\n",
       "      <td>-0.026698</td>\n",
       "      <td>0.018082</td>\n",
       "      <td>0.823730</td>\n",
       "      <td>1.000000</td>\n",
       "      <td>0.661589</td>\n",
       "      <td>0.338850</td>\n",
       "      <td>0.691071</td>\n",
       "    </tr>\n",
       "    <tr>\n",
       "      <th>Var3</th>\n",
       "      <td>-0.022565</td>\n",
       "      <td>0.004379</td>\n",
       "      <td>0.338701</td>\n",
       "      <td>0.661589</td>\n",
       "      <td>1.000000</td>\n",
       "      <td>0.194531</td>\n",
       "      <td>0.368489</td>\n",
       "    </tr>\n",
       "    <tr>\n",
       "      <th>Var4</th>\n",
       "      <td>-0.003111</td>\n",
       "      <td>0.016363</td>\n",
       "      <td>0.369572</td>\n",
       "      <td>0.338850</td>\n",
       "      <td>0.194531</td>\n",
       "      <td>1.000000</td>\n",
       "      <td>0.495021</td>\n",
       "    </tr>\n",
       "    <tr>\n",
       "      <th>Var5</th>\n",
       "      <td>-0.021622</td>\n",
       "      <td>0.043112</td>\n",
       "      <td>0.754567</td>\n",
       "      <td>0.691071</td>\n",
       "      <td>0.368489</td>\n",
       "      <td>0.495021</td>\n",
       "      <td>1.000000</td>\n",
       "    </tr>\n",
       "  </tbody>\n",
       "</table>\n",
       "</div>"
      ],
      "text/plain": [
       "                Patient_ID  Health_Camp_ID      Var1      Var2      Var3  \\\n",
       "Patient_ID        1.000000        0.002586 -0.023401 -0.026698 -0.022565   \n",
       "Health_Camp_ID    0.002586        1.000000  0.023907  0.018082  0.004379   \n",
       "Var1             -0.023401        0.023907  1.000000  0.823730  0.338701   \n",
       "Var2             -0.026698        0.018082  0.823730  1.000000  0.661589   \n",
       "Var3             -0.022565        0.004379  0.338701  0.661589  1.000000   \n",
       "Var4             -0.003111        0.016363  0.369572  0.338850  0.194531   \n",
       "Var5             -0.021622        0.043112  0.754567  0.691071  0.368489   \n",
       "\n",
       "                    Var4      Var5  \n",
       "Patient_ID     -0.003111 -0.021622  \n",
       "Health_Camp_ID  0.016363  0.043112  \n",
       "Var1            0.369572  0.754567  \n",
       "Var2            0.338850  0.691071  \n",
       "Var3            0.194531  0.368489  \n",
       "Var4            1.000000  0.495021  \n",
       "Var5            0.495021  1.000000  "
      ]
     },
     "execution_count": 25,
     "metadata": {},
     "output_type": "execute_result"
    }
   ],
   "source": [
    "df1.corr()"
   ]
  },
  {
   "cell_type": "code",
   "execution_count": 26,
   "metadata": {},
   "outputs": [
    {
     "data": {
      "text/html": [
       "<div>\n",
       "<style scoped>\n",
       "    .dataframe tbody tr th:only-of-type {\n",
       "        vertical-align: middle;\n",
       "    }\n",
       "\n",
       "    .dataframe tbody tr th {\n",
       "        vertical-align: top;\n",
       "    }\n",
       "\n",
       "    .dataframe thead th {\n",
       "        text-align: right;\n",
       "    }\n",
       "</style>\n",
       "<table border=\"1\" class=\"dataframe\">\n",
       "  <thead>\n",
       "    <tr style=\"text-align: right;\">\n",
       "      <th></th>\n",
       "      <th>Patient_ID</th>\n",
       "      <th>Health_Camp_ID</th>\n",
       "      <th>Var1</th>\n",
       "      <th>Var2</th>\n",
       "      <th>Var3</th>\n",
       "      <th>Var4</th>\n",
       "      <th>Var5</th>\n",
       "    </tr>\n",
       "  </thead>\n",
       "  <tbody>\n",
       "    <tr>\n",
       "      <th>Patient_ID</th>\n",
       "      <td>1.000000</td>\n",
       "      <td>-0.005376</td>\n",
       "      <td>-0.013807</td>\n",
       "      <td>-0.024213</td>\n",
       "      <td>-0.013501</td>\n",
       "      <td>-0.003536</td>\n",
       "      <td>-0.012940</td>\n",
       "    </tr>\n",
       "    <tr>\n",
       "      <th>Health_Camp_ID</th>\n",
       "      <td>-0.005376</td>\n",
       "      <td>1.000000</td>\n",
       "      <td>0.000334</td>\n",
       "      <td>0.001732</td>\n",
       "      <td>0.004219</td>\n",
       "      <td>0.000842</td>\n",
       "      <td>-0.005944</td>\n",
       "    </tr>\n",
       "    <tr>\n",
       "      <th>Var1</th>\n",
       "      <td>-0.013807</td>\n",
       "      <td>0.000334</td>\n",
       "      <td>1.000000</td>\n",
       "      <td>0.850493</td>\n",
       "      <td>0.448561</td>\n",
       "      <td>0.391979</td>\n",
       "      <td>0.793524</td>\n",
       "    </tr>\n",
       "    <tr>\n",
       "      <th>Var2</th>\n",
       "      <td>-0.024213</td>\n",
       "      <td>0.001732</td>\n",
       "      <td>0.850493</td>\n",
       "      <td>1.000000</td>\n",
       "      <td>0.628442</td>\n",
       "      <td>0.370959</td>\n",
       "      <td>0.742935</td>\n",
       "    </tr>\n",
       "    <tr>\n",
       "      <th>Var3</th>\n",
       "      <td>-0.013501</td>\n",
       "      <td>0.004219</td>\n",
       "      <td>0.448561</td>\n",
       "      <td>0.628442</td>\n",
       "      <td>1.000000</td>\n",
       "      <td>0.279920</td>\n",
       "      <td>0.438695</td>\n",
       "    </tr>\n",
       "    <tr>\n",
       "      <th>Var4</th>\n",
       "      <td>-0.003536</td>\n",
       "      <td>0.000842</td>\n",
       "      <td>0.391979</td>\n",
       "      <td>0.370959</td>\n",
       "      <td>0.279920</td>\n",
       "      <td>1.000000</td>\n",
       "      <td>0.577015</td>\n",
       "    </tr>\n",
       "    <tr>\n",
       "      <th>Var5</th>\n",
       "      <td>-0.012940</td>\n",
       "      <td>-0.005944</td>\n",
       "      <td>0.793524</td>\n",
       "      <td>0.742935</td>\n",
       "      <td>0.438695</td>\n",
       "      <td>0.577015</td>\n",
       "      <td>1.000000</td>\n",
       "    </tr>\n",
       "  </tbody>\n",
       "</table>\n",
       "</div>"
      ],
      "text/plain": [
       "                Patient_ID  Health_Camp_ID      Var1      Var2      Var3  \\\n",
       "Patient_ID        1.000000       -0.005376 -0.013807 -0.024213 -0.013501   \n",
       "Health_Camp_ID   -0.005376        1.000000  0.000334  0.001732  0.004219   \n",
       "Var1             -0.013807        0.000334  1.000000  0.850493  0.448561   \n",
       "Var2             -0.024213        0.001732  0.850493  1.000000  0.628442   \n",
       "Var3             -0.013501        0.004219  0.448561  0.628442  1.000000   \n",
       "Var4             -0.003536        0.000842  0.391979  0.370959  0.279920   \n",
       "Var5             -0.012940       -0.005944  0.793524  0.742935  0.438695   \n",
       "\n",
       "                    Var4      Var5  \n",
       "Patient_ID     -0.003536 -0.012940  \n",
       "Health_Camp_ID  0.000842 -0.005944  \n",
       "Var1            0.391979  0.793524  \n",
       "Var2            0.370959  0.742935  \n",
       "Var3            0.279920  0.438695  \n",
       "Var4            1.000000  0.577015  \n",
       "Var5            0.577015  1.000000  "
      ]
     },
     "execution_count": 26,
     "metadata": {},
     "output_type": "execute_result"
    }
   ],
   "source": [
    "df2.corr()"
   ]
  },
  {
   "cell_type": "code",
   "execution_count": 27,
   "metadata": {},
   "outputs": [
    {
     "name": "stdout",
     "output_type": "stream",
     "text": [
      "<class 'pandas.core.frame.DataFrame'>\n",
      "RangeIndex: 65 entries, 0 to 64\n",
      "Data columns (total 6 columns):\n",
      " #   Column           Non-Null Count  Dtype \n",
      "---  ------           --------------  ----- \n",
      " 0   Health_Camp_ID   65 non-null     int64 \n",
      " 1   Camp_Start_Date  65 non-null     object\n",
      " 2   Camp_End_Date    65 non-null     object\n",
      " 3   Category1        65 non-null     object\n",
      " 4   Category2        65 non-null     object\n",
      " 5   Category3        65 non-null     int64 \n",
      "dtypes: int64(2), object(4)\n",
      "memory usage: 3.2+ KB\n"
     ]
    }
   ],
   "source": [
    "df6.info()"
   ]
  },
  {
   "cell_type": "code",
   "execution_count": 28,
   "metadata": {},
   "outputs": [
    {
     "name": "stdout",
     "output_type": "stream",
     "text": [
      "<class 'pandas.core.frame.DataFrame'>\n",
      "RangeIndex: 37633 entries, 0 to 37632\n",
      "Data columns (total 11 columns):\n",
      " #   Column             Non-Null Count  Dtype \n",
      "---  ------             --------------  ----- \n",
      " 0   Patient_ID         37633 non-null  int64 \n",
      " 1   Online_Follower    37633 non-null  int64 \n",
      " 2   LinkedIn_Shared    37633 non-null  int64 \n",
      " 3   Twitter_Shared     37633 non-null  int64 \n",
      " 4   Facebook_Shared    37633 non-null  int64 \n",
      " 5   Income             37633 non-null  object\n",
      " 6   Education_Score    37633 non-null  object\n",
      " 7   Age                37633 non-null  object\n",
      " 8   First_Interaction  37633 non-null  object\n",
      " 9   City_Type          14249 non-null  object\n",
      " 10  Employer_Category  2840 non-null   object\n",
      "dtypes: int64(5), object(6)\n",
      "memory usage: 3.2+ MB\n"
     ]
    }
   ],
   "source": [
    "df7.info()"
   ]
  },
  {
   "cell_type": "code",
   "execution_count": 29,
   "metadata": {},
   "outputs": [],
   "source": [
    "dff=df.merge(df7,how=\"outer\")"
   ]
  },
  {
   "cell_type": "code",
   "execution_count": 30,
   "metadata": {},
   "outputs": [
    {
     "name": "stdout",
     "output_type": "stream",
     "text": [
      "<class 'pandas.core.frame.DataFrame'>\n",
      "Int64Index: 111468 entries, 0 to 111467\n",
      "Data columns (total 18 columns):\n",
      " #   Column             Non-Null Count   Dtype  \n",
      "---  ------             --------------   -----  \n",
      " 0   Patient_ID         111468 non-null  int64  \n",
      " 1   Health_Camp_ID     110527 non-null  float64\n",
      " 2   Registration_Date  110193 non-null  object \n",
      " 3   Var1               110527 non-null  float64\n",
      " 4   Var2               110527 non-null  float64\n",
      " 5   Var3               110527 non-null  float64\n",
      " 6   Var4               110527 non-null  float64\n",
      " 7   Var5               110527 non-null  float64\n",
      " 8   Online_Follower    111468 non-null  int64  \n",
      " 9   LinkedIn_Shared    111468 non-null  int64  \n",
      " 10  Twitter_Shared     111468 non-null  int64  \n",
      " 11  Facebook_Shared    111468 non-null  int64  \n",
      " 12  Income             111468 non-null  object \n",
      " 13  Education_Score    111468 non-null  object \n",
      " 14  Age                111468 non-null  object \n",
      " 15  First_Interaction  111468 non-null  object \n",
      " 16  City_Type          64068 non-null   object \n",
      " 17  Employer_Category  19605 non-null   object \n",
      "dtypes: float64(6), int64(5), object(7)\n",
      "memory usage: 16.2+ MB\n"
     ]
    }
   ],
   "source": [
    "dff.info()"
   ]
  },
  {
   "cell_type": "code",
   "execution_count": 31,
   "metadata": {},
   "outputs": [
    {
     "data": {
      "text/html": [
       "<div>\n",
       "<style scoped>\n",
       "    .dataframe tbody tr th:only-of-type {\n",
       "        vertical-align: middle;\n",
       "    }\n",
       "\n",
       "    .dataframe tbody tr th {\n",
       "        vertical-align: top;\n",
       "    }\n",
       "\n",
       "    .dataframe thead th {\n",
       "        text-align: right;\n",
       "    }\n",
       "</style>\n",
       "<table border=\"1\" class=\"dataframe\">\n",
       "  <thead>\n",
       "    <tr style=\"text-align: right;\">\n",
       "      <th></th>\n",
       "      <th>Health_Camp_ID</th>\n",
       "      <th>Camp_Start_Date</th>\n",
       "      <th>Camp_End_Date</th>\n",
       "      <th>Category1</th>\n",
       "      <th>Category2</th>\n",
       "      <th>Category3</th>\n",
       "    </tr>\n",
       "  </thead>\n",
       "  <tbody>\n",
       "    <tr>\n",
       "      <th>0</th>\n",
       "      <td>6560</td>\n",
       "      <td>16-Aug-03</td>\n",
       "      <td>20-Aug-03</td>\n",
       "      <td>First</td>\n",
       "      <td>B</td>\n",
       "      <td>2</td>\n",
       "    </tr>\n",
       "    <tr>\n",
       "      <th>1</th>\n",
       "      <td>6530</td>\n",
       "      <td>16-Aug-03</td>\n",
       "      <td>28-Oct-03</td>\n",
       "      <td>First</td>\n",
       "      <td>C</td>\n",
       "      <td>2</td>\n",
       "    </tr>\n",
       "    <tr>\n",
       "      <th>2</th>\n",
       "      <td>6544</td>\n",
       "      <td>03-Nov-03</td>\n",
       "      <td>15-Nov-03</td>\n",
       "      <td>First</td>\n",
       "      <td>F</td>\n",
       "      <td>1</td>\n",
       "    </tr>\n",
       "    <tr>\n",
       "      <th>3</th>\n",
       "      <td>6585</td>\n",
       "      <td>22-Nov-03</td>\n",
       "      <td>05-Dec-03</td>\n",
       "      <td>First</td>\n",
       "      <td>E</td>\n",
       "      <td>2</td>\n",
       "    </tr>\n",
       "    <tr>\n",
       "      <th>4</th>\n",
       "      <td>6561</td>\n",
       "      <td>30-Nov-03</td>\n",
       "      <td>18-Dec-03</td>\n",
       "      <td>First</td>\n",
       "      <td>E</td>\n",
       "      <td>1</td>\n",
       "    </tr>\n",
       "  </tbody>\n",
       "</table>\n",
       "</div>"
      ],
      "text/plain": [
       "   Health_Camp_ID Camp_Start_Date Camp_End_Date Category1 Category2  Category3\n",
       "0            6560       16-Aug-03     20-Aug-03     First         B          2\n",
       "1            6530       16-Aug-03     28-Oct-03     First         C          2\n",
       "2            6544       03-Nov-03     15-Nov-03     First         F          1\n",
       "3            6585       22-Nov-03     05-Dec-03     First         E          2\n",
       "4            6561       30-Nov-03     18-Dec-03     First         E          1"
      ]
     },
     "execution_count": 31,
     "metadata": {},
     "output_type": "execute_result"
    }
   ],
   "source": [
    "df6.head()"
   ]
  },
  {
   "cell_type": "code",
   "execution_count": null,
   "metadata": {},
   "outputs": [],
   "source": []
  }
 ],
 "metadata": {
  "kernelspec": {
   "display_name": "Python 3",
   "language": "python",
   "name": "python3"
  },
  "language_info": {
   "codemirror_mode": {
    "name": "ipython",
    "version": 3
   },
   "file_extension": ".py",
   "mimetype": "text/x-python",
   "name": "python",
   "nbconvert_exporter": "python",
   "pygments_lexer": "ipython3",
   "version": "3.7.6"
  }
 },
 "nbformat": 4,
 "nbformat_minor": 4
}
