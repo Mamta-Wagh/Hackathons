{
 "cells": [
  {
   "cell_type": "code",
   "execution_count": 31,
   "metadata": {},
   "outputs": [],
   "source": [
    "import pandas as pd\n",
    "import numpy as np\n",
    "import matplotlib.pyplot as plt\n",
    "from sklearn import metrics\n",
    "import seaborn as sns\n",
    "df1=pd.read_csv(\"D://mamta//HR_train.csv\")\n",
    "df2=pd.read_csv(\"D://mamta//HR_test.csv\")\n",
    "df=pd.concat([df1,df2],keys=(\"train\",\"test\"))"
   ]
  },
  {
   "cell_type": "code",
   "execution_count": 32,
   "metadata": {},
   "outputs": [
    {
     "data": {
      "text/plain": [
       "enrollee_id                   0\n",
       "city                          0\n",
       "city_development_index        0\n",
       "gender                     7486\n",
       "relevent_experience           0\n",
       "enrolled_university         621\n",
       "education_level             852\n",
       "major_discipline           5231\n",
       "experience                  103\n",
       "company_size               8830\n",
       "company_type               9369\n",
       "last_new_job                671\n",
       "training_hours                0\n",
       "target                    15021\n",
       "dtype: int64"
      ]
     },
     "execution_count": 32,
     "metadata": {},
     "output_type": "execute_result"
    }
   ],
   "source": [
    "df.isnull().sum()"
   ]
  },
  {
   "cell_type": "code",
   "execution_count": 33,
   "metadata": {},
   "outputs": [
    {
     "name": "stdout",
     "output_type": "stream",
     "text": [
      "<class 'pandas.core.frame.DataFrame'>\n",
      "MultiIndex: 33380 entries, ('train', 0) to ('test', 15020)\n",
      "Data columns (total 14 columns):\n",
      " #   Column                  Non-Null Count  Dtype  \n",
      "---  ------                  --------------  -----  \n",
      " 0   enrollee_id             33380 non-null  int64  \n",
      " 1   city                    33380 non-null  object \n",
      " 2   city_development_index  33380 non-null  float64\n",
      " 3   gender                  25894 non-null  object \n",
      " 4   relevent_experience     33380 non-null  object \n",
      " 5   enrolled_university     32759 non-null  object \n",
      " 6   education_level         32528 non-null  object \n",
      " 7   major_discipline        28149 non-null  object \n",
      " 8   experience              33277 non-null  object \n",
      " 9   company_size            24550 non-null  object \n",
      " 10  company_type            24011 non-null  object \n",
      " 11  last_new_job            32709 non-null  object \n",
      " 12  training_hours          33380 non-null  int64  \n",
      " 13  target                  18359 non-null  float64\n",
      "dtypes: float64(2), int64(2), object(10)\n",
      "memory usage: 3.8+ MB\n"
     ]
    }
   ],
   "source": [
    "df.info()"
   ]
  },
  {
   "cell_type": "code",
   "execution_count": 34,
   "metadata": {},
   "outputs": [
    {
     "name": "stdout",
     "output_type": "stream",
     "text": [
      "<class 'pandas.core.frame.DataFrame'>\n",
      "MultiIndex: 33380 entries, ('train', 0) to ('test', 15020)\n",
      "Data columns (total 14 columns):\n",
      " #   Column                  Non-Null Count  Dtype  \n",
      "---  ------                  --------------  -----  \n",
      " 0   enrollee_id             33380 non-null  int64  \n",
      " 1   city                    33380 non-null  object \n",
      " 2   city_development_index  33380 non-null  float64\n",
      " 3   gender                  25894 non-null  float64\n",
      " 4   relevent_experience     33380 non-null  int32  \n",
      " 5   enrolled_university     32759 non-null  object \n",
      " 6   education_level         32528 non-null  float64\n",
      " 7   major_discipline        28149 non-null  object \n",
      " 8   experience              33277 non-null  float64\n",
      " 9   company_size            24550 non-null  float64\n",
      " 10  company_type            24011 non-null  object \n",
      " 11  last_new_job            32709 non-null  float64\n",
      " 12  training_hours          33380 non-null  int64  \n",
      " 13  target                  18359 non-null  float64\n",
      "dtypes: float64(7), int32(1), int64(2), object(4)\n",
      "memory usage: 3.7+ MB\n"
     ]
    }
   ],
   "source": [
    "df[\"experience\"]=df[\"experience\"].replace(to_replace=\">20\",value=21)\n",
    "df[\"experience\"]=df[\"experience\"].replace(to_replace=\"<1\",value=0)\n",
    "df[\"company_size\"]=df[\"company_size\"].replace(to_replace=\"50-99\",value=99)\n",
    "df[\"company_size\"]=df[\"company_size\"].replace(to_replace=\"100-500\",value=500)\n",
    "df[\"company_size\"]=df[\"company_size\"].replace(to_replace=\"10000+\",value=10001)\n",
    "df[\"company_size\"]=df[\"company_size\"].replace(to_replace=\"10/49\",value=49)\n",
    "df[\"company_size\"]=df[\"company_size\"].replace(to_replace=\"<10\",value=9)\n",
    "df[\"company_size\"]=df[\"company_size\"].replace(to_replace=\"500-999\",value=999)\n",
    "df[\"company_size\"]=df[\"company_size\"].replace(to_replace=\"5000-9999\",value=9999)\n",
    "df[\"company_size\"]=df[\"company_size\"].replace(to_replace=\"1000-4999\",value=4999)\n",
    "df[\"last_new_job\"]=df[\"last_new_job\"].replace(to_replace=\">4\",value=5)\n",
    "df[\"last_new_job\"]=df[\"last_new_job\"].replace(to_replace=\"never\",value=0)\n",
    "df[\"education_level\"]=df[\"education_level\"].replace(to_replace=\"Primary School\",value=0)\n",
    "df[\"education_level\"]=df[\"education_level\"].replace(to_replace=\"High School\",value=1)\n",
    "df[\"education_level\"]=df[\"education_level\"].replace(to_replace=\"Graduate\",value=2)\n",
    "df[\"education_level\"]=df[\"education_level\"].replace(to_replace=\"Phd\",value=4)\n",
    "df[\"education_level\"]=df[\"education_level\"].replace(to_replace=\"Masters\",value=3)\n",
    "df[\"gender\"]=df[\"gender\"].replace(to_replace=\"Male\",value=2)\n",
    "df[\"gender\"]=df[\"gender\"].replace(to_replace=\"Female\",value=1)\n",
    "df[\"gender\"]=df[\"gender\"].replace(to_replace=\"Other\",value=0)\n",
    "df[\"gender\"]=pd.to_numeric(df[\"gender\"],errors='ignore')\n",
    "df[\"education_level\"]=pd.to_numeric(df[\"education_level\"],errors='ignore')\n",
    "df[\"experience\"]=pd.to_numeric(df[\"experience\"],errors='ignore')\n",
    "df[\"last_new_job\"]=pd.to_numeric(df[\"last_new_job\"],errors='ignore')\n",
    "from sklearn import preprocessing\n",
    "le=preprocessing.LabelEncoder()\n",
    "df[\"relevent_experience\"]=le.fit_transform(df[\"relevent_experience\"])\n",
    "df.info()"
   ]
  },
  {
   "cell_type": "code",
   "execution_count": 35,
   "metadata": {},
   "outputs": [
    {
     "data": {
      "text/plain": [
       "enrollee_id                   0\n",
       "city                          0\n",
       "city_development_index        0\n",
       "gender                     7486\n",
       "relevent_experience           0\n",
       "enrolled_university         621\n",
       "education_level             852\n",
       "major_discipline           5231\n",
       "experience                  103\n",
       "company_size               8830\n",
       "company_type               9369\n",
       "last_new_job                671\n",
       "training_hours                0\n",
       "target                    15021\n",
       "dtype: int64"
      ]
     },
     "execution_count": 35,
     "metadata": {},
     "output_type": "execute_result"
    }
   ],
   "source": [
    "df.isnull().sum()"
   ]
  },
  {
   "cell_type": "code",
   "execution_count": 36,
   "metadata": {},
   "outputs": [],
   "source": [
    "df[\"gender\"].fillna(\"Male\",inplace=True)\n",
    "df[\"enrolled_university\"].fillna(\"unknown\",inplace=True)\n",
    "df[\"enrolled_university\"].fillna(\"unknown\",inplace=True)\n",
    "df[\"major_discipline\"].fillna(\"unknown\",inplace=True)\n",
    "df[\"education_level\"].fillna(\"unknown\",inplace=True)\n",
    "df[\"experience\"].fillna(df[\"experience\"].mode()[0],inplace=True)\n",
    "df[\"company_size\"].fillna(\"unknown\",inplace=True)\n",
    "df[\"last_new_job\"].fillna(\"unknown\",inplace=True)\n",
    "df[\"company_type\"].fillna(\"unknown\",inplace=True)"
   ]
  },
  {
   "cell_type": "code",
   "execution_count": 37,
   "metadata": {},
   "outputs": [
    {
     "data": {
      "text/plain": [
       "1.0        6549\n",
       "5.0        2978\n",
       "2.0        2446\n",
       "0.0        1876\n",
       "3.0         897\n",
       "4.0         891\n",
       "unknown     297\n",
       "Name: last_new_job, dtype: int64"
      ]
     },
     "execution_count": 37,
     "metadata": {},
     "output_type": "execute_result"
    }
   ],
   "source": [
    "df[df[\"target\"]==0][\"last_new_job\"].value_counts()"
   ]
  },
  {
   "cell_type": "code",
   "execution_count": 38,
   "metadata": {},
   "outputs": [
    {
     "data": {
      "text/plain": [
       "<matplotlib.axes._subplots.AxesSubplot at 0x55b08c8>"
      ]
     },
     "execution_count": 38,
     "metadata": {},
     "output_type": "execute_result"
    },
    {
     "data": {
      "image/png": "[encoded data removed]",
      "text/plain": [
       "<Figure size 432x288 with 1 Axes>"
      ]
     },
     "metadata": {
      "needs_background": "light"
     },
     "output_type": "display_data"
    }
   ],
   "source": [
    "import seaborn as sns\n",
    "sns.boxplot(x=df['training_hours'])"
   ]
  },
  {
   "cell_type": "code",
   "execution_count": 39,
   "metadata": {},
   "outputs": [
    {
     "data": {
      "text/plain": [
       "enrollee_id               1431\n",
       "city                      1431\n",
       "city_development_index    1431\n",
       "gender                    1431\n",
       "relevent_experience       1431\n",
       "enrolled_university       1431\n",
       "education_level           1431\n",
       "major_discipline          1431\n",
       "experience                1431\n",
       "company_size              1431\n",
       "company_type              1431\n",
       "last_new_job              1431\n",
       "training_hours            1431\n",
       "target                     808\n",
       "dtype: int64"
      ]
     },
     "execution_count": 39,
     "metadata": {},
     "output_type": "execute_result"
    }
   ],
   "source": [
    "df[df[\"training_hours\"]>200].count()"
   ]
  },
  {
   "cell_type": "code",
   "execution_count": 40,
   "metadata": {},
   "outputs": [],
   "source": [
    "#sns.pairplot(df)"
   ]
  },
  {
   "cell_type": "code",
   "execution_count": 41,
   "metadata": {},
   "outputs": [],
   "source": [
    "#sns.pairplot(df)\n",
    "#sns.countplot(df[\"Parch\"],hue=df[\"Survived\"])\n",
    "#sns.countplot(df[\"Pclass\"].value_counts())"
   ]
  },
  {
   "cell_type": "code",
   "execution_count": 42,
   "metadata": {},
   "outputs": [],
   "source": [
    "#sns.countplot(df[\"Pclass\"],hue=df[\"Survived\"])"
   ]
  },
  {
   "cell_type": "code",
   "execution_count": 43,
   "metadata": {},
   "outputs": [],
   "source": [
    "#sns.countplot(df[\"Embarked\"],hue=df[\"Survived\"])"
   ]
  },
  {
   "cell_type": "code",
   "execution_count": 44,
   "metadata": {},
   "outputs": [
    {
     "data": {
      "text/html": [
       "<div>\n",
       "<style scoped>\n",
       "    .dataframe tbody tr th:only-of-type {\n",
       "        vertical-align: middle;\n",
       "    }\n",
       "\n",
       "    .dataframe tbody tr th {\n",
       "        vertical-align: top;\n",
       "    }\n",
       "\n",
       "    .dataframe thead th {\n",
       "        text-align: right;\n",
       "    }\n",
       "</style>\n",
       "<table border=\"1\" class=\"dataframe\">\n",
       "  <thead>\n",
       "    <tr style=\"text-align: right;\">\n",
       "      <th></th>\n",
       "      <th>enrollee_id</th>\n",
       "      <th>city_development_index</th>\n",
       "      <th>relevent_experience</th>\n",
       "      <th>experience</th>\n",
       "      <th>training_hours</th>\n",
       "      <th>target</th>\n",
       "    </tr>\n",
       "  </thead>\n",
       "  <tbody>\n",
       "    <tr>\n",
       "      <th>enrollee_id</th>\n",
       "      <td>1.000000</td>\n",
       "      <td>-0.033087</td>\n",
       "      <td>0.034115</td>\n",
       "      <td>-0.029615</td>\n",
       "      <td>0.002380</td>\n",
       "      <td>0.033873</td>\n",
       "    </tr>\n",
       "    <tr>\n",
       "      <th>city_development_index</th>\n",
       "      <td>-0.033087</td>\n",
       "      <td>1.000000</td>\n",
       "      <td>-0.062545</td>\n",
       "      <td>0.296625</td>\n",
       "      <td>0.003372</td>\n",
       "      <td>-0.135700</td>\n",
       "    </tr>\n",
       "    <tr>\n",
       "      <th>relevent_experience</th>\n",
       "      <td>0.034115</td>\n",
       "      <td>-0.062545</td>\n",
       "      <td>1.000000</td>\n",
       "      <td>-0.341182</td>\n",
       "      <td>-0.005862</td>\n",
       "      <td>0.074088</td>\n",
       "    </tr>\n",
       "    <tr>\n",
       "      <th>experience</th>\n",
       "      <td>-0.029615</td>\n",
       "      <td>0.296625</td>\n",
       "      <td>-0.341182</td>\n",
       "      <td>1.000000</td>\n",
       "      <td>-0.001230</td>\n",
       "      <td>-0.086586</td>\n",
       "    </tr>\n",
       "    <tr>\n",
       "      <th>training_hours</th>\n",
       "      <td>0.002380</td>\n",
       "      <td>0.003372</td>\n",
       "      <td>-0.005862</td>\n",
       "      <td>-0.001230</td>\n",
       "      <td>1.000000</td>\n",
       "      <td>-0.004735</td>\n",
       "    </tr>\n",
       "    <tr>\n",
       "      <th>target</th>\n",
       "      <td>0.033873</td>\n",
       "      <td>-0.135700</td>\n",
       "      <td>0.074088</td>\n",
       "      <td>-0.086586</td>\n",
       "      <td>-0.004735</td>\n",
       "      <td>1.000000</td>\n",
       "    </tr>\n",
       "  </tbody>\n",
       "</table>\n",
       "</div>"
      ],
      "text/plain": [
       "                        enrollee_id  city_development_index  \\\n",
       "enrollee_id                1.000000               -0.033087   \n",
       "city_development_index    -0.033087                1.000000   \n",
       "relevent_experience        0.034115               -0.062545   \n",
       "experience                -0.029615                0.296625   \n",
       "training_hours             0.002380                0.003372   \n",
       "target                     0.033873               -0.135700   \n",
       "\n",
       "                        relevent_experience  experience  training_hours  \\\n",
       "enrollee_id                        0.034115   -0.029615        0.002380   \n",
       "city_development_index            -0.062545    0.296625        0.003372   \n",
       "relevent_experience                1.000000   -0.341182       -0.005862   \n",
       "experience                        -0.341182    1.000000       -0.001230   \n",
       "training_hours                    -0.005862   -0.001230        1.000000   \n",
       "target                             0.074088   -0.086586       -0.004735   \n",
       "\n",
       "                          target  \n",
       "enrollee_id             0.033873  \n",
       "city_development_index -0.135700  \n",
       "relevent_experience     0.074088  \n",
       "experience             -0.086586  \n",
       "training_hours         -0.004735  \n",
       "target                  1.000000  "
      ]
     },
     "execution_count": 44,
     "metadata": {},
     "output_type": "execute_result"
    }
   ],
   "source": [
    "#sns.boxplot(x=df[\"Pclass\"],y=df[\"Survived\"])\n",
    "df.corr()"
   ]
  },
  {
   "cell_type": "code",
   "execution_count": 45,
   "metadata": {},
   "outputs": [],
   "source": [
    "df.isnull().sum()\n",
    "df=df.drop([\"enrollee_id\"],axis=1)"
   ]
  },
  {
   "cell_type": "code",
   "execution_count": 46,
   "metadata": {},
   "outputs": [
    {
     "name": "stdout",
     "output_type": "stream",
     "text": [
      "<class 'pandas.core.frame.DataFrame'>\n",
      "MultiIndex: 33380 entries, ('train', 0) to ('test', 15020)\n",
      "Data columns (total 13 columns):\n",
      " #   Column                  Non-Null Count  Dtype  \n",
      "---  ------                  --------------  -----  \n",
      " 0   city                    33380 non-null  object \n",
      " 1   city_development_index  33380 non-null  float64\n",
      " 2   gender                  33380 non-null  object \n",
      " 3   relevent_experience     33380 non-null  int32  \n",
      " 4   enrolled_university     33380 non-null  object \n",
      " 5   education_level         33380 non-null  object \n",
      " 6   major_discipline        33380 non-null  object \n",
      " 7   experience              33380 non-null  float64\n",
      " 8   company_size            33380 non-null  object \n",
      " 9   company_type            33380 non-null  object \n",
      " 10  last_new_job            33380 non-null  object \n",
      " 11  training_hours          33380 non-null  int64  \n",
      " 12  target                  18359 non-null  float64\n",
      "dtypes: float64(3), int32(1), int64(1), object(8)\n",
      "memory usage: 3.4+ MB\n"
     ]
    }
   ],
   "source": [
    "df.info()"
   ]
  },
  {
   "cell_type": "code",
   "execution_count": 48,
   "metadata": {},
   "outputs": [],
   "source": [
    "df_dummies=pd.get_dummies(df[df.select_dtypes(include=['object']).columns.tolist()])\n",
    "df_num=df[df.select_dtypes(include=[np.number]).columns.tolist()]\n",
    "#df_num_norm=(finaldf_num-finaldf_num.mean())/finaldf_num.std()\n",
    "df=pd.concat([df_num,df_dummies],axis=1)\n",
    "df=df.drop([\"last_new_job_2.0\"],axis=1)"
   ]
  },
  {
   "cell_type": "code",
   "execution_count": 49,
   "metadata": {},
   "outputs": [],
   "source": [
    "from sklearn.model_selection import train_test_split\n",
    "from sklearn.metrics import confusion_matrix"
   ]
  },
  {
   "cell_type": "code",
   "execution_count": 50,
   "metadata": {},
   "outputs": [],
   "source": [
    "x=df.drop([\"target\"],axis=1)\n",
    "x1=x.iloc[0:18359]\n",
    "y=df[\"target\"]\n",
    "y1=y.iloc[0:18359]\n",
    "x_train,x_test,y_train,y_test=train_test_split(x1,y1,test_size=0.3,random_state=0)"
   ]
  },
  {
   "cell_type": "code",
   "execution_count": 51,
   "metadata": {},
   "outputs": [
    {
     "name": "stdout",
     "output_type": "stream",
     "text": [
      "Accuracy 0.6780795268850673\n",
      "Accuracy 0.6782861292665214\n"
     ]
    },
    {
     "name": "stderr",
     "output_type": "stream",
     "text": [
      "C:\\Users\\Admin\\anaconda3\\lib\\site-packages\\sklearn\\linear_model\\_logistic.py:940: ConvergenceWarning: lbfgs failed to converge (status=1):\n",
      "STOP: TOTAL NO. of ITERATIONS REACHED LIMIT.\n",
      "\n",
      "Increase the number of iterations (max_iter) or scale the data as shown in:\n",
      "    https://scikit-learn.org/stable/modules/preprocessing.html\n",
      "Please also refer to the documentation for alternative solver options:\n",
      "    https://scikit-learn.org/stable/modules/linear_model.html#logistic-regression\n",
      "  extra_warning_msg=_LOGISTIC_SOLVER_CONVERGENCE_MSG)\n"
     ]
    }
   ],
   "source": [
    "from sklearn.linear_model import LogisticRegression\n",
    "lr=LogisticRegression(class_weight=\"balanced\")\n",
    "lr.fit(x_train,y_train)\n",
    "y_train_pred=lr.predict(x_train)\n",
    "print(\"Accuracy\",metrics.accuracy_score(y_train,y_train_pred))\n",
    "y_pred=lr.predict(x_test)\n",
    "print(\"Accuracy\",metrics.accuracy_score(y_test,y_pred))"
   ]
  },
  {
   "cell_type": "code",
   "execution_count": 52,
   "metadata": {},
   "outputs": [
    {
     "name": "stdout",
     "output_type": "stream",
     "text": [
      "Accuracy 0.999299665395689\n",
      "Accuracy 0.7748729121278141\n"
     ]
    }
   ],
   "source": [
    "from sklearn import tree\n",
    "dt=tree.DecisionTreeClassifier()\n",
    "dt.fit(x_train,y_train)\n",
    "y_train_pred1=dt.predict(x_train)\n",
    "print(\"Accuracy\",metrics.accuracy_score(y_train,y_train_pred1))\n",
    "y_pred1=dt.predict(x_test)\n",
    "print(\"Accuracy\",metrics.accuracy_score(y_test,y_pred1))"
   ]
  },
  {
   "cell_type": "code",
   "execution_count": 53,
   "metadata": {},
   "outputs": [
    {
     "name": "stdout",
     "output_type": "stream",
     "text": [
      "Accuracy 0.999299665395689\n",
      "Accuracy 0.8582062454611474\n"
     ]
    }
   ],
   "source": [
    "from sklearn.ensemble import RandomForestClassifier\n",
    "rf=RandomForestClassifier(n_estimators=400,criterion='gini')\n",
    "rf.fit(x_train,y_train)\n",
    "y_train_pred2=rf.predict(x_train)\n",
    "print(\"Accuracy\",metrics.accuracy_score(y_train,y_train_pred2))\n",
    "y_pred2=rf.predict(x_test)\n",
    "print(\"Accuracy\",metrics.accuracy_score(y_test,y_pred2))\n"
   ]
  },
  {
   "cell_type": "code",
   "execution_count": null,
   "metadata": {},
   "outputs": [],
   "source": [
    "from sklearn.svm import SVC\n",
    "classifier=SVC(kernel=\"linear\")\n",
    "classifier.fit(x_train,y_train)\n",
    "y_train_pred3=classifrier.praedict(x_train)\n",
    "print(\"Accuracy\",metrics.accuracy_score(y_train,y_train_pred3))\n",
    "y_pred3=classifier.predict(x_test)\n",
    "print(\"Accuracy\",metrics.accuracy_score(y_test,y_pred3))"
   ]
  },
  {
   "cell_type": "code",
   "execution_count": 22,
   "metadata": {},
   "outputs": [
    {
     "name": "stdout",
     "output_type": "stream",
     "text": [
      "Requirement already satisfied: lightgbm in c:\\users\\admin\\anaconda3\\lib\\site-packages (2.3.1)\n",
      "Requirement already satisfied: scikit-learn in c:\\users\\admin\\anaconda3\\lib\\site-packages (from lightgbm) (0.22.1)\n",
      "Requirement already satisfied: numpy in c:\\users\\admin\\anaconda3\\lib\\site-packages (from lightgbm) (1.18.1)\n",
      "Requirement already satisfied: scipy in c:\\users\\admin\\anaconda3\\lib\\site-packages (from lightgbm) (1.4.1)\n",
      "Requirement already satisfied: joblib>=0.11 in c:\\users\\admin\\anaconda3\\lib\\site-packages (from scikit-learn->lightgbm) (0.14.1)\n"
     ]
    }
   ],
   "source": [
    "!pip install lightgbm"
   ]
  },
  {
   "cell_type": "code",
   "execution_count": 54,
   "metadata": {},
   "outputs": [
    {
     "name": "stdout",
     "output_type": "stream",
     "text": [
      "Accuracy 0.8786864835421369\n",
      "Accuracy 0.8594771241830066\n"
     ]
    }
   ],
   "source": [
    "import lightgbm as lgb\n",
    "model = lgb.LGBMClassifier()\n",
    "model.fit(x_train,y_train)\n",
    "y_train_pred3=model.predict(x_train)\n",
    "print(\"Accuracy\",metrics.accuracy_score(y_train,y_train_pred3))\n",
    "y_pred3=model.predict(x_test)\n",
    "print(\"Accuracy\",metrics.accuracy_score(y_test,y_pred3))"
   ]
  },
  {
   "cell_type": "code",
   "execution_count": 24,
   "metadata": {},
   "outputs": [
    {
     "name": "stdout",
     "output_type": "stream",
     "text": [
      "Requirement already satisfied: xgboost in c:\\users\\admin\\anaconda3\\lib\\site-packages (1.0.2)\n",
      "Requirement already satisfied: scipy in c:\\users\\admin\\anaconda3\\lib\\site-packages (from xgboost) (1.4.1)\n",
      "Requirement already satisfied: numpy in c:\\users\\admin\\anaconda3\\lib\\site-packages (from xgboost) (1.18.1)\n",
      "Accuracy 0.892304100848183\n",
      "Accuracy 0.8556644880174292\n"
     ]
    }
   ],
   "source": [
    "!pip install xgboost\n",
    "import xgboost as xgb\n",
    "from xgboost import XGBClassifier\n",
    "xg = XGBClassifier()\n",
    "xg.fit(x_train,y_train)\n",
    "y_train_pred4=xg.predict(x_train)\n",
    "print(\"Accuracy\",metrics.accuracy_score(y_train,y_train_pred4))\n",
    "y_pred4=xg.predict(x_test)\n",
    "print(\"Accuracy\",metrics.accuracy_score(y_test,y_pred4))"
   ]
  },
  {
   "cell_type": "code",
   "execution_count": 25,
   "metadata": {},
   "outputs": [],
   "source": [
    "x2=df.drop([\"target\"],axis=1)\n",
    "train_x=x2.iloc[0:18359,:]\n",
    "y2=df[\"target\"]\n",
    "train_y=y2.iloc[0:18359,]\n",
    "test_x=x2.iloc[18359:,:]\n",
    "test_y=y2.iloc[18359:,]"
   ]
  },
  {
   "cell_type": "code",
   "execution_count": 26,
   "metadata": {},
   "outputs": [
    {
     "name": "stdout",
     "output_type": "stream",
     "text": [
      "Accuracy 0.9990740236396318\n"
     ]
    }
   ],
   "source": [
    "from sklearn.ensemble import RandomForestClassifier\n",
    "rf=RandomForestClassifier(n_estimators=400,criterion='gini')\n",
    "rf.fit(train_x,train_y)\n",
    "y_train_pred=rf.predict(train_x)\n",
    "print(\"Accuracy\",metrics.accuracy_score(train_y,y_train_pred))\n",
    "y_predf=rf.predict(test_x)"
   ]
  },
  {
   "cell_type": "code",
   "execution_count": 28,
   "metadata": {},
   "outputs": [],
   "source": [
    "d1=pd.DataFrame(y_predf)\n",
    "d2=pd.DataFrame(df2[\"enrollee_id\"])\n",
    "d3=pd.concat([d1,d2],axis=1)\n",
    "d3.to_csv(\"E://HR_jantahack.csv\")"
   ]
  },
  {
   "cell_type": "code",
   "execution_count": null,
   "metadata": {},
   "outputs": [],
   "source": []
  }
 ],
 "metadata": {
  "kernelspec": {
   "display_name": "Python 3",
   "language": "python",
   "name": "python3"
  },
  "language_info": {
   "codemirror_mode": {
    "name": "ipython",
    "version": 3
   },
   "file_extension": ".py",
   "mimetype": "text/x-python",
   "name": "python",
   "nbconvert_exporter": "python",
   "pygments_lexer": "ipython3",
   "version": "3.7.6"
  }
 },
 "nbformat": 4,
 "nbformat_minor": 4
}
