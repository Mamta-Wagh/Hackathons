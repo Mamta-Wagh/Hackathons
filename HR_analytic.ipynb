{
 "cells": [
  {
   "cell_type": "code",
   "execution_count": 1,
   "metadata": {},
   "outputs": [
    {
     "name": "stderr",
     "output_type": "stream",
     "text": [
      "C:\\Users\\Hp\\Anaconda3\\lib\\site-packages\\ipykernel_launcher.py:7: FutureWarning: Sorting because non-concatenation axis is not aligned. A future version\n",
      "of pandas will change to not sort by default.\n",
      "\n",
      "To accept the future behavior, pass 'sort=False'.\n",
      "\n",
      "To retain the current behavior and silence the warning, pass 'sort=True'.\n",
      "\n",
      "  import sys\n"
     ]
    }
   ],
   "source": [
    "import pandas as pd\n",
    "import numpy as np\n",
    "import matplotlib.pyplot as plt\n",
    "import seaborn as sns\n",
    "df1=pd.read_csv(\"E:\\promotion_train.csv\")\n",
    "df2=pd.read_csv(\"E:\\promotion_test.csv\")\n",
    "df=pd.concat([df1,df2],keys=(\"train\",\"test\"))"
   ]
  },
  {
   "cell_type": "code",
   "execution_count": 2,
   "metadata": {},
   "outputs": [
    {
     "data": {
      "text/html": [
       "<div>\n",
       "<style scoped>\n",
       "    .dataframe tbody tr th:only-of-type {\n",
       "        vertical-align: middle;\n",
       "    }\n",
       "\n",
       "    .dataframe tbody tr th {\n",
       "        vertical-align: top;\n",
       "    }\n",
       "\n",
       "    .dataframe thead th {\n",
       "        text-align: right;\n",
       "    }\n",
       "</style>\n",
       "<table border=\"1\" class=\"dataframe\">\n",
       "  <thead>\n",
       "    <tr style=\"text-align: right;\">\n",
       "      <th></th>\n",
       "      <th></th>\n",
       "      <th>KPIs_met &gt;80%</th>\n",
       "      <th>age</th>\n",
       "      <th>avg_training_score</th>\n",
       "      <th>awards_won?</th>\n",
       "      <th>department</th>\n",
       "      <th>education</th>\n",
       "      <th>employee_id</th>\n",
       "      <th>gender</th>\n",
       "      <th>is_promoted</th>\n",
       "      <th>length_of_service</th>\n",
       "      <th>no_of_trainings</th>\n",
       "      <th>previous_year_rating</th>\n",
       "      <th>recruitment_channel</th>\n",
       "      <th>region</th>\n",
       "    </tr>\n",
       "  </thead>\n",
       "  <tbody>\n",
       "    <tr>\n",
       "      <td rowspan=\"5\" valign=\"top\">train</td>\n",
       "      <td>0</td>\n",
       "      <td>1</td>\n",
       "      <td>35</td>\n",
       "      <td>49</td>\n",
       "      <td>0</td>\n",
       "      <td>Sales &amp; Marketing</td>\n",
       "      <td>Master's &amp; above</td>\n",
       "      <td>65438</td>\n",
       "      <td>f</td>\n",
       "      <td>0.0</td>\n",
       "      <td>8</td>\n",
       "      <td>1</td>\n",
       "      <td>5.0</td>\n",
       "      <td>sourcing</td>\n",
       "      <td>region_7</td>\n",
       "    </tr>\n",
       "    <tr>\n",
       "      <td>1</td>\n",
       "      <td>0</td>\n",
       "      <td>30</td>\n",
       "      <td>60</td>\n",
       "      <td>0</td>\n",
       "      <td>Operations</td>\n",
       "      <td>Bachelor's</td>\n",
       "      <td>65141</td>\n",
       "      <td>m</td>\n",
       "      <td>0.0</td>\n",
       "      <td>4</td>\n",
       "      <td>1</td>\n",
       "      <td>5.0</td>\n",
       "      <td>other</td>\n",
       "      <td>region_22</td>\n",
       "    </tr>\n",
       "    <tr>\n",
       "      <td>2</td>\n",
       "      <td>0</td>\n",
       "      <td>34</td>\n",
       "      <td>50</td>\n",
       "      <td>0</td>\n",
       "      <td>Sales &amp; Marketing</td>\n",
       "      <td>Bachelor's</td>\n",
       "      <td>7513</td>\n",
       "      <td>m</td>\n",
       "      <td>0.0</td>\n",
       "      <td>7</td>\n",
       "      <td>1</td>\n",
       "      <td>3.0</td>\n",
       "      <td>sourcing</td>\n",
       "      <td>region_19</td>\n",
       "    </tr>\n",
       "    <tr>\n",
       "      <td>3</td>\n",
       "      <td>0</td>\n",
       "      <td>39</td>\n",
       "      <td>50</td>\n",
       "      <td>0</td>\n",
       "      <td>Sales &amp; Marketing</td>\n",
       "      <td>Bachelor's</td>\n",
       "      <td>2542</td>\n",
       "      <td>m</td>\n",
       "      <td>0.0</td>\n",
       "      <td>10</td>\n",
       "      <td>2</td>\n",
       "      <td>1.0</td>\n",
       "      <td>other</td>\n",
       "      <td>region_23</td>\n",
       "    </tr>\n",
       "    <tr>\n",
       "      <td>4</td>\n",
       "      <td>0</td>\n",
       "      <td>45</td>\n",
       "      <td>73</td>\n",
       "      <td>0</td>\n",
       "      <td>Technology</td>\n",
       "      <td>Bachelor's</td>\n",
       "      <td>48945</td>\n",
       "      <td>m</td>\n",
       "      <td>0.0</td>\n",
       "      <td>2</td>\n",
       "      <td>1</td>\n",
       "      <td>3.0</td>\n",
       "      <td>other</td>\n",
       "      <td>region_26</td>\n",
       "    </tr>\n",
       "  </tbody>\n",
       "</table>\n",
       "</div>"
      ],
      "text/plain": [
       "         KPIs_met >80%  age  avg_training_score  awards_won?  \\\n",
       "train 0              1   35                  49            0   \n",
       "      1              0   30                  60            0   \n",
       "      2              0   34                  50            0   \n",
       "      3              0   39                  50            0   \n",
       "      4              0   45                  73            0   \n",
       "\n",
       "                department         education  employee_id gender  is_promoted  \\\n",
       "train 0  Sales & Marketing  Master's & above        65438      f          0.0   \n",
       "      1         Operations        Bachelor's        65141      m          0.0   \n",
       "      2  Sales & Marketing        Bachelor's         7513      m          0.0   \n",
       "      3  Sales & Marketing        Bachelor's         2542      m          0.0   \n",
       "      4         Technology        Bachelor's        48945      m          0.0   \n",
       "\n",
       "         length_of_service  no_of_trainings  previous_year_rating  \\\n",
       "train 0                  8                1                   5.0   \n",
       "      1                  4                1                   5.0   \n",
       "      2                  7                1                   3.0   \n",
       "      3                 10                2                   1.0   \n",
       "      4                  2                1                   3.0   \n",
       "\n",
       "        recruitment_channel     region  \n",
       "train 0            sourcing   region_7  \n",
       "      1               other  region_22  \n",
       "      2            sourcing  region_19  \n",
       "      3               other  region_23  \n",
       "      4               other  region_26  "
      ]
     },
     "execution_count": 2,
     "metadata": {},
     "output_type": "execute_result"
    }
   ],
   "source": [
    "df.head()"
   ]
  },
  {
   "cell_type": "code",
   "execution_count": 3,
   "metadata": {},
   "outputs": [
    {
     "data": {
      "text/plain": [
       "KPIs_met >80%               0\n",
       "age                         0\n",
       "avg_training_score          0\n",
       "awards_won?                 0\n",
       "department                  0\n",
       "education                3443\n",
       "employee_id                 0\n",
       "gender                      0\n",
       "is_promoted             23490\n",
       "length_of_service           0\n",
       "no_of_trainings             0\n",
       "previous_year_rating     5936\n",
       "recruitment_channel         0\n",
       "region                      0\n",
       "dtype: int64"
      ]
     },
     "execution_count": 3,
     "metadata": {},
     "output_type": "execute_result"
    }
   ],
   "source": [
    "df.isnull().sum()"
   ]
  },
  {
   "cell_type": "code",
   "execution_count": 4,
   "metadata": {},
   "outputs": [
    {
     "name": "stdout",
     "output_type": "stream",
     "text": [
      "<class 'pandas.core.frame.DataFrame'>\n",
      "MultiIndex: 78298 entries, (train, 0) to (test, 23489)\n",
      "Data columns (total 14 columns):\n",
      "KPIs_met >80%           78298 non-null int64\n",
      "age                     78298 non-null int64\n",
      "avg_training_score      78298 non-null int64\n",
      "awards_won?             78298 non-null int64\n",
      "department              78298 non-null object\n",
      "education               74855 non-null object\n",
      "employee_id             78298 non-null int64\n",
      "gender                  78298 non-null object\n",
      "is_promoted             54808 non-null float64\n",
      "length_of_service       78298 non-null int64\n",
      "no_of_trainings         78298 non-null int64\n",
      "previous_year_rating    72362 non-null float64\n",
      "recruitment_channel     78298 non-null object\n",
      "region                  78298 non-null object\n",
      "dtypes: float64(2), int64(7), object(5)\n",
      "memory usage: 9.2+ MB\n"
     ]
    }
   ],
   "source": [
    "df.info()"
   ]
  },
  {
   "cell_type": "code",
   "execution_count": 5,
   "metadata": {},
   "outputs": [],
   "source": [
    "df[\"awards_won\"]=df[\"awards_won?\"].copy()\n",
    "df[\"KPI\"]=df[\"KPIs_met >80%\"].copy()"
   ]
  },
  {
   "cell_type": "code",
   "execution_count": 6,
   "metadata": {},
   "outputs": [],
   "source": [
    "df=df.drop([\"awards_won?\"],axis=1)\n"
   ]
  },
  {
   "cell_type": "code",
   "execution_count": 7,
   "metadata": {},
   "outputs": [],
   "source": [
    "df=df.drop([\"KPIs_met >80%\"],axis=1)"
   ]
  },
  {
   "cell_type": "code",
   "execution_count": 8,
   "metadata": {},
   "outputs": [],
   "source": [
    "from sklearn import preprocessing\n",
    "le=preprocessing.LabelEncoder()\n",
    "df[\"gender\"]=le.fit_transform(df[\"gender\"])\n"
   ]
  },
  {
   "cell_type": "code",
   "execution_count": 9,
   "metadata": {},
   "outputs": [
    {
     "data": {
      "text/plain": [
       "<matplotlib.axes._subplots.AxesSubplot at 0x26dce1cbd48>"
      ]
     },
     "execution_count": 9,
     "metadata": {},
     "output_type": "execute_result"
    },
    {
     "data": {
      "image/png": "[encoded data removed]",
      "text/plain": [
       "<Figure size 432x288 with 1 Axes>"
      ]
     },
     "metadata": {
      "needs_background": "light"
     },
     "output_type": "display_data"
    }
   ],
   "source": [
    "sns.countplot(x=\"is_promoted\",data=df)\n"
   ]
  },
  {
   "cell_type": "code",
   "execution_count": 18,
   "metadata": {},
   "outputs": [
    {
     "data": {
      "text/plain": [
       "3.0    26539\n",
       "5.0    16838\n",
       "4.0    14126\n",
       "1.0     8903\n",
       "2.0     5956\n",
       "Name: previous_year_rating, dtype: int64"
      ]
     },
     "execution_count": 18,
     "metadata": {},
     "output_type": "execute_result"
    }
   ],
   "source": [
    "df[\"previous_year_rating\"].value_counts()"
   ]
  },
  {
   "cell_type": "code",
   "execution_count": 19,
   "metadata": {},
   "outputs": [
    {
     "name": "stdout",
     "output_type": "stream",
     "text": [
      "<class 'pandas.core.frame.DataFrame'>\n",
      "MultiIndex: 78298 entries, (train, 0) to (test, 23489)\n",
      "Data columns (total 14 columns):\n",
      "age                     78298 non-null int64\n",
      "avg_training_score      78298 non-null int64\n",
      "department              78298 non-null object\n",
      "education               74855 non-null object\n",
      "employee_id             78298 non-null int64\n",
      "gender                  78298 non-null int32\n",
      "is_promoted             54808 non-null float64\n",
      "length_of_service       78298 non-null int64\n",
      "no_of_trainings         78298 non-null int64\n",
      "previous_year_rating    72362 non-null float64\n",
      "recruitment_channel     78298 non-null object\n",
      "region                  78298 non-null object\n",
      "awards_won              78298 non-null int64\n",
      "KPI                     78298 non-null int64\n",
      "dtypes: float64(2), int32(1), int64(7), object(4)\n",
      "memory usage: 8.9+ MB\n"
     ]
    }
   ],
   "source": [
    "df.info()"
   ]
  },
  {
   "cell_type": "code",
   "execution_count": 20,
   "metadata": {},
   "outputs": [
    {
     "data": {
      "text/html": [
       "<div>\n",
       "<style scoped>\n",
       "    .dataframe tbody tr th:only-of-type {\n",
       "        vertical-align: middle;\n",
       "    }\n",
       "\n",
       "    .dataframe tbody tr th {\n",
       "        vertical-align: top;\n",
       "    }\n",
       "\n",
       "    .dataframe thead th {\n",
       "        text-align: right;\n",
       "    }\n",
       "</style>\n",
       "<table border=\"1\" class=\"dataframe\">\n",
       "  <thead>\n",
       "    <tr style=\"text-align: right;\">\n",
       "      <th></th>\n",
       "      <th>age</th>\n",
       "      <th>avg_training_score</th>\n",
       "      <th>employee_id</th>\n",
       "      <th>gender</th>\n",
       "      <th>is_promoted</th>\n",
       "      <th>length_of_service</th>\n",
       "      <th>no_of_trainings</th>\n",
       "      <th>previous_year_rating</th>\n",
       "      <th>awards_won</th>\n",
       "      <th>KPI</th>\n",
       "    </tr>\n",
       "  </thead>\n",
       "  <tbody>\n",
       "    <tr>\n",
       "      <td>age</td>\n",
       "      <td>1.000000</td>\n",
       "      <td>-0.044592</td>\n",
       "      <td>0.000586</td>\n",
       "      <td>-0.017816</td>\n",
       "      <td>-0.017166</td>\n",
       "      <td>0.653339</td>\n",
       "      <td>-0.082536</td>\n",
       "      <td>0.009137</td>\n",
       "      <td>-0.007357</td>\n",
       "      <td>-0.026223</td>\n",
       "    </tr>\n",
       "    <tr>\n",
       "      <td>avg_training_score</td>\n",
       "      <td>-0.044592</td>\n",
       "      <td>1.000000</td>\n",
       "      <td>-0.003930</td>\n",
       "      <td>-0.024840</td>\n",
       "      <td>0.181147</td>\n",
       "      <td>-0.035272</td>\n",
       "      <td>0.044180</td>\n",
       "      <td>0.071813</td>\n",
       "      <td>0.072655</td>\n",
       "      <td>0.076729</td>\n",
       "    </tr>\n",
       "    <tr>\n",
       "      <td>employee_id</td>\n",
       "      <td>0.000586</td>\n",
       "      <td>-0.003930</td>\n",
       "      <td>1.000000</td>\n",
       "      <td>-0.000263</td>\n",
       "      <td>0.001206</td>\n",
       "      <td>0.004420</td>\n",
       "      <td>-0.005216</td>\n",
       "      <td>0.001372</td>\n",
       "      <td>0.005943</td>\n",
       "      <td>0.000127</td>\n",
       "    </tr>\n",
       "    <tr>\n",
       "      <td>gender</td>\n",
       "      <td>-0.017816</td>\n",
       "      <td>-0.024840</td>\n",
       "      <td>-0.000263</td>\n",
       "      <td>1.000000</td>\n",
       "      <td>-0.011109</td>\n",
       "      <td>-0.017800</td>\n",
       "      <td>0.084530</td>\n",
       "      <td>-0.023656</td>\n",
       "      <td>0.000553</td>\n",
       "      <td>-0.037916</td>\n",
       "    </tr>\n",
       "    <tr>\n",
       "      <td>is_promoted</td>\n",
       "      <td>-0.017166</td>\n",
       "      <td>0.181147</td>\n",
       "      <td>0.001206</td>\n",
       "      <td>-0.011109</td>\n",
       "      <td>1.000000</td>\n",
       "      <td>-0.010670</td>\n",
       "      <td>-0.024896</td>\n",
       "      <td>0.159320</td>\n",
       "      <td>0.195871</td>\n",
       "      <td>0.221582</td>\n",
       "    </tr>\n",
       "    <tr>\n",
       "      <td>length_of_service</td>\n",
       "      <td>0.653339</td>\n",
       "      <td>-0.035272</td>\n",
       "      <td>0.004420</td>\n",
       "      <td>-0.017800</td>\n",
       "      <td>-0.010670</td>\n",
       "      <td>1.000000</td>\n",
       "      <td>-0.058403</td>\n",
       "      <td>0.001063</td>\n",
       "      <td>-0.040556</td>\n",
       "      <td>-0.077854</td>\n",
       "    </tr>\n",
       "    <tr>\n",
       "      <td>no_of_trainings</td>\n",
       "      <td>-0.082536</td>\n",
       "      <td>0.044180</td>\n",
       "      <td>-0.005216</td>\n",
       "      <td>0.084530</td>\n",
       "      <td>-0.024896</td>\n",
       "      <td>-0.058403</td>\n",
       "      <td>1.000000</td>\n",
       "      <td>-0.058439</td>\n",
       "      <td>-0.004818</td>\n",
       "      <td>-0.043912</td>\n",
       "    </tr>\n",
       "    <tr>\n",
       "      <td>previous_year_rating</td>\n",
       "      <td>0.009137</td>\n",
       "      <td>0.071813</td>\n",
       "      <td>0.001372</td>\n",
       "      <td>-0.023656</td>\n",
       "      <td>0.159320</td>\n",
       "      <td>0.001063</td>\n",
       "      <td>-0.058439</td>\n",
       "      <td>1.000000</td>\n",
       "      <td>0.027636</td>\n",
       "      <td>0.350921</td>\n",
       "    </tr>\n",
       "    <tr>\n",
       "      <td>awards_won</td>\n",
       "      <td>-0.007357</td>\n",
       "      <td>0.072655</td>\n",
       "      <td>0.005943</td>\n",
       "      <td>0.000553</td>\n",
       "      <td>0.195871</td>\n",
       "      <td>-0.040556</td>\n",
       "      <td>-0.004818</td>\n",
       "      <td>0.027636</td>\n",
       "      <td>1.000000</td>\n",
       "      <td>0.100365</td>\n",
       "    </tr>\n",
       "    <tr>\n",
       "      <td>KPI</td>\n",
       "      <td>-0.026223</td>\n",
       "      <td>0.076729</td>\n",
       "      <td>0.000127</td>\n",
       "      <td>-0.037916</td>\n",
       "      <td>0.221582</td>\n",
       "      <td>-0.077854</td>\n",
       "      <td>-0.043912</td>\n",
       "      <td>0.350921</td>\n",
       "      <td>0.100365</td>\n",
       "      <td>1.000000</td>\n",
       "    </tr>\n",
       "  </tbody>\n",
       "</table>\n",
       "</div>"
      ],
      "text/plain": [
       "                           age  avg_training_score  employee_id    gender  \\\n",
       "age                   1.000000           -0.044592     0.000586 -0.017816   \n",
       "avg_training_score   -0.044592            1.000000    -0.003930 -0.024840   \n",
       "employee_id           0.000586           -0.003930     1.000000 -0.000263   \n",
       "gender               -0.017816           -0.024840    -0.000263  1.000000   \n",
       "is_promoted          -0.017166            0.181147     0.001206 -0.011109   \n",
       "length_of_service     0.653339           -0.035272     0.004420 -0.017800   \n",
       "no_of_trainings      -0.082536            0.044180    -0.005216  0.084530   \n",
       "previous_year_rating  0.009137            0.071813     0.001372 -0.023656   \n",
       "awards_won           -0.007357            0.072655     0.005943  0.000553   \n",
       "KPI                  -0.026223            0.076729     0.000127 -0.037916   \n",
       "\n",
       "                      is_promoted  length_of_service  no_of_trainings  \\\n",
       "age                     -0.017166           0.653339        -0.082536   \n",
       "avg_training_score       0.181147          -0.035272         0.044180   \n",
       "employee_id              0.001206           0.004420        -0.005216   \n",
       "gender                  -0.011109          -0.017800         0.084530   \n",
       "is_promoted              1.000000          -0.010670        -0.024896   \n",
       "length_of_service       -0.010670           1.000000        -0.058403   \n",
       "no_of_trainings         -0.024896          -0.058403         1.000000   \n",
       "previous_year_rating     0.159320           0.001063        -0.058439   \n",
       "awards_won               0.195871          -0.040556        -0.004818   \n",
       "KPI                      0.221582          -0.077854        -0.043912   \n",
       "\n",
       "                      previous_year_rating  awards_won       KPI  \n",
       "age                               0.009137   -0.007357 -0.026223  \n",
       "avg_training_score                0.071813    0.072655  0.076729  \n",
       "employee_id                       0.001372    0.005943  0.000127  \n",
       "gender                           -0.023656    0.000553 -0.037916  \n",
       "is_promoted                       0.159320    0.195871  0.221582  \n",
       "length_of_service                 0.001063   -0.040556 -0.077854  \n",
       "no_of_trainings                  -0.058439   -0.004818 -0.043912  \n",
       "previous_year_rating              1.000000    0.027636  0.350921  \n",
       "awards_won                        0.027636    1.000000  0.100365  \n",
       "KPI                               0.350921    0.100365  1.000000  "
      ]
     },
     "execution_count": 20,
     "metadata": {},
     "output_type": "execute_result"
    }
   ],
   "source": [
    "df.corr()"
   ]
  },
  {
   "cell_type": "code",
   "execution_count": 21,
   "metadata": {},
   "outputs": [
    {
     "data": {
      "text/plain": [
       "Sales & Marketing    15917\n",
       "Operations           11079\n",
       "Technology            6558\n",
       "Procurement           6200\n",
       "Analytics             5681\n",
       "Finance               2683\n",
       "HR                    2210\n",
       "Legal                 1150\n",
       "R&D                    769\n",
       "Name: department, dtype: int64"
      ]
     },
     "execution_count": 21,
     "metadata": {},
     "output_type": "execute_result"
    }
   ],
   "source": [
    "df[df[\"education\"]==\"Bachelor's\"]['department'].value_counts()"
   ]
  },
  {
   "cell_type": "code",
   "execution_count": 22,
   "metadata": {},
   "outputs": [
    {
     "name": "stderr",
     "output_type": "stream",
     "text": [
      "C:\\Users\\Hp\\Anaconda3\\lib\\site-packages\\ipykernel_launcher.py:1: SettingWithCopyWarning: \n",
      "A value is trying to be set on a copy of a slice from a DataFrame\n",
      "\n",
      "See the caveats in the documentation: http://pandas.pydata.org/pandas-docs/stable/user_guide/indexing.html#returning-a-view-versus-a-copy\n",
      "  \"\"\"Entry point for launching an IPython kernel.\n"
     ]
    }
   ],
   "source": [
    "df.education[(df.education.isna())&(df.age<=26)]=\"Bachelor's\""
   ]
  },
  {
   "cell_type": "code",
   "execution_count": 23,
   "metadata": {},
   "outputs": [
    {
     "name": "stderr",
     "output_type": "stream",
     "text": [
      "C:\\Users\\Hp\\Anaconda3\\lib\\site-packages\\ipykernel_launcher.py:1: SettingWithCopyWarning: \n",
      "A value is trying to be set on a copy of a slice from a DataFrame\n",
      "\n",
      "See the caveats in the documentation: http://pandas.pydata.org/pandas-docs/stable/user_guide/indexing.html#returning-a-view-versus-a-copy\n",
      "  \"\"\"Entry point for launching an IPython kernel.\n"
     ]
    }
   ],
   "source": [
    "df.education[(df.education.isna())&(df.age>26)]=\"Master's & above\""
   ]
  },
  {
   "cell_type": "code",
   "execution_count": 24,
   "metadata": {},
   "outputs": [
    {
     "name": "stdout",
     "output_type": "stream",
     "text": [
      "<class 'pandas.core.frame.DataFrame'>\n",
      "MultiIndex: 78298 entries, (train, 0) to (test, 23489)\n",
      "Data columns (total 14 columns):\n",
      "age                     78298 non-null int64\n",
      "avg_training_score      78298 non-null int64\n",
      "department              78298 non-null object\n",
      "education               78298 non-null object\n",
      "employee_id             78298 non-null int64\n",
      "gender                  78298 non-null int32\n",
      "is_promoted             54808 non-null float64\n",
      "length_of_service       78298 non-null int64\n",
      "no_of_trainings         78298 non-null int64\n",
      "previous_year_rating    72362 non-null float64\n",
      "recruitment_channel     78298 non-null object\n",
      "region                  78298 non-null object\n",
      "awards_won              78298 non-null int64\n",
      "KPI                     78298 non-null int64\n",
      "dtypes: float64(2), int32(1), int64(7), object(4)\n",
      "memory usage: 8.9+ MB\n"
     ]
    }
   ],
   "source": [
    "df.info()"
   ]
  },
  {
   "cell_type": "code",
   "execution_count": 25,
   "metadata": {},
   "outputs": [
    {
     "data": {
      "text/plain": [
       "age                         0\n",
       "avg_training_score          0\n",
       "department                  0\n",
       "education                   0\n",
       "employee_id                 0\n",
       "gender                      0\n",
       "is_promoted             23490\n",
       "length_of_service           0\n",
       "no_of_trainings             0\n",
       "previous_year_rating     5936\n",
       "recruitment_channel         0\n",
       "region                      0\n",
       "awards_won                  0\n",
       "KPI                         0\n",
       "dtype: int64"
      ]
     },
     "execution_count": 25,
     "metadata": {},
     "output_type": "execute_result"
    }
   ],
   "source": [
    "df.isnull().sum()"
   ]
  },
  {
   "cell_type": "code",
   "execution_count": 26,
   "metadata": {},
   "outputs": [
    {
     "data": {
      "text/plain": [
       "3.0"
      ]
     },
     "execution_count": 26,
     "metadata": {},
     "output_type": "execute_result"
    }
   ],
   "source": [
    "df[\"previous_year_rating\"].mode()[0]"
   ]
  },
  {
   "cell_type": "code",
   "execution_count": 27,
   "metadata": {
    "scrolled": true
   },
   "outputs": [
    {
     "data": {
      "text/html": [
       "<div>\n",
       "<style scoped>\n",
       "    .dataframe tbody tr th:only-of-type {\n",
       "        vertical-align: middle;\n",
       "    }\n",
       "\n",
       "    .dataframe tbody tr th {\n",
       "        vertical-align: top;\n",
       "    }\n",
       "\n",
       "    .dataframe thead th {\n",
       "        text-align: right;\n",
       "    }\n",
       "</style>\n",
       "<table border=\"1\" class=\"dataframe\">\n",
       "  <thead>\n",
       "    <tr style=\"text-align: right;\">\n",
       "      <th></th>\n",
       "      <th>age</th>\n",
       "      <th>avg_training_score</th>\n",
       "      <th>employee_id</th>\n",
       "      <th>gender</th>\n",
       "      <th>is_promoted</th>\n",
       "      <th>length_of_service</th>\n",
       "      <th>no_of_trainings</th>\n",
       "      <th>previous_year_rating</th>\n",
       "      <th>awards_won</th>\n",
       "      <th>KPI</th>\n",
       "    </tr>\n",
       "  </thead>\n",
       "  <tbody>\n",
       "    <tr>\n",
       "      <td>age</td>\n",
       "      <td>1.000000</td>\n",
       "      <td>-0.044592</td>\n",
       "      <td>0.000586</td>\n",
       "      <td>-0.017816</td>\n",
       "      <td>-0.017166</td>\n",
       "      <td>0.653339</td>\n",
       "      <td>-0.082536</td>\n",
       "      <td>0.009137</td>\n",
       "      <td>-0.007357</td>\n",
       "      <td>-0.026223</td>\n",
       "    </tr>\n",
       "    <tr>\n",
       "      <td>avg_training_score</td>\n",
       "      <td>-0.044592</td>\n",
       "      <td>1.000000</td>\n",
       "      <td>-0.003930</td>\n",
       "      <td>-0.024840</td>\n",
       "      <td>0.181147</td>\n",
       "      <td>-0.035272</td>\n",
       "      <td>0.044180</td>\n",
       "      <td>0.071813</td>\n",
       "      <td>0.072655</td>\n",
       "      <td>0.076729</td>\n",
       "    </tr>\n",
       "    <tr>\n",
       "      <td>employee_id</td>\n",
       "      <td>0.000586</td>\n",
       "      <td>-0.003930</td>\n",
       "      <td>1.000000</td>\n",
       "      <td>-0.000263</td>\n",
       "      <td>0.001206</td>\n",
       "      <td>0.004420</td>\n",
       "      <td>-0.005216</td>\n",
       "      <td>0.001372</td>\n",
       "      <td>0.005943</td>\n",
       "      <td>0.000127</td>\n",
       "    </tr>\n",
       "    <tr>\n",
       "      <td>gender</td>\n",
       "      <td>-0.017816</td>\n",
       "      <td>-0.024840</td>\n",
       "      <td>-0.000263</td>\n",
       "      <td>1.000000</td>\n",
       "      <td>-0.011109</td>\n",
       "      <td>-0.017800</td>\n",
       "      <td>0.084530</td>\n",
       "      <td>-0.023656</td>\n",
       "      <td>0.000553</td>\n",
       "      <td>-0.037916</td>\n",
       "    </tr>\n",
       "    <tr>\n",
       "      <td>is_promoted</td>\n",
       "      <td>-0.017166</td>\n",
       "      <td>0.181147</td>\n",
       "      <td>0.001206</td>\n",
       "      <td>-0.011109</td>\n",
       "      <td>1.000000</td>\n",
       "      <td>-0.010670</td>\n",
       "      <td>-0.024896</td>\n",
       "      <td>0.159320</td>\n",
       "      <td>0.195871</td>\n",
       "      <td>0.221582</td>\n",
       "    </tr>\n",
       "    <tr>\n",
       "      <td>length_of_service</td>\n",
       "      <td>0.653339</td>\n",
       "      <td>-0.035272</td>\n",
       "      <td>0.004420</td>\n",
       "      <td>-0.017800</td>\n",
       "      <td>-0.010670</td>\n",
       "      <td>1.000000</td>\n",
       "      <td>-0.058403</td>\n",
       "      <td>0.001063</td>\n",
       "      <td>-0.040556</td>\n",
       "      <td>-0.077854</td>\n",
       "    </tr>\n",
       "    <tr>\n",
       "      <td>no_of_trainings</td>\n",
       "      <td>-0.082536</td>\n",
       "      <td>0.044180</td>\n",
       "      <td>-0.005216</td>\n",
       "      <td>0.084530</td>\n",
       "      <td>-0.024896</td>\n",
       "      <td>-0.058403</td>\n",
       "      <td>1.000000</td>\n",
       "      <td>-0.058439</td>\n",
       "      <td>-0.004818</td>\n",
       "      <td>-0.043912</td>\n",
       "    </tr>\n",
       "    <tr>\n",
       "      <td>previous_year_rating</td>\n",
       "      <td>0.009137</td>\n",
       "      <td>0.071813</td>\n",
       "      <td>0.001372</td>\n",
       "      <td>-0.023656</td>\n",
       "      <td>0.159320</td>\n",
       "      <td>0.001063</td>\n",
       "      <td>-0.058439</td>\n",
       "      <td>1.000000</td>\n",
       "      <td>0.027636</td>\n",
       "      <td>0.350921</td>\n",
       "    </tr>\n",
       "    <tr>\n",
       "      <td>awards_won</td>\n",
       "      <td>-0.007357</td>\n",
       "      <td>0.072655</td>\n",
       "      <td>0.005943</td>\n",
       "      <td>0.000553</td>\n",
       "      <td>0.195871</td>\n",
       "      <td>-0.040556</td>\n",
       "      <td>-0.004818</td>\n",
       "      <td>0.027636</td>\n",
       "      <td>1.000000</td>\n",
       "      <td>0.100365</td>\n",
       "    </tr>\n",
       "    <tr>\n",
       "      <td>KPI</td>\n",
       "      <td>-0.026223</td>\n",
       "      <td>0.076729</td>\n",
       "      <td>0.000127</td>\n",
       "      <td>-0.037916</td>\n",
       "      <td>0.221582</td>\n",
       "      <td>-0.077854</td>\n",
       "      <td>-0.043912</td>\n",
       "      <td>0.350921</td>\n",
       "      <td>0.100365</td>\n",
       "      <td>1.000000</td>\n",
       "    </tr>\n",
       "  </tbody>\n",
       "</table>\n",
       "</div>"
      ],
      "text/plain": [
       "                           age  avg_training_score  employee_id    gender  \\\n",
       "age                   1.000000           -0.044592     0.000586 -0.017816   \n",
       "avg_training_score   -0.044592            1.000000    -0.003930 -0.024840   \n",
       "employee_id           0.000586           -0.003930     1.000000 -0.000263   \n",
       "gender               -0.017816           -0.024840    -0.000263  1.000000   \n",
       "is_promoted          -0.017166            0.181147     0.001206 -0.011109   \n",
       "length_of_service     0.653339           -0.035272     0.004420 -0.017800   \n",
       "no_of_trainings      -0.082536            0.044180    -0.005216  0.084530   \n",
       "previous_year_rating  0.009137            0.071813     0.001372 -0.023656   \n",
       "awards_won           -0.007357            0.072655     0.005943  0.000553   \n",
       "KPI                  -0.026223            0.076729     0.000127 -0.037916   \n",
       "\n",
       "                      is_promoted  length_of_service  no_of_trainings  \\\n",
       "age                     -0.017166           0.653339        -0.082536   \n",
       "avg_training_score       0.181147          -0.035272         0.044180   \n",
       "employee_id              0.001206           0.004420        -0.005216   \n",
       "gender                  -0.011109          -0.017800         0.084530   \n",
       "is_promoted              1.000000          -0.010670        -0.024896   \n",
       "length_of_service       -0.010670           1.000000        -0.058403   \n",
       "no_of_trainings         -0.024896          -0.058403         1.000000   \n",
       "previous_year_rating     0.159320           0.001063        -0.058439   \n",
       "awards_won               0.195871          -0.040556        -0.004818   \n",
       "KPI                      0.221582          -0.077854        -0.043912   \n",
       "\n",
       "                      previous_year_rating  awards_won       KPI  \n",
       "age                               0.009137   -0.007357 -0.026223  \n",
       "avg_training_score                0.071813    0.072655  0.076729  \n",
       "employee_id                       0.001372    0.005943  0.000127  \n",
       "gender                           -0.023656    0.000553 -0.037916  \n",
       "is_promoted                       0.159320    0.195871  0.221582  \n",
       "length_of_service                 0.001063   -0.040556 -0.077854  \n",
       "no_of_trainings                  -0.058439   -0.004818 -0.043912  \n",
       "previous_year_rating              1.000000    0.027636  0.350921  \n",
       "awards_won                        0.027636    1.000000  0.100365  \n",
       "KPI                               0.350921    0.100365  1.000000  "
      ]
     },
     "execution_count": 27,
     "metadata": {},
     "output_type": "execute_result"
    }
   ],
   "source": [
    "df.corr()"
   ]
  },
  {
   "cell_type": "code",
   "execution_count": 28,
   "metadata": {},
   "outputs": [
    {
     "data": {
      "text/plain": [
       "0    50578\n",
       "1    27720\n",
       "Name: KPI, dtype: int64"
      ]
     },
     "execution_count": 28,
     "metadata": {},
     "output_type": "execute_result"
    }
   ],
   "source": [
    "df.KPI.value_counts()"
   ]
  },
  {
   "cell_type": "code",
   "execution_count": 29,
   "metadata": {},
   "outputs": [],
   "source": [
    "#df.previous_year_rating[(df.previous_year_rating.isna())&(df.awards_won==1)&(df.KPI==1)]=5"
   ]
  },
  {
   "cell_type": "code",
   "execution_count": 30,
   "metadata": {},
   "outputs": [],
   "source": [
    "#df.previous_year_rating[(df.previous_year_rating.isna())&(df.awards_won==0)&(df.KPI==1)]=4"
   ]
  },
  {
   "cell_type": "code",
   "execution_count": 31,
   "metadata": {},
   "outputs": [],
   "source": [
    "#df.previous_year_rating[(df.previous_year_rating.isna())&(df.awards_won==1)&(df.KPI==0)]=3"
   ]
  },
  {
   "cell_type": "code",
   "execution_count": 32,
   "metadata": {},
   "outputs": [
    {
     "data": {
      "text/plain": [
       "age                         0\n",
       "avg_training_score          0\n",
       "department                  0\n",
       "education                   0\n",
       "employee_id                 0\n",
       "gender                      0\n",
       "is_promoted             23490\n",
       "length_of_service           0\n",
       "no_of_trainings             0\n",
       "previous_year_rating     5936\n",
       "recruitment_channel         0\n",
       "region                      0\n",
       "awards_won                  0\n",
       "KPI                         0\n",
       "dtype: int64"
      ]
     },
     "execution_count": 32,
     "metadata": {},
     "output_type": "execute_result"
    }
   ],
   "source": [
    "df.isnull().sum()"
   ]
  },
  {
   "cell_type": "code",
   "execution_count": 33,
   "metadata": {},
   "outputs": [
    {
     "data": {
      "text/plain": [
       "3.0    26539\n",
       "5.0    16838\n",
       "4.0    14126\n",
       "1.0     8903\n",
       "2.0     5956\n",
       "Name: previous_year_rating, dtype: int64"
      ]
     },
     "execution_count": 33,
     "metadata": {},
     "output_type": "execute_result"
    }
   ],
   "source": [
    "df.previous_year_rating.value_counts() "
   ]
  },
  {
   "cell_type": "code",
   "execution_count": 34,
   "metadata": {},
   "outputs": [],
   "source": [
    "#df.previous_year_rating[(df.previous_year_rating.isna())&(df.awards_won==0)&(df.KPI==0)&(df.age>=35)]=3"
   ]
  },
  {
   "cell_type": "code",
   "execution_count": 35,
   "metadata": {},
   "outputs": [],
   "source": [
    "#df.previous_year_rating[(df.previous_year_rating.isna())&(df.awards_won==0)&(df.KPI==0)&(df.age<35)&(df.age>=25)]=2"
   ]
  },
  {
   "cell_type": "code",
   "execution_count": 36,
   "metadata": {},
   "outputs": [],
   "source": [
    "#df.previous_year_rating[(df.previous_year_rating.isna())&(df.awards_won==0)&(df.KPI==0)&(df.age<25)]=1"
   ]
  },
  {
   "cell_type": "code",
   "execution_count": 37,
   "metadata": {},
   "outputs": [],
   "source": [
    "df[\"previous_year_rating\"].fillna(\"3\",inplace=True)"
   ]
  },
  {
   "cell_type": "code",
   "execution_count": 38,
   "metadata": {},
   "outputs": [
    {
     "data": {
      "text/plain": [
       "age                         0\n",
       "avg_training_score          0\n",
       "department                  0\n",
       "education                   0\n",
       "employee_id                 0\n",
       "gender                      0\n",
       "is_promoted             23490\n",
       "length_of_service           0\n",
       "no_of_trainings             0\n",
       "previous_year_rating        0\n",
       "recruitment_channel         0\n",
       "region                      0\n",
       "awards_won                  0\n",
       "KPI                         0\n",
       "dtype: int64"
      ]
     },
     "execution_count": 38,
     "metadata": {},
     "output_type": "execute_result"
    }
   ],
   "source": [
    "df.isnull().sum()"
   ]
  },
  {
   "cell_type": "code",
   "execution_count": 44,
   "metadata": {},
   "outputs": [],
   "source": [
    "#df.previous_year_rating[(df.previous_year_rating.isna())&(df.awards_won==0)&(df.KPI==0)&(df.age<35)&(df.age>25)]=1\n",
    "df[\"previous_year_rating\"]=df[\"previous_year_rating\"].astype(int)"
   ]
  },
  {
   "cell_type": "code",
   "execution_count": 47,
   "metadata": {},
   "outputs": [],
   "source": [
    "df[\"performance\"]=df[\"KPI\"]+df[\"awards_won\"]+df[\"previous_year_rating\"]\n",
    "df[\"total training\"]=df[\"avg_training_score\"]*df[\"no_of_trainings\"]"
   ]
  },
  {
   "cell_type": "code",
   "execution_count": 48,
   "metadata": {},
   "outputs": [
    {
     "name": "stdout",
     "output_type": "stream",
     "text": [
      "<class 'pandas.core.frame.DataFrame'>\n",
      "MultiIndex: 78298 entries, (train, 0) to (test, 23489)\n",
      "Data columns (total 16 columns):\n",
      "age                     78298 non-null int64\n",
      "avg_training_score      78298 non-null int64\n",
      "department              78298 non-null object\n",
      "education               78298 non-null object\n",
      "employee_id             78298 non-null int64\n",
      "gender                  78298 non-null int32\n",
      "is_promoted             54808 non-null float64\n",
      "length_of_service       78298 non-null int64\n",
      "no_of_trainings         78298 non-null int64\n",
      "previous_year_rating    78298 non-null int32\n",
      "recruitment_channel     78298 non-null object\n",
      "region                  78298 non-null object\n",
      "awards_won              78298 non-null int64\n",
      "KPI                     78298 non-null int64\n",
      "performance             78298 non-null int64\n",
      "total training          78298 non-null int64\n",
      "dtypes: float64(1), int32(2), int64(9), object(4)\n",
      "memory usage: 9.8+ MB\n"
     ]
    }
   ],
   "source": [
    "df.info()"
   ]
  },
  {
   "cell_type": "code",
   "execution_count": 49,
   "metadata": {},
   "outputs": [],
   "source": [
    "df=df.drop([\"recruitment_channel\",\"region\"],axis=1)"
   ]
  },
  {
   "cell_type": "code",
   "execution_count": 50,
   "metadata": {},
   "outputs": [],
   "source": [
    "df_dum=pd.get_dummies(df[df.select_dtypes(include=[\"object\"]).columns.tolist()])\n",
    "df_num=df[df.select_dtypes(include=[\"number\"]).columns.tolist()]\n",
    "ddf=pd.concat([df_num,df_dum],axis=1)"
   ]
  },
  {
   "cell_type": "code",
   "execution_count": 51,
   "metadata": {},
   "outputs": [
    {
     "name": "stdout",
     "output_type": "stream",
     "text": [
      "<class 'pandas.core.frame.DataFrame'>\n",
      "MultiIndex: 78298 entries, (train, 0) to (test, 23489)\n",
      "Data columns (total 24 columns):\n",
      "age                             78298 non-null int64\n",
      "avg_training_score              78298 non-null int64\n",
      "employee_id                     78298 non-null int64\n",
      "gender                          78298 non-null int32\n",
      "is_promoted                     54808 non-null float64\n",
      "length_of_service               78298 non-null int64\n",
      "no_of_trainings                 78298 non-null int64\n",
      "previous_year_rating            78298 non-null int32\n",
      "awards_won                      78298 non-null int64\n",
      "KPI                             78298 non-null int64\n",
      "performance                     78298 non-null int64\n",
      "total training                  78298 non-null int64\n",
      "department_Analytics            78298 non-null uint8\n",
      "department_Finance              78298 non-null uint8\n",
      "department_HR                   78298 non-null uint8\n",
      "department_Legal                78298 non-null uint8\n",
      "department_Operations           78298 non-null uint8\n",
      "department_Procurement          78298 non-null uint8\n",
      "department_R&D                  78298 non-null uint8\n",
      "department_Sales & Marketing    78298 non-null uint8\n",
      "department_Technology           78298 non-null uint8\n",
      "education_Bachelor's            78298 non-null uint8\n",
      "education_Below Secondary       78298 non-null uint8\n",
      "education_Master's & above      78298 non-null uint8\n",
      "dtypes: float64(1), int32(2), int64(9), uint8(12)\n",
      "memory usage: 8.3+ MB\n"
     ]
    }
   ],
   "source": [
    "ddf.info()"
   ]
  },
  {
   "cell_type": "code",
   "execution_count": 52,
   "metadata": {},
   "outputs": [],
   "source": [
    "x=ddf.drop([\"is_promoted\",\"employee_id\"],axis=1)"
   ]
  },
  {
   "cell_type": "code",
   "execution_count": 53,
   "metadata": {},
   "outputs": [],
   "source": [
    "y=ddf[\"is_promoted\"]"
   ]
  },
  {
   "cell_type": "code",
   "execution_count": 54,
   "metadata": {},
   "outputs": [],
   "source": [
    "x_train=x.iloc[:54808,:]\n",
    "x_test=x.iloc[54808:,:]"
   ]
  },
  {
   "cell_type": "code",
   "execution_count": 55,
   "metadata": {},
   "outputs": [
    {
     "data": {
      "text/plain": [
       "age                             0\n",
       "avg_training_score              0\n",
       "gender                          0\n",
       "length_of_service               0\n",
       "no_of_trainings                 0\n",
       "previous_year_rating            0\n",
       "awards_won                      0\n",
       "KPI                             0\n",
       "performance                     0\n",
       "total training                  0\n",
       "department_Analytics            0\n",
       "department_Finance              0\n",
       "department_HR                   0\n",
       "department_Legal                0\n",
       "department_Operations           0\n",
       "department_Procurement          0\n",
       "department_R&D                  0\n",
       "department_Sales & Marketing    0\n",
       "department_Technology           0\n",
       "education_Bachelor's            0\n",
       "education_Below Secondary       0\n",
       "education_Master's & above      0\n",
       "dtype: int64"
      ]
     },
     "execution_count": 55,
     "metadata": {},
     "output_type": "execute_result"
    }
   ],
   "source": [
    "x_train.isnull().sum()"
   ]
  },
  {
   "cell_type": "code",
   "execution_count": 56,
   "metadata": {},
   "outputs": [],
   "source": [
    "y_train=y.iloc[:54808,]\n",
    "y_test=y.iloc[:54808,]"
   ]
  },
  {
   "cell_type": "code",
   "execution_count": 41,
   "metadata": {},
   "outputs": [],
   "source": [
    "from sklearn.linear_model import LogisticRegression"
   ]
  },
  {
   "cell_type": "code",
   "execution_count": 136,
   "metadata": {},
   "outputs": [
    {
     "name": "stderr",
     "output_type": "stream",
     "text": [
      "C:\\Users\\Hp\\Anaconda3\\lib\\site-packages\\sklearn\\linear_model\\logistic.py:432: FutureWarning: Default solver will be changed to 'lbfgs' in 0.22. Specify a solver to silence this warning.\n",
      "  FutureWarning)\n"
     ]
    },
    {
     "data": {
      "text/plain": [
       "LogisticRegression(C=1.0, class_weight='balanced', dual=False,\n",
       "                   fit_intercept=True, intercept_scaling=1, l1_ratio=None,\n",
       "                   max_iter=100, multi_class='warn', n_jobs=None, penalty='l2',\n",
       "                   random_state=None, solver='warn', tol=0.0001, verbose=0,\n",
       "                   warm_start=False)"
      ]
     },
     "execution_count": 136,
     "metadata": {},
     "output_type": "execute_result"
    }
   ],
   "source": [
    "lr=LogisticRegression(class_weight=\"balanced\")\n",
    "lr.fit(x_train,y_train)"
   ]
  },
  {
   "cell_type": "code",
   "execution_count": 137,
   "metadata": {},
   "outputs": [],
   "source": [
    "y_train_pred=lr.predict(x_train)"
   ]
  },
  {
   "cell_type": "code",
   "execution_count": 138,
   "metadata": {},
   "outputs": [],
   "source": [
    "from sklearn.metrics import accuracy_score,f1_score,precision_score,recall_score,roc_auc_score\n"
   ]
  },
  {
   "cell_type": "code",
   "execution_count": 139,
   "metadata": {},
   "outputs": [
    {
     "data": {
      "text/plain": [
       "0.7648153554225661"
      ]
     },
     "execution_count": 139,
     "metadata": {},
     "output_type": "execute_result"
    }
   ],
   "source": [
    "acc=accuracy_score(y_train,y_train_pred)\n",
    "acc"
   ]
  },
  {
   "cell_type": "code",
   "execution_count": 553,
   "metadata": {},
   "outputs": [],
   "source": [
    "y_pred=lr.predict(x_test)"
   ]
  },
  {
   "cell_type": "code",
   "execution_count": 554,
   "metadata": {},
   "outputs": [],
   "source": [
    "w1=pd.DataFrame(y_pred)\n",
    "w2=pd.DataFrame(df2[\"employee_id\"])\n",
    "w=pd.concat([w1,w2],axis=1)\n",
    "w.to_csv('E:/promo.csv')"
   ]
  },
  {
   "cell_type": "code",
   "execution_count": 555,
   "metadata": {},
   "outputs": [],
   "source": [
    "from sklearn import tree\n"
   ]
  },
  {
   "cell_type": "code",
   "execution_count": 556,
   "metadata": {},
   "outputs": [],
   "source": [
    "dt=tree.DecisionTreeClassifier()"
   ]
  },
  {
   "cell_type": "code",
   "execution_count": 557,
   "metadata": {},
   "outputs": [
    {
     "data": {
      "text/plain": [
       "DecisionTreeClassifier(class_weight=None, criterion='gini', max_depth=None,\n",
       "                       max_features=None, max_leaf_nodes=None,\n",
       "                       min_impurity_decrease=0.0, min_impurity_split=None,\n",
       "                       min_samples_leaf=1, min_samples_split=2,\n",
       "                       min_weight_fraction_leaf=0.0, presort=False,\n",
       "                       random_state=None, splitter='best')"
      ]
     },
     "execution_count": 557,
     "metadata": {},
     "output_type": "execute_result"
    }
   ],
   "source": [
    "dt.fit(x_train,y_train)"
   ]
  },
  {
   "cell_type": "code",
   "execution_count": 558,
   "metadata": {},
   "outputs": [],
   "source": [
    "y_train_pred1=dt.predict(x_train)\n"
   ]
  },
  {
   "cell_type": "code",
   "execution_count": 559,
   "metadata": {},
   "outputs": [
    {
     "data": {
      "text/plain": [
       "0.9997628083491461"
      ]
     },
     "execution_count": 559,
     "metadata": {},
     "output_type": "execute_result"
    }
   ],
   "source": [
    "acc1=accuracy_score(y_train_pred1,y_train)\n",
    "acc1"
   ]
  },
  {
   "cell_type": "code",
   "execution_count": null,
   "metadata": {},
   "outputs": [],
   "source": []
  },
  {
   "cell_type": "code",
   "execution_count": 560,
   "metadata": {},
   "outputs": [
    {
     "data": {
      "text/plain": [
       "0.9899102320829076"
      ]
     },
     "execution_count": 560,
     "metadata": {},
     "output_type": "execute_result"
    }
   ],
   "source": [
    "from sklearn.ensemble import RandomForestClassifier\n",
    "rf=RandomForestClassifier(n_estimators=10)\n",
    "rf.fit(x_train,y_train)\n",
    "y_train_pred2=rf.predict(x_train)\n",
    "from sklearn.metrics import accuracy_score,f1_score,precision_score,recall_score,roc_auc_score\n",
    "a1=accuracy_score(y_train,y_train_pred2)\n",
    "a1"
   ]
  },
  {
   "cell_type": "code",
   "execution_count": 561,
   "metadata": {},
   "outputs": [],
   "source": [
    "y_pred2=rf.predict(x_test)"
   ]
  },
  {
   "cell_type": "code",
   "execution_count": 562,
   "metadata": {},
   "outputs": [],
   "source": [
    "w1=pd.DataFrame(y_pred2)\n",
    "w2=pd.DataFrame(df2[\"employee_id\"])\n",
    "w=pd.concat([w2,w1],axis=1)\n",
    "w.to_csv('E:/promo1.csv')"
   ]
  },
  {
   "cell_type": "code",
   "execution_count": 57,
   "metadata": {},
   "outputs": [],
   "source": [
    "from sklearn.svm import SVC"
   ]
  },
  {
   "cell_type": "code",
   "execution_count": 58,
   "metadata": {},
   "outputs": [],
   "source": [
    "classifier=SVC(kernel=\"rbf\")"
   ]
  },
  {
   "cell_type": "code",
   "execution_count": 59,
   "metadata": {},
   "outputs": [
    {
     "name": "stderr",
     "output_type": "stream",
     "text": [
      "C:\\Users\\Hp\\Anaconda3\\lib\\site-packages\\sklearn\\svm\\base.py:193: FutureWarning: The default value of gamma will change from 'auto' to 'scale' in version 0.22 to account better for unscaled features. Set gamma explicitly to 'auto' or 'scale' to avoid this warning.\n",
      "  \"avoid this warning.\", FutureWarning)\n"
     ]
    },
    {
     "data": {
      "text/plain": [
       "SVC(C=1.0, cache_size=200, class_weight=None, coef0=0.0,\n",
       "    decision_function_shape='ovr', degree=3, gamma='auto_deprecated',\n",
       "    kernel='rbf', max_iter=-1, probability=False, random_state=None,\n",
       "    shrinking=True, tol=0.001, verbose=False)"
      ]
     },
     "execution_count": 59,
     "metadata": {},
     "output_type": "execute_result"
    }
   ],
   "source": [
    "classifier.fit(x_train,y_train)"
   ]
  },
  {
   "cell_type": "code",
   "execution_count": 60,
   "metadata": {},
   "outputs": [],
   "source": [
    "y_pred0=classifier.predict(x_test)"
   ]
  },
  {
   "cell_type": "code",
   "execution_count": 61,
   "metadata": {},
   "outputs": [],
   "source": [
    "w1=pd.DataFrame(y_pred0)\n",
    "w2=pd.DataFrame(df2[\"employee_id\"])\n",
    "w=pd.concat([w2,w1],axis=1)\n",
    "w.to_csv('E:/promoo.csv')"
   ]
  },
  {
   "cell_type": "code",
   "execution_count": 41,
   "metadata": {},
   "outputs": [],
   "source": [
    "from sklearn.svm import SVC\n",
    "classifier=SVC(kernel=\"linear\")\n",
    "classifier.fit(x_train,y_train)\n",
    "y_pred9=classifier.predict(x_test)\n",
    "w1=pd.DataFrame(y_pred9)\n",
    "w2=pd.DataFrame(df2[\"employee_id\"])\n",
    "w=pd.concat([w2,w1],axis=1)\n",
    "w.to_csv('E:/promoo1.csv')"
   ]
  },
  {
   "cell_type": "code",
   "execution_count": 63,
   "metadata": {},
   "outputs": [
    {
     "name": "stdout",
     "output_type": "stream",
     "text": [
      "Collecting lightgbm\n",
      "  Downloading https://files.pythonhosted.org/packages/1f/cb/a8ec24334c35a7d0c87b4e4e056bd2137573c7c1bd81c760b79a2f370254/lightgbm-2.3.1-py2.py3-none-win_amd64.whl (544kB)\n",
      "Requirement already satisfied: numpy in c:\\users\\hp\\anaconda3\\lib\\site-packages (from lightgbm) (1.16.5)\n",
      "Requirement already satisfied: scipy in c:\\users\\hp\\anaconda3\\lib\\site-packages (from lightgbm) (1.3.1)\n",
      "Requirement already satisfied: scikit-learn in c:\\users\\hp\\anaconda3\\lib\\site-packages (from lightgbm) (0.21.3)\n",
      "Requirement already satisfied: joblib>=0.11 in c:\\users\\hp\\anaconda3\\lib\\site-packages (from scikit-learn->lightgbm) (0.13.2)\n",
      "Installing collected packages: lightgbm\n",
      "Successfully installed lightgbm-2.3.1\n"
     ]
    }
   ],
   "source": [
    "!pip install lightgbm"
   ]
  },
  {
   "cell_type": "code",
   "execution_count": 65,
   "metadata": {
    "scrolled": true
   },
   "outputs": [
    {
     "data": {
      "text/plain": [
       "LGBMClassifier(boosting_type='gbdt', class_weight=None, colsample_bytree=1.0,\n",
       "               importance_type='split', learning_rate=0.1, max_depth=-1,\n",
       "               min_child_samples=20, min_child_weight=0.001, min_split_gain=0.0,\n",
       "               n_estimators=100, n_jobs=-1, num_leaves=31, objective=None,\n",
       "               random_state=None, reg_alpha=0.0, reg_lambda=0.0, silent=True,\n",
       "               subsample=1.0, subsample_for_bin=200000, subsample_freq=0)"
      ]
     },
     "execution_count": 65,
     "metadata": {},
     "output_type": "execute_result"
    }
   ],
   "source": [
    "import lightgbm as lgb\n",
    "model = lgb.LGBMClassifier()\n",
    "model.fit(x_train,y_train)"
   ]
  },
  {
   "cell_type": "code",
   "execution_count": 70,
   "metadata": {},
   "outputs": [],
   "source": [
    "from sklearn.metrics import accuracy_score\n",
    "predict_train = model.predict(x_train)\n",
    "accuracy_train = accuracy_score(y_train,predict_train)"
   ]
  },
  {
   "cell_type": "code",
   "execution_count": 71,
   "metadata": {},
   "outputs": [
    {
     "name": "stdout",
     "output_type": "stream",
     "text": [
      "0.9446796088162313\n"
     ]
    }
   ],
   "source": [
    "print(accuracy_train)"
   ]
  },
  {
   "cell_type": "code",
   "execution_count": 72,
   "metadata": {},
   "outputs": [],
   "source": [
    "predict_test = model.predict(x_test)"
   ]
  },
  {
   "cell_type": "code",
   "execution_count": 73,
   "metadata": {},
   "outputs": [],
   "source": [
    "w1=pd.DataFrame(predict_test)\n",
    "w2=pd.DataFrame(df2[\"employee_id\"])\n",
    "w=pd.concat([w2,w1],axis=1)\n",
    "w.to_csv('E:/promoo2.csv')"
   ]
  },
  {
   "cell_type": "code",
   "execution_count": null,
   "metadata": {},
   "outputs": [],
   "source": []
  }
 ],
 "metadata": {
  "kernelspec": {
   "display_name": "Python 3",
   "language": "python",
   "name": "python3"
  },
  "language_info": {
   "codemirror_mode": {
    "name": "ipython",
    "version": 3
   },
   "file_extension": ".py",
   "mimetype": "text/x-python",
   "name": "python",
   "nbconvert_exporter": "python",
   "pygments_lexer": "ipython3",
   "version": "3.7.6"
  }
 },
 "nbformat": 4,
 "nbformat_minor": 2
}
